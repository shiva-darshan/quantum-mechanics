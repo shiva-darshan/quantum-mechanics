{
 "cells": [
  {
   "cell_type": "markdown",
   "id": "conditional-elizabeth",
   "metadata": {},
   "source": [
    "# **1st Brillouin Zone of A Face Centered Cubic and A Body Centered Cubic**"
   ]
  },
  {
   "cell_type": "markdown",
   "id": "strange-injury",
   "metadata": {},
   "source": [
    "<i class=\"fa fa-home fa-2x\"></i><a href=\"../index.ipynb\" style=\"font-size: 20px\"> Go back to index</a>\n",
    "\n",
    "**Source code:** https://github.com/osscar-org/quantum-mechanics/blob/develop/notebook/band-theory/bcc_fcc.ipynb\n",
    "\n",
    "In this notebook, we demonstrates the three-dimensional structure of the 1st Brillouin zone for\n",
    "a face centered cubic (FCC) and a body centered cubic (BCC).\n",
    "\n",
    "<hr style=\"height:1px;border:none;color:#cccccc;background-color:#cccccc;\" />"
   ]
  },
  {
   "cell_type": "markdown",
   "id": "infrared-calculation",
   "metadata": {},
   "source": [
    "te industrial value while satisfying human desire to understand the processes that form and transform materials around us.\n",
    "The lecture will take place on the EPFL campus, in room BCH2103 (Batochime building) and will be broadcasted live on Zoom.## **Goals**\n",
    "\n",
    "* Understand the lattice structure.\n",
    "* Know the relation between real space and reciprocal space.\n",
    "* Know the definition of the Brillouin zone.\n",
    "* Know how to construct the 1st Brillouin zone."
   ]
  },
  {
   "cell_type": "markdown",
   "id": "988d7fae-3956-414f-968f-c9c35dcd9155",
   "metadata": {},
   "source": [
    "## **Background theory** \n",
    "\n",
    "[More on the background theory.](./theory/theory_bcc_fcc.ipynb)"
   ]
  },
  {
   "cell_type": "markdown",
   "id": "d8af9472-5481-4d1c-90f1-81da971ab6c1",
   "metadata": {},
   "source": [
    "## **Tasks and exercises**\n",
    "\n",
    "1. Investigate the role of the cutoff radius\n",
    "    \n",
    "    <details>\n",
    "    <summary>Hints</summary>\n",
    "        Move the slide for $R_c$ and press the button \"Compute pseudopotential\" to obtain \n",
    "        the results. Check if there are values for which no solutions can be found. \n",
    "        Inspect how different the pseudopotential is from the Coulomb potential.\n",
    "    </details>\n",
    "    \n",
    "<hr style=\"height:1px;border:none;color:#cccccc;background-color:#cccccc;\" />"
   ]
  },
  {
   "cell_type": "markdown",
   "id": "265b5e68-f58c-40f5-a0b9-b5b7cd40e00b",
   "metadata": {},
   "source": [
    "## Interactive visualization\n",
    "(be patient, it might take a few seconds to load)"
   ]
  },
  {
   "cell_type": "code",
   "execution_count": null,
   "id": "posted-injection",
   "metadata": {},
   "outputs": [],
   "source": [
    "from widget_bzvisualizer import BZVisualizer\n",
    "import nglview as nv\n",
    "from ipywidgets import HBox, FloatSlider, HTML"
   ]
  },
  {
   "cell_type": "code",
   "execution_count": null,
   "id": "1c9f8b69-a94a-4046-be07-34e95ffa6a6e",
   "metadata": {},
   "outputs": [],
   "source": [
    "a = 3.6\n",
    "c = 3.6\n",
    "\n",
    "slider_c = FloatSlider(value = 3.6, min = 2.0, max = 10.0, step = 0.02, \n",
    "                       description = \"Lattice parameter c:\", \n",
    "                       continuous_update = False,\n",
    "                       style = {'description_width': 'initial'})"
   ]
  },
  {
   "cell_type": "code",
   "execution_count": null,
   "id": "e671bd6d-6646-4c00-ab7c-21bc5c848673",
   "metadata": {},
   "outputs": [],
   "source": [
    "from ase.lattice.orthorhombic import FaceCenteredOrthorhombic\n",
    "\n",
    "mat = FaceCenteredOrthorhombic(directions=[[1, 0, 0], [0, 1, 0], [0, 0, 1]],\n",
    "                          size=(2, 2, 2), symbol='Cu', pbc=(0, 0, 0), \n",
    "                          latticeconstant={'a': a, 'b': a, 'c': c})"
   ]
  },
  {
   "cell_type": "code",
   "execution_count": null,
   "id": "f43799f3-0377-4613-8a23-2bf343b02c3b",
   "metadata": {},
   "outputs": [],
   "source": [
    "m = nv.NGLWidget(width='400px', height='400px')\n",
    "m.background='white'\n",
    "\n",
    "def plot_in_nglview():\n",
    "    global c1, l1, l2, l3, l4, l5, l6, l7, l8, l9, l10, l11, l12\n",
    "    global r1, r2, r3, r4, r5, r6, r7, r8, r9, r10, r11, r12\n",
    "    m.clear()\n",
    "    c1 = m.add_component(nv.ASEStructure(mat))\n",
    "    m.clear()\n",
    "    m.add_ball_and_stick()\n",
    "    #m.add_unitcell()\n",
    "\n",
    "    l1 = m.shape.add_cylinder(mat[0].position.tolist(), mat[4].position.tolist(), [1, 0, 0], 0.2)\n",
    "    l2 = m.shape.add_cylinder(mat[4].position.tolist(), mat[12].position.tolist(), [1, 0, 0], 0.2)\n",
    "    l3 = m.shape.add_cylinder(mat[12].position.tolist(), mat[8].position.tolist(), [1, 0, 0], 0.2)\n",
    "    l4 = m.shape.add_cylinder(mat[0].position.tolist(), mat[8].position.tolist(), [1, 0, 0], 0.2)\n",
    "    l5 = m.shape.add_cylinder(mat[0].position.tolist(), mat[16].position.tolist(), [1, 0, 0], 0.2)\n",
    "    l6 = m.shape.add_cylinder(mat[8].position.tolist(), mat[24].position.tolist(), [1, 0, 0], 0.2)\n",
    "    l7 = m.shape.add_cylinder(mat[16].position.tolist(), mat[24].position.tolist(), [1, 0, 0], 0.2)\n",
    "    l8 = m.shape.add_cylinder(mat[4].position.tolist(), mat[20].position.tolist(), [1, 0, 0], 0.2)\n",
    "    l9 = m.shape.add_cylinder(mat[20].position.tolist(), mat[16].position.tolist(), [1, 0, 0], 0.2)\n",
    "    l10 = m.shape.add_cylinder(mat[20].position.tolist(), mat[28].position.tolist(), [1, 0, 0], 0.2)\n",
    "    l11 = m.shape.add_cylinder(mat[28].position.tolist(), mat[24].position.tolist(), [1, 0, 0], 0.2)\n",
    "    l12 = m.shape.add_cylinder(mat[28].position.tolist(), mat[12].position.tolist(), [1, 0, 0], 0.2)\n",
    "\n",
    "    r1 = m.shape.add_cylinder(mat[1].position.tolist(), mat[12].position.tolist(), [0, 0, 1], 0.2)\n",
    "    r2 = m.shape.add_cylinder(mat[1].position.tolist(), mat[8].position.tolist(), [0, 0, 1], 0.2)\n",
    "    r3 = m.shape.add_cylinder(mat[9].position.tolist(), mat[12].position.tolist(), [0, 0, 1], 0.2)\n",
    "    r4 = m.shape.add_cylinder(mat[9].position.tolist(), mat[8].position.tolist(), [0, 0, 1], 0.2)\n",
    "    r5 = m.shape.add_cylinder(mat[8].position.tolist(), mat[24].position.tolist(), [0, 0, 1], 0.2)\n",
    "    r6 = m.shape.add_cylinder(mat[9].position.tolist(), mat[25].position.tolist(), [0, 0, 1], 0.2)\n",
    "    r7 = m.shape.add_cylinder(mat[12].position.tolist(), mat[28].position.tolist(), [0, 0, 1], 0.2)\n",
    "    r8 = m.shape.add_cylinder(mat[1].position.tolist(), mat[17].position.tolist(), [0, 0, 1], 0.2)\n",
    "    r9 = m.shape.add_cylinder(mat[24].position.tolist(), mat[25].position.tolist(), [0, 0, 1], 0.2)\n",
    "    r10 = m.shape.add_cylinder(mat[24].position.tolist(), mat[17].position.tolist(), [0, 0, 1], 0.2)\n",
    "    r11 = m.shape.add_cylinder(mat[28].position.tolist(), mat[25].position.tolist(), [0, 0, 1], 0.2)\n",
    "    r12 = m.shape.add_cylinder(mat[28].position.tolist(), mat[17].position.tolist(), [0, 0, 1], 0.2)\n",
    "\n",
    "\n",
    "plot_in_nglview()\n",
    "mpos = [];\n",
    "msym = [];\n",
    "\n",
    "#The structure for the primar unit cell\n",
    "mat1 = FaceCenteredOrthorhombic(directions=[[1, 0, 0], [0, 1, 0], [0, 0, 1]],\n",
    "                          size=(1, 1, 1), symbol='Cu', pbc=(0, 0, 0), \n",
    "                          latticeconstant={'a': a, 'b': a, 'c': c})\n",
    "\n",
    "cella = (mat1[1].position - mat1[0].position).tolist()\n",
    "cellb = (mat1[2].position - mat1[0].position).tolist()\n",
    "cellc = (mat1[3].position - mat1[0].position).tolist()\n",
    "\n",
    "w = BZVisualizer([cella, cellb, cellc], [mat1[0].position.tolist()], [58], width=\"400px\", height='400px')"
   ]
  },
  {
   "cell_type": "code",
   "execution_count": null,
   "id": "81d3809c-d402-450e-b3bc-411e59ddd710",
   "metadata": {},
   "outputs": [],
   "source": [
    "def on_slider_change(change):\n",
    "    global mat\n",
    "    c = change['new']\n",
    "    mat = FaceCenteredOrthorhombic(directions=[[1, 0, 0], [0, 1, 0], [0, 0, 1]],\n",
    "                          size=(2, 2, 2), symbol='Cu', pbc=(0, 0, 0), \n",
    "                          latticeconstant={'a': a, 'b': a, 'c': c})\n",
    "    m.remove_component(c1)\n",
    "\n",
    "    m.remove_component(l1)\n",
    "    m.remove_component(l2)\n",
    "    m.remove_component(l3)\n",
    "    m.remove_component(l4)\n",
    "    m.remove_component(l5)\n",
    "    m.remove_component(l6)\n",
    "    m.remove_component(l7)\n",
    "    m.remove_component(l8)\n",
    "    m.remove_component(l9)\n",
    "    m.remove_component(l10)\n",
    "    m.remove_component(l11)\n",
    "    m.remove_component(l12)\n",
    "    m.remove_component(r1)\n",
    "    m.remove_component(r2)\n",
    "    m.remove_component(r3)\n",
    "    m.remove_component(r4)\n",
    "    m.remove_component(r5)\n",
    "    m.remove_component(r6)\n",
    "    m.remove_component(r7)\n",
    "    m.remove_component(r8)\n",
    "    m.remove_component(r9)\n",
    "    m.remove_component(r10)\n",
    "    m.remove_component(r11)\n",
    "    m.remove_component(r12)\n",
    "    \n",
    "    plot_in_nglview()\n",
    "    \n",
    "    mat1 = FaceCenteredOrthorhombic(directions=[[1, 0, 0], [0, 1, 0], [0, 0, 1]],\n",
    "                          size=(1, 1, 1), symbol='Cu', pbc=(0, 0, 0), \n",
    "                          latticeconstant={'a': a, 'b': a, 'c': c})\n",
    "\n",
    "    cella = (mat1[1].position - mat1[0].position).tolist()\n",
    "    cellb = (mat1[2].position - mat1[0].position).tolist()\n",
    "    cellc = (mat1[3].position - mat1[0].position).tolist()\n",
    "    \n",
    "    w.cell = [cella, cellb, cellc]\n",
    "    w.positions = [mat1[0].position.tolist()]\n",
    "\n",
    "slider_c.observe(on_slider_change, names='value')"
   ]
  },
  {
   "cell_type": "code",
   "execution_count": null,
   "id": "51e8604b-3738-44ea-8f36-506ff1493ad5",
   "metadata": {},
   "outputs": [],
   "source": [
    "label1 = HTML(value = \"<div style='width: 400px; text-align:center;'><b><font color='black'><font size=5>Structure</b></div>\")\n",
    "label2 = HTML(value = \"<div style='width: 400px; text-align:center;'><b><font color='black'><font size=5>Brillouin zone</b></div>\")\n",
    "\n",
    "display(HBox([label1, label2]), HBox([m, w]), slider_c)"
   ]
  },
  {
   "cell_type": "markdown",
   "id": "5a6554f3-2889-41b9-aef6-9672fe794f31",
   "metadata": {},
   "source": [
    "<hr style=\"height:1px;border:none;color:#cccccc;background-color:#cccccc;\" />\n",
    "\n",
    "## **Legend**\n",
    "(How to use the interactive visualization)"
   ]
  },
  {
   "cell_type": "code",
   "execution_count": null,
   "id": "127a36f5-9330-4655-b23a-6e262c769cc3",
   "metadata": {},
   "outputs": [],
   "source": []
  }
 ],
 "metadata": {
  "kernelspec": {
   "display_name": "osscar-qm",
   "language": "python",
   "name": "python3"
  },
  "language_info": {
   "codemirror_mode": {
    "name": "ipython",
    "version": 3
   },
   "file_extension": ".py",
   "mimetype": "text/x-python",
   "name": "python",
   "nbconvert_exporter": "python",
   "pygments_lexer": "ipython3",
   "version": "3.10.17"
  }
 },
 "nbformat": 4,
 "nbformat_minor": 5
}
