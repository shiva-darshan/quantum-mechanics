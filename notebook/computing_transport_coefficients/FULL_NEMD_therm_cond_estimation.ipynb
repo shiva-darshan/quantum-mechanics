{
 "cells": [
  {
   "cell_type": "markdown",
   "id": "ccb09a8c",
   "metadata": {},
   "source": [
    "# Computing thermal conductivity of a rotor chain via NEMD\n",
    "\n",
    " **Authors: Alessandra Iacobucci, Elisa Marini, Raphael Gastaldello** \n",
    "\n",
    "\n",
    "Objective: simulate a one-dimensional chain of classical rotors , with interaction potential\n",
    "$$V(r) = 1 - \\cos(r)$$\n",
    "Coupled to boundary heat baths and subject to thermal forcing to estimate its thermal conductivity using the NEMD (Nonequilibrium Molecular Dynamics) approach. Rotor chains have finite thermal conductivity (see Giardinà _et al_ (2000), Gendelman and Savin (2000,2005), Yang and Hu (2005), Das and Dhar (2014).} $\\kappa_N$ dramatically decreasing for $\\bar{T} > 0.5$ (Giardin\\'a {\\it et al.} (2000))\n",
    "\n",
    "## Parameters:\n",
    "\n",
    "- chain length $10 \\le n \\le 100$\n",
    "- no pinning ($U=0$)\n",
    "- boundary temperatures: $T_L = T_{\\mathrm{eq}} - \\Delta T / 2$, $T_R = T_{\\mathrm{eq}} + \\Delta T / 2$ with $T_{\\mathrm{eq}} < 0.5$\n",
    "- boundary conditions: fixed on the left and free on the right\n",
    "- friction parameters: $\\xi_L=1$, $\\xi_R=1$\n",
    "- thermalization time steps `Nt_thrm`\n",
    "- simulation time steps `Nt_sim`\n",
    "- time step `dt` $\\in[0.001,0.5]$ (depending on the chosen integration scheme)\n",
    "\n",
    "## Dynamics:\n",
    "Recall the equations: for all $i \\in [[1,n]]$\n",
    "$$\n",
    "dq_i = p_i \\, dt\n",
    "$$\n",
    "$$\n",
    "dp_i = - \\Big( V'(q_i-q_{i-1}) - V'(q_{i+1}-q_i)\\Big) dt\n",
    "+ \\delta_{i,1} \\Big( -\\xi p_1 \\, dt + \\sqrt{2\\xi T_L} \\, dW_{1,t}\\Big)\n",
    "+ \\delta_{i,n} \\Big( -\\xi p_n \\, dt + \\sqrt{2\\xi T_R} \\, dW_{n,t}\\Big)\n",
    "$$\n",
    "Integration schemes: BABO, OBABO, ...\n",
    "\n",
    "## Steps\n",
    "\n",
    "- Initialize the system: Ensure the initial positions and momenta are appropriately set. This includes thermalizing with the correct initial conditions.\n",
    "\n",
    "- Run the dynamics: Integrate the equations of motion using the numerical scheme provided.\n",
    "\n",
    "- Make sure the system reaches a stationary state: check for local equilibrium by plotting the histogram of the marginals in $q$ and $p$ \n",
    "\n",
    "- Compute the energy current, using $j_{i,i+1} =-\\dfrac 1 2 (p_i + p_{i+1}) V'(q_{i+1}-q_i)$\n",
    "\n",
    "- Compute $$ \\widehat\\kappa_n^{N_\\text{Niter}} = \\frac 1{\\Delta T} \\frac 1{N_\\text{Niter}}\n",
    "\t\t\\sum_{m=1}^{N_\\text{Niter}} J_n(q^m, p^m)$$\n",
    "\n",
    "Optional\n",
    "\n",
    "- Plot the temperature profile in the chain $T_i = \\mathbb{E}_{\\mu_{\\Delta T, \\Delta t}}[p_i^2]$, $i \\in [[1,n]]$.\n",
    "- Plot the instantaneous total current"
   ]
  },
  {
   "cell_type": "code",
   "execution_count": 1,
   "id": "61694ad2",
   "metadata": {},
   "outputs": [],
   "source": [
    "# using Pkg; \n",
    "# Pkg.add(\"Random\")\n",
    "using Random\n",
    "using Statistics\n",
    "using Distributions\n",
    "using Plots\n",
    "import Pkg; Pkg.add(\"NumericalIntegration\")\n",
    "using SpecialFunctions, NumericalIntegration # or QuadGK"
   ]
  },
  {
   "cell_type": "code",
   "execution_count": 2,
   "id": "1de9e65b-f230-425e-bd13-fe89a99c254f",
   "metadata": {},
   "outputs": [
    {
     "data": {
      "text/plain": [
       "1234"
      ]
     },
     "execution_count": 2,
     "metadata": {},
     "output_type": "execute_result"
    }
   ],
   "source": [
    "# setting global scope parameter values\n",
    "const n = 10     # number of atoms\n",
    "const BCl = \"fixed\"\n",
    "const BCr = \"free\"\n",
    "const Nt_thrm = 500000  # number of thermalization time steps\n",
    "const Nt_sim =  100000000   # number of simulation time steps\n",
    "const dt = 0.01 # time step\n",
    "const T_eq = 0.3   # reference equilibrium temperature\n",
    "const ΔT = 0.096  # temperature difference at the boundaries\n",
    "const ξ_L = 1.0\n",
    "const ξ_R = 1.0\n",
    "const potential = \"rotor\" # alternatives: harmonic, FPUT, Toda\n",
    "const ω0 = 0     # pinning potential\n",
    "const ω = 1  # for harmonic and harmonic part in FPUT\n",
    "const α = 1  # for FPUT\n",
    "const β = 1  # idem\n",
    "const a = 1  # for Toda\n",
    "const b = 1  # idem\n",
    "const storage_interval = 10 # save q's and p's for histograms every storage_interval iterations\n",
    "const seed = 1234    # fix a random seed to ensure reproducibility "
   ]
  },
  {
   "cell_type": "code",
   "execution_count": 3,
   "id": "9a08ce77-b631-42d8-afe3-098f438a3c54",
   "metadata": {},
   "outputs": [
    {
     "data": {
      "text/plain": [
       "initialize_T_profile (generic function with 1 method)"
      ]
     },
     "execution_count": 3,
     "metadata": {},
     "output_type": "execute_result"
    }
   ],
   "source": [
    "function initialize_T_profile() # uses global (T_eq, ΔT, n)\n",
    "    Tleft = T_eq - ΔT/2; Tright = T_eq + ΔT/2; \n",
    "    if (Tleft < 0) || (Tright < 0) \n",
    "        error(\"negative temperature, be sure that ΔT < T_eq, \")\n",
    "    end\n",
    "    return Tleft .+ ΔT/(n-1) .* (0:(n-1)) # linear imposed_T_profile\n",
    "end"
   ]
  },
  {
   "cell_type": "code",
   "execution_count": 4,
   "id": "0e755c85",
   "metadata": {},
   "outputs": [
    {
     "data": {
      "text/plain": [
       "initialize_chain (generic function with 1 method)"
      ]
     },
     "execution_count": 4,
     "metadata": {},
     "output_type": "execute_result"
    }
   ],
   "source": [
    "function initialize_chain(T_profile) # uses global n\n",
    "    q = (potential == \"rotor\") ? (2π * rand(n) .- π) : zeros(n) \n",
    "    p = sqrt.(T_profile) .* randn(n)  \n",
    "    return q, p\n",
    "end"
   ]
  },
  {
   "cell_type": "code",
   "execution_count": 5,
   "id": "f5b11857",
   "metadata": {},
   "outputs": [
    {
     "data": {
      "text/plain": [
       "interaction_force (generic function with 1 method)"
      ]
     },
     "execution_count": 5,
     "metadata": {},
     "output_type": "execute_result"
    }
   ],
   "source": [
    "# Interaction potentials and forces (choices); \n",
    "function interaction_potential(r) # uses global (ω, α, β, a, b, potential) # α and β for FPUT; a and b for Toda; return int_pot\n",
    "    if potential == \"rotor\"\n",
    "        return 1 .- cos.(r)\n",
    "    elseif potential == \"harmonic\"\n",
    "        return 0.25 * ω^2 .* r.^2  \n",
    "    elseif potential == \"FPUT\"\n",
    "        return 0.5 * ω^2 .* r.^2 .+ α / 3 .* r.^3 .+ β * 0.25 .* r.^4 \n",
    "    elseif potential == \"Toda\"\n",
    "        return a/b .* exp.(r) .+ a .* r .- a/b  \n",
    "    else\n",
    "        error(\"Unknown potential: $potential\")\n",
    "    end\n",
    "end\n",
    " \n",
    "function interaction_force(r) # uses global (ω, α, β, a, b, potential)     # return int_f\n",
    "    if potential == \"rotor\"\n",
    "        return - sin.(r)\n",
    "    elseif potential == \"harmonic\"\n",
    "        return - ω^2 .* r\n",
    "    elseif potential == \"FPUT\"\n",
    "        return - ω^2 .* r .- α .* r.^2 .- β .* r.^3\n",
    "    elseif potential == \"Toda\"\n",
    "        return a .* (1 .- exp.(-b .* r))\n",
    "    else\n",
    "        error(\"Unknown potential: $potential\")\n",
    "    end\n",
    "end"
   ]
  },
  {
   "cell_type": "code",
   "execution_count": 6,
   "id": "b1f5f442-99bd-485c-98a3-c0d911ff8ef7",
   "metadata": {},
   "outputs": [
    {
     "data": {
      "text/plain": [
       "pinning_force (generic function with 1 method)"
      ]
     },
     "execution_count": 6,
     "metadata": {},
     "output_type": "execute_result"
    }
   ],
   "source": [
    "# Pinning potential and force\n",
    "function pinning_potential(q) # uses global ω0  # return pin_pot\n",
    "    return ω0^2/2 .* q.^2 \n",
    "end\n",
    "\n",
    "function pinning_force(q) # uses global ω0  # return pin_f\n",
    "    return - ω0^2 .* q # pin_f\n",
    "end"
   ]
  },
  {
   "cell_type": "code",
   "execution_count": 7,
   "id": "0e06d317-972c-47f9-952f-f250d024904b",
   "metadata": {},
   "outputs": [
    {
     "data": {
      "text/plain": [
       "compute_dist_wt_BC (generic function with 1 method)"
      ]
     },
     "execution_count": 7,
     "metadata": {},
     "output_type": "execute_result"
    }
   ],
   "source": [
    "function compute_dist_wt_BC(q) # uses global (n, BCl=\"free\", BCr =\"free\")\n",
    "    dist_vec_wt_BC = zeros(n+1)\n",
    "    dist_vec_wt_BC[2:(end-1)] = q[2:end] - q[1:(end-1)]\n",
    "    \n",
    "    if BCl == \"fixed\"\n",
    "        dist_vec_wt_BC[1] = q[1] # q_1-q_0 with q_0=0\n",
    "    elseif BCl == \"periodic\"\n",
    "        dist_vec_wt_BC[1] = q[1] - q[n] # q_1-q_0 with q_0=q_n\n",
    "    end\n",
    "    \n",
    "    if BCr == \"fixed\"\n",
    "        dist_vec_wt_BC[n] = -q[n] # q_(n+1)-q_n with q_(n+1) =0\n",
    "    elseif BCr == \"periodic\"\n",
    "        dist_vec_wt_BC[n] =  q[1] - q[n] # q_(n+1)-q_n with q_(n+1) = q_1\n",
    "    end\n",
    "\n",
    "    if potential == \"rotor\"\n",
    "        dist_vec_wt_BC .= mod.(dist_vec_wt_BC .+ π, 2π) .- π\n",
    "    end\n",
    "\n",
    "    return dist_vec_wt_BC   # dim n+1\n",
    "end"
   ]
  },
  {
   "cell_type": "code",
   "execution_count": 8,
   "id": "f496bf80-1288-4939-bd85-2bcf307467ef",
   "metadata": {},
   "outputs": [
    {
     "data": {
      "text/plain": [
       "ham_force_field_per_site (generic function with 1 method)"
      ]
     },
     "execution_count": 8,
     "metadata": {},
     "output_type": "execute_result"
    }
   ],
   "source": [
    "function ham_force_field_per_site(q) # uses global (n, ω0, ω, α, β, a, b, potential, BCl, BCr)\n",
    "    r = compute_dist_wt_BC(q) #, n, BCl, BCr)\n",
    "    int_f = interaction_force(r)\n",
    "    pin_f = pinning_force(q)\n",
    "    return int_f[1:(end-1)] - int_f[2:end] + pin_f\n",
    "end"
   ]
  },
  {
   "cell_type": "code",
   "execution_count": 9,
   "id": "96df9178",
   "metadata": {},
   "outputs": [
    {
     "data": {
      "text/plain": [
       "OU_step! (generic function with 1 method)"
      ]
     },
     "execution_count": 9,
     "metadata": {},
     "output_type": "execute_result"
    }
   ],
   "source": [
    "function OU_step!(p, thrm_atoms::Vector{Int}, T_vec::Vector{Float64}, ξ_vec::Vector{Float64}, a) \n",
    "# uses global dt  \n",
    "    mydt = a*dt\n",
    "    if length(T_vec) != length(thrm_atoms) || length(ξ_vec) != length(thrm_atoms)\n",
    "        error(\"OU_step!(): length(T_vec) and/or length(ξ) differ from length(thrm_atoms), stopping...\")\n",
    "    end\n",
    "    α = exp.(-ξ_vec .* mydt)\n",
    "    σ = sqrt.((1 .- α .^ 2) .* T_vec)\n",
    "    # p[thrm_atoms] is a sub‐vector, like doing p[[1,n]] or p[1:n]\n",
    "    p[thrm_atoms] .= α .* p[thrm_atoms] .+ σ .* randn(length(thrm_atoms))\n",
    "end"
   ]
  },
  {
   "cell_type": "code",
   "execution_count": 10,
   "id": "26a4ad40-b327-402e-b553-e23463ddf38d",
   "metadata": {},
   "outputs": [
    {
     "data": {
      "text/plain": [
       "step_verlet! (generic function with 1 method)"
      ]
     },
     "execution_count": 10,
     "metadata": {},
     "output_type": "execute_result"
    }
   ],
   "source": [
    "function step_verlet!(q, p, thrm_atoms::Vector{Int}, T_vec::Vector{Float64}, ξ_vec::Vector{Float64}, f)  #BABO\n",
    "# uses global (n, dt, ω0, ω, α, β, a, b, potential, BCl, BCr)\n",
    "    \n",
    "    p .+= 0.5dt .* f\n",
    "    q .+= dt .* p\n",
    "    if potential == \"rotor\"\n",
    "        q .= mod.(q .+ π, 2π) .- π\n",
    "    end\n",
    "    \n",
    "    f .= ham_force_field_per_site(q)\n",
    "    p .+= 0.5dt .* f\n",
    "\n",
    "    OU_step!(p, thrm_atoms, T_vec, ξ_vec, 1)\n",
    "end"
   ]
  },
  {
   "cell_type": "code",
   "execution_count": 11,
   "id": "597e3728",
   "metadata": {},
   "outputs": [
    {
     "data": {
      "text/plain": [
       "step_baoab! (generic function with 1 method)"
      ]
     },
     "execution_count": 11,
     "metadata": {},
     "output_type": "execute_result"
    }
   ],
   "source": [
    "function step_baoab!(q, p, thrm_atoms::Vector{Int}, T_vec::Vector{Float64}, ξ_vec::Vector{Float64}, f)\n",
    "# uses global (n, dt, ω0, ω, α, β, a, b, potential, BCl, BCr)\n",
    "    \n",
    "    # B (first half)\n",
    "    p .+= 0.5dt .* f\n",
    "\n",
    "    # A (first half)\n",
    "    q .+= 0.5dt .* p\n",
    "    if potential == \"rotor\"\n",
    "        q .= mod.(q .+ π, 2π) .- π\n",
    "    end\n",
    "\n",
    "    # O (OU on thermostatted atoms)\n",
    "    OU_step!(p, thrm_atoms, T_vec, ξ_vec, 0.5)\n",
    "    \n",
    "    # A (second half)\n",
    "    q .+= 0.5dt .* p\n",
    "    if potential == \"rotor\"\n",
    "        q .= mod.(q .+ π, 2π) .- π\n",
    "    end\n",
    "\n",
    "    # B (second half)\n",
    "    f .= ham_force_field_per_site(q)\n",
    "    p .+= 0.5dt .* f\n",
    "end"
   ]
  },
  {
   "cell_type": "code",
   "execution_count": 12,
   "id": "88ce429a",
   "metadata": {},
   "outputs": [
    {
     "data": {
      "text/plain": [
       "simulate (generic function with 1 method)"
      ]
     },
     "execution_count": 12,
     "metadata": {},
     "output_type": "execute_result"
    }
   ],
   "source": [
    "function simulate(scheme) # uses global (n, dt, Nt_sim, T_eq, ΔT, potential=\"rotor\")\n",
    "\n",
    "    Random.seed!(seed)  # to be able to reproduce the results\n",
    "    \n",
    "    imposed_T_profile = initialize_T_profile()# (T_eq, ΔT, n)\n",
    "    q, p = initialize_chain(imposed_T_profile)\n",
    "\n",
    "    computed_T_profile = zeros(n)\n",
    "    Jntot = zeros(Nt_sim)\n",
    "    r_hist = [] \n",
    "    p_hist = []\n",
    "\n",
    "    f = ham_force_field_per_site(q)\n",
    "\n",
    "    if scheme == \"verlet\"\n",
    "\n",
    "        thrm_atoms = collect(1:n)    # thermalization phase\n",
    "        ξ_vec = ones(length(thrm_atoms))\n",
    "        for step in 1:Nt_thrm  \n",
    "            step_verlet!(q, p, thrm_atoms, imposed_T_profile[thrm_atoms], ξ_vec, f)\n",
    "        end\n",
    "        \n",
    "        thrm_atoms = [1,n]  # simulation phase\n",
    "        ξ_vec = [ξ_L, ξ_R]\n",
    "        for step in 1:Nt_sim\n",
    "            step_verlet!(q, p, thrm_atoms, imposed_T_profile[thrm_atoms], ξ_vec, f)\n",
    "            computed_T_profile .+= p .^ 2\n",
    "            Jntot[step] = sum(0.5 .* (p[1:end-1] +p[2:end]) .* f[2:end])\n",
    "            #if step % storage_interval == 0\n",
    "            #    r = compute_dist_wt_BC(q)[1:n]\n",
    "            #    push!(r_hist, copy( [r[floor(Int,n/4)], r[floor(Int,n/2)], r[floor(Int,3*n/4)]] ))\n",
    "            #    push!(p_hist, copy( [p[floor(Int,n/4)], p[floor(Int,n/2)], p[floor(Int,3*n/4)]] ))\n",
    "            #end\n",
    "        end\n",
    "        \n",
    "    elseif scheme == \"baoab\"\n",
    "        \n",
    "        thrm_atoms = collect(1:n)    # thermalization phase\n",
    "        ξ_vec = ones(length(thrm_atoms))\n",
    "        for step in 1:Nt_thrm  \n",
    "            step_baoab!(q, p, thrm_atoms, imposed_T_profile[thrm_atoms], ξ_vec, f)\n",
    "        end\n",
    "        \n",
    "        thrm_atoms = [1,n]  # simulation phase\n",
    "        ξ_vec = [ξ_L, ξ_R]\n",
    "        for step in 1:Nt_sim\n",
    "            step_baoab!(q, p, thrm_atoms, imposed_T_profile[thrm_atoms], ξ_vec, f)\n",
    "            computed_T_profile .+= p .^ 2\n",
    "            Jntot[step] = sum(0.5 .* (p[1:end-1] +p[2:end]) .* f[2:end])\n",
    "            #if step % storage_interval == 0\n",
    "            #    r = compute_dist_wt_BC(q)[1:n]\n",
    "            #    push!(r_hist, copy( [r[floor(Int,n/4)], r[floor(Int,n/2)], r[floor(Int,3*n/4)]] ))\n",
    "            #    push!(p_hist, copy( [p[floor(Int,n/4)], p[floor(Int,n/2)], p[floor(Int,3*n/4)]] ))\n",
    "            #end\n",
    "        end\n",
    "        \n",
    "    else\n",
    "        error(\"Unknown integration scheme: $scheme\")\n",
    "    end\n",
    "\n",
    "    # compute temperature profile\n",
    "    computed_T_profile ./= Nt_sim\n",
    "\n",
    "    return r_hist, p_hist, computed_T_profile, Jntot\n",
    "end"
   ]
  },
  {
   "cell_type": "code",
   "execution_count": 13,
   "id": "c3e29892",
   "metadata": {},
   "outputs": [
    {
     "data": {
      "text/plain": [
       "NEMD_estimate_of_conductivity (generic function with 1 method)"
      ]
     },
     "execution_count": 13,
     "metadata": {},
     "output_type": "execute_result"
    }
   ],
   "source": [
    "function NEMD_estimate_of_conductivity(Jntot) # (Jntot, ΔT)\n",
    "    return - mean(Jntot) / ΔT # κ, minus sign for Fourier's law convention\n",
    "end"
   ]
  },
  {
   "cell_type": "code",
   "execution_count": 14,
   "id": "1815e852-91ca-44e6-896a-498b0fbcc534",
   "metadata": {},
   "outputs": [
    {
     "name": "stdout",
     "output_type": "stream",
     "text": [
      "Running Verlet scheme...\n",
      "Average total current (Verlet): -0.09934638712248511\n",
      "Estimated conductivity (Verlet): 1.0348581991925532\n"
     ]
    }
   ],
   "source": [
    "# Nt_thrm = 100000  # number of thermalization time steps\n",
    "# Nt_sim =  10000000   # number of simulation time steps\n",
    "# dt = 0.001 # time step\n",
    "println(\"Running Verlet scheme...\")\n",
    "r_hist, p_hist, computed_T_profile, Jntot = simulate(\"verlet\")\n",
    "if ΔT != 0.0\n",
    "    κ_v = NEMD_estimate_of_conductivity(Jntot)\n",
    "end\n",
    "println(\"Average total current (Verlet): \", mean(Jntot))\n",
    "println(\"Estimated conductivity (Verlet): \", κ_v)"
   ]
  },
  {
   "cell_type": "code",
   "execution_count": 15,
   "id": "019c67e2",
   "metadata": {},
   "outputs": [
    {
     "data": {
      "text/plain": [
       "plot_histograms (generic function with 1 method)"
      ]
     },
     "execution_count": 15,
     "metadata": {},
     "output_type": "execute_result"
    }
   ],
   "source": [
    "function plot_histograms(r_hist, p_hist, Ts)\n",
    "    for idx in 1:length(r_hist[1]) # = length(phist(1))\n",
    "\n",
    "        β = 1/Ts[idx]\n",
    "\n",
    "        # POSITIONS\n",
    "        rs = [r[idx] for r in r_hist]  # this takes the idx component of all the entries, so the result is the time evolution of the position of the idx-th particle\n",
    "        histogram(rs, bins=50, normalize=true, title=\"Position at site $(floor(idx*n/4))\", label=\"\")\n",
    "\n",
    "        # define support for theroetical density\n",
    "        if potential == \"rotor\"\n",
    "            xs = range(-π, π; length=400)\n",
    "        else\n",
    "            xmin, xmax = extrema(rs)\n",
    "            pad   = 0.1*(xmax - xmin)\n",
    "            xs    = range(xmin - pad, xmax + pad; length=400)\n",
    "        end\n",
    "\n",
    "        # un-normalised probability density function\n",
    "        ψ = exp.(-β .* interaction_potential(xs))\n",
    "\n",
    "        Z  = 2π * exp(-β) * besseli(0, β)      # exact normalising constant for rotors\n",
    "        # numerical normalisation if no closed form\n",
    "        # Z = quadgk(x -> exp(-β*interaction_potential(x)), first(xs), last(xs); rtol=1e-8)[1]\n",
    "        # Z = trapz(xs, f)         # or quadgk, as before\n",
    "\n",
    "        plot!(xs, ψ ./ Z; lw=2, label=\"C·exp(-β·V(r))\")\n",
    "        display(current())\n",
    "\n",
    "        # MOMENTA\n",
    "        ps = [p[idx] for p in p_hist]\n",
    "        histogram(ps, bins=50, normalize=true, title=\"Velocity at site $(floor(idx*n/4))\", label=\"\")\n",
    "        # theoretical density\n",
    "        ys = range(minimum(ps), maximum(ps); length=400)\n",
    "        plot!(ys, pdf.(Normal(0, β^(-1/2)), ys); lw=2, label=\"N(0, T)\")\n",
    "\n",
    "        display(current())\n",
    "    end\n",
    "end"
   ]
  },
  {
   "cell_type": "code",
   "execution_count": 16,
   "id": "21362a21-4ad3-4d24-befa-ee33235b2c85",
   "metadata": {},
   "outputs": [
    {
     "ename": "LoadError",
     "evalue": "BoundsError: attempt to access 0-element Vector{Any} at index [1]",
     "output_type": "error",
     "traceback": [
      "BoundsError: attempt to access 0-element Vector{Any} at index [1]",
      "",
      "Stacktrace:",
      " [1] \u001b[0m\u001b[1mthrow_boundserror\u001b[22m\u001b[0m\u001b[1m(\u001b[22m\u001b[90mA\u001b[39m::\u001b[0mVector\u001b[90m{Any}\u001b[39m, \u001b[90mI\u001b[39m::\u001b[0mTuple\u001b[90m{Int64}\u001b[39m\u001b[0m\u001b[1m)\u001b[22m",
      "\u001b[90m   @\u001b[39m \u001b[90mBase\u001b[39m \u001b[90m./\u001b[39m\u001b[90m\u001b[4messentials.jl:14\u001b[24m\u001b[39m",
      " [2] \u001b[0m\u001b[1mgetindex\u001b[22m",
      "\u001b[90m   @\u001b[39m \u001b[90m./\u001b[39m\u001b[90m\u001b[4messentials.jl:916\u001b[24m\u001b[39m\u001b[90m [inlined]\u001b[39m",
      " [3] \u001b[0m\u001b[1mplot_histograms\u001b[22m\u001b[0m\u001b[1m(\u001b[22m\u001b[90mr_hist\u001b[39m::\u001b[0mVector\u001b[90m{Any}\u001b[39m, \u001b[90mp_hist\u001b[39m::\u001b[0mVector\u001b[90m{Any}\u001b[39m, \u001b[90mTs\u001b[39m::\u001b[0mVector\u001b[90m{Float64}\u001b[39m\u001b[0m\u001b[1m)\u001b[22m",
      "\u001b[90m   @\u001b[39m \u001b[35mMain\u001b[39m \u001b[90m./\u001b[39m\u001b[90m\u001b[4mIn[15]:2\u001b[24m\u001b[39m",
      " [4] top-level scope",
      "\u001b[90m   @\u001b[39m \u001b[90m\u001b[4mIn[16]:1\u001b[24m\u001b[39m"
     ]
    }
   ],
   "source": [
    "# plot_histograms(r_hist, p_hist, computed_T_profile[[n ÷ 4, n ÷ 2, 3n ÷ 4]])"
   ]
  },
  {
   "cell_type": "code",
   "execution_count": 17,
   "id": "302e6c67-69ae-4fb4-b6e9-527816c9f26b",
   "metadata": {},
   "outputs": [
    {
     "data": {
      "image/png": "[encoded data removed]",
      "image/svg+xml": [
       "<?xml version=\"1.0\" encoding=\"utf-8\"?>\n",
       "<svg xmlns=\"http://www.w3.org/2000/svg\" xmlns:xlink=\"http://www.w3.org/1999/xlink\" width=\"600\" height=\"400\" viewBox=\"0 0 2400 1600\">\n",
       "<defs>\n",
       "  <clipPath id=\"clip720\">\n",
       "    <rect x=\"0\" y=\"0\" width=\"2400\" height=\"1600\"/>\n",
       "  </clipPath>\n",
       "</defs>\n",
       "<path clip-path=\"url(#clip720)\" d=\"M0 1600 L2400 1600 L2400 0 L0 0  Z\" fill=\"#ffffff\" fill-rule=\"evenodd\" fill-opacity=\"1\"/>\n",
       "<defs>\n",
       "  <clipPath id=\"clip721\">\n",
       "    <rect x=\"480\" y=\"0\" width=\"1681\" height=\"1600\"/>\n",
       "  </clipPath>\n",
       "</defs>\n",
       "<path clip-path=\"url(#clip720)\" d=\"M249.542 1423.18 L2352.76 1423.18 L2352.76 123.472 L249.542 123.472  Z\" fill=\"#ffffff\" fill-rule=\"evenodd\" fill-opacity=\"1\"/>\n",
       "<defs>\n",
       "  <clipPath id=\"clip722\">\n",
       "    <rect x=\"249\" y=\"123\" width=\"2104\" height=\"1301\"/>\n",
       "  </clipPath>\n",
       "</defs>\n",
       "<polyline clip-path=\"url(#clip722)\" style=\"stroke:#000000; stroke-linecap:round; stroke-linejoin:round; stroke-width:2; stroke-opacity:0.1; fill:none\" points=\"529.53,1423.18 529.53,123.472 \"/>\n",
       "<polyline clip-path=\"url(#clip722)\" style=\"stroke:#000000; stroke-linecap:round; stroke-linejoin:round; stroke-width:2; stroke-opacity:0.1; fill:none\" points=\"970.455,1423.18 970.455,123.472 \"/>\n",
       "<polyline clip-path=\"url(#clip722)\" style=\"stroke:#000000; stroke-linecap:round; stroke-linejoin:round; stroke-width:2; stroke-opacity:0.1; fill:none\" points=\"1411.38,1423.18 1411.38,123.472 \"/>\n",
       "<polyline clip-path=\"url(#clip722)\" style=\"stroke:#000000; stroke-linecap:round; stroke-linejoin:round; stroke-width:2; stroke-opacity:0.1; fill:none\" points=\"1852.31,1423.18 1852.31,123.472 \"/>\n",
       "<polyline clip-path=\"url(#clip722)\" style=\"stroke:#000000; stroke-linecap:round; stroke-linejoin:round; stroke-width:2; stroke-opacity:0.1; fill:none\" points=\"2293.23,1423.18 2293.23,123.472 \"/>\n",
       "<polyline clip-path=\"url(#clip722)\" style=\"stroke:#000000; stroke-linecap:round; stroke-linejoin:round; stroke-width:2; stroke-opacity:0.1; fill:none\" points=\"249.542,1337.42 2352.76,1337.42 \"/>\n",
       "<polyline clip-path=\"url(#clip722)\" style=\"stroke:#000000; stroke-linecap:round; stroke-linejoin:round; stroke-width:2; stroke-opacity:0.1; fill:none\" points=\"249.542,1149.86 2352.76,1149.86 \"/>\n",
       "<polyline clip-path=\"url(#clip722)\" style=\"stroke:#000000; stroke-linecap:round; stroke-linejoin:round; stroke-width:2; stroke-opacity:0.1; fill:none\" points=\"249.542,962.306 2352.76,962.306 \"/>\n",
       "<polyline clip-path=\"url(#clip722)\" style=\"stroke:#000000; stroke-linecap:round; stroke-linejoin:round; stroke-width:2; stroke-opacity:0.1; fill:none\" points=\"249.542,774.75 2352.76,774.75 \"/>\n",
       "<polyline clip-path=\"url(#clip722)\" style=\"stroke:#000000; stroke-linecap:round; stroke-linejoin:round; stroke-width:2; stroke-opacity:0.1; fill:none\" points=\"249.542,587.194 2352.76,587.194 \"/>\n",
       "<polyline clip-path=\"url(#clip722)\" style=\"stroke:#000000; stroke-linecap:round; stroke-linejoin:round; stroke-width:2; stroke-opacity:0.1; fill:none\" points=\"249.542,399.638 2352.76,399.638 \"/>\n",
       "<polyline clip-path=\"url(#clip722)\" style=\"stroke:#000000; stroke-linecap:round; stroke-linejoin:round; stroke-width:2; stroke-opacity:0.1; fill:none\" points=\"249.542,212.082 2352.76,212.082 \"/>\n",
       "<polyline clip-path=\"url(#clip720)\" style=\"stroke:#000000; stroke-linecap:round; stroke-linejoin:round; stroke-width:4; stroke-opacity:1; fill:none\" points=\"249.542,1423.18 2352.76,1423.18 \"/>\n",
       "<polyline clip-path=\"url(#clip720)\" style=\"stroke:#000000; stroke-linecap:round; stroke-linejoin:round; stroke-width:4; stroke-opacity:1; fill:none\" points=\"529.53,1423.18 529.53,1404.28 \"/>\n",
       "<polyline clip-path=\"url(#clip720)\" style=\"stroke:#000000; stroke-linecap:round; stroke-linejoin:round; stroke-width:4; stroke-opacity:1; fill:none\" points=\"970.455,1423.18 970.455,1404.28 \"/>\n",
       "<polyline clip-path=\"url(#clip720)\" style=\"stroke:#000000; stroke-linecap:round; stroke-linejoin:round; stroke-width:4; stroke-opacity:1; fill:none\" points=\"1411.38,1423.18 1411.38,1404.28 \"/>\n",
       "<polyline clip-path=\"url(#clip720)\" style=\"stroke:#000000; stroke-linecap:round; stroke-linejoin:round; stroke-width:4; stroke-opacity:1; fill:none\" points=\"1852.31,1423.18 1852.31,1404.28 \"/>\n",
       "<polyline clip-path=\"url(#clip720)\" style=\"stroke:#000000; stroke-linecap:round; stroke-linejoin:round; stroke-width:4; stroke-opacity:1; fill:none\" points=\"2293.23,1423.18 2293.23,1404.28 \"/>\n",
       "<path clip-path=\"url(#clip720)\" d=\"M524.182 1481.64 L540.502 1481.64 L540.502 1485.58 L518.557 1485.58 L518.557 1481.64 Q521.219 1478.89 525.803 1474.26 Q530.409 1469.61 531.59 1468.27 Q533.835 1465.74 534.715 1464.01 Q535.618 1462.25 535.618 1460.56 Q535.618 1457.8 533.673 1456.07 Q531.752 1454.33 528.65 1454.33 Q526.451 1454.33 523.997 1455.09 Q521.567 1455.86 518.789 1457.41 L518.789 1452.69 Q521.613 1451.55 524.067 1450.97 Q526.52 1450.39 528.557 1450.39 Q533.928 1450.39 537.122 1453.08 Q540.317 1455.77 540.317 1460.26 Q540.317 1462.39 539.506 1464.31 Q538.719 1466.2 536.613 1468.8 Q536.034 1469.47 532.932 1472.69 Q529.831 1475.88 524.182 1481.64 Z\" fill=\"#000000\" fill-rule=\"nonzero\" fill-opacity=\"1\" /><path clip-path=\"url(#clip720)\" d=\"M973.464 1455.09 L961.659 1473.54 L973.464 1473.54 L973.464 1455.09 M972.237 1451.02 L978.117 1451.02 L978.117 1473.54 L983.047 1473.54 L983.047 1477.43 L978.117 1477.43 L978.117 1485.58 L973.464 1485.58 L973.464 1477.43 L957.862 1477.43 L957.862 1472.92 L972.237 1451.02 Z\" fill=\"#000000\" fill-rule=\"nonzero\" fill-opacity=\"1\" /><path clip-path=\"url(#clip720)\" d=\"M1411.79 1466.44 Q1408.64 1466.44 1406.79 1468.59 Q1404.96 1470.74 1404.96 1474.49 Q1404.96 1478.22 1406.79 1480.39 Q1408.64 1482.55 1411.79 1482.55 Q1414.93 1482.55 1416.76 1480.39 Q1418.61 1478.22 1418.61 1474.49 Q1418.61 1470.74 1416.76 1468.59 Q1414.93 1466.44 1411.79 1466.44 M1421.07 1451.78 L1421.07 1456.04 Q1419.31 1455.21 1417.5 1454.77 Q1415.72 1454.33 1413.96 1454.33 Q1409.33 1454.33 1406.88 1457.45 Q1404.45 1460.58 1404.1 1466.9 Q1405.47 1464.89 1407.53 1463.82 Q1409.59 1462.73 1412.06 1462.73 Q1417.27 1462.73 1420.28 1465.9 Q1423.31 1469.05 1423.31 1474.49 Q1423.31 1479.82 1420.16 1483.03 Q1417.02 1486.25 1411.79 1486.25 Q1405.79 1486.25 1402.62 1481.67 Q1399.45 1477.06 1399.45 1468.33 Q1399.45 1460.14 1403.34 1455.28 Q1407.23 1450.39 1413.78 1450.39 Q1415.54 1450.39 1417.32 1450.74 Q1419.12 1451.09 1421.07 1451.78 Z\" fill=\"#000000\" fill-rule=\"nonzero\" fill-opacity=\"1\" /><path clip-path=\"url(#clip720)\" d=\"M1852.31 1469.17 Q1848.97 1469.17 1847.05 1470.95 Q1845.15 1472.73 1845.15 1475.86 Q1845.15 1478.98 1847.05 1480.77 Q1848.97 1482.55 1852.31 1482.55 Q1855.64 1482.55 1857.56 1480.77 Q1859.48 1478.96 1859.48 1475.86 Q1859.48 1472.73 1857.56 1470.95 Q1855.66 1469.17 1852.31 1469.17 M1847.63 1467.18 Q1844.62 1466.44 1842.93 1464.38 Q1841.26 1462.32 1841.26 1459.35 Q1841.26 1455.21 1844.2 1452.8 Q1847.17 1450.39 1852.31 1450.39 Q1857.47 1450.39 1860.41 1452.8 Q1863.35 1455.21 1863.35 1459.35 Q1863.35 1462.32 1861.66 1464.38 Q1859.99 1466.44 1857 1467.18 Q1860.38 1467.96 1862.26 1470.26 Q1864.16 1472.55 1864.16 1475.86 Q1864.16 1480.88 1861.08 1483.57 Q1858.02 1486.25 1852.31 1486.25 Q1846.59 1486.25 1843.51 1483.57 Q1840.45 1480.88 1840.45 1475.86 Q1840.45 1472.55 1842.35 1470.26 Q1844.25 1467.96 1847.63 1467.18 M1845.92 1459.79 Q1845.92 1462.48 1847.58 1463.98 Q1849.27 1465.49 1852.31 1465.49 Q1855.31 1465.49 1857 1463.98 Q1858.72 1462.48 1858.72 1459.79 Q1858.72 1457.11 1857 1455.6 Q1855.31 1454.1 1852.31 1454.1 Q1849.27 1454.1 1847.58 1455.6 Q1845.92 1457.11 1845.92 1459.79 Z\" fill=\"#000000\" fill-rule=\"nonzero\" fill-opacity=\"1\" /><path clip-path=\"url(#clip720)\" d=\"M2267.92 1481.64 L2275.56 1481.64 L2275.56 1455.28 L2267.25 1456.95 L2267.25 1452.69 L2275.51 1451.02 L2280.19 1451.02 L2280.19 1481.64 L2287.83 1481.64 L2287.83 1485.58 L2267.92 1485.58 L2267.92 1481.64 Z\" fill=\"#000000\" fill-rule=\"nonzero\" fill-opacity=\"1\" /><path clip-path=\"url(#clip720)\" d=\"M2307.27 1454.1 Q2303.66 1454.1 2301.83 1457.66 Q2300.02 1461.2 2300.02 1468.33 Q2300.02 1475.44 2301.83 1479.01 Q2303.66 1482.55 2307.27 1482.55 Q2310.9 1482.55 2312.71 1479.01 Q2314.54 1475.44 2314.54 1468.33 Q2314.54 1461.2 2312.71 1457.66 Q2310.9 1454.1 2307.27 1454.1 M2307.27 1450.39 Q2313.08 1450.39 2316.14 1455 Q2319.21 1459.58 2319.21 1468.33 Q2319.21 1477.06 2316.14 1481.67 Q2313.08 1486.25 2307.27 1486.25 Q2301.46 1486.25 2298.38 1481.67 Q2295.33 1477.06 2295.33 1468.33 Q2295.33 1459.58 2298.38 1455 Q2301.46 1450.39 2307.27 1450.39 Z\" fill=\"#000000\" fill-rule=\"nonzero\" fill-opacity=\"1\" /><path clip-path=\"url(#clip720)\" d=\"M1273.04 1522.08 L1273.04 1528.35 Q1269.38 1526.6 1266.14 1525.74 Q1262.89 1524.88 1259.87 1524.88 Q1254.62 1524.88 1251.75 1526.92 Q1248.92 1528.96 1248.92 1532.71 Q1248.92 1535.87 1250.8 1537.49 Q1252.71 1539.08 1257.99 1540.07 L1261.87 1540.86 Q1269.07 1542.23 1272.47 1545.7 Q1275.91 1549.14 1275.91 1554.93 Q1275.91 1561.84 1271.26 1565.4 Q1266.65 1568.97 1257.7 1568.97 Q1254.33 1568.97 1250.51 1568.2 Q1246.72 1567.44 1242.65 1565.94 L1242.65 1559.32 Q1246.56 1561.52 1250.32 1562.63 Q1254.07 1563.75 1257.7 1563.75 Q1263.21 1563.75 1266.2 1561.58 Q1269.19 1559.42 1269.19 1555.41 Q1269.19 1551.91 1267.03 1549.93 Q1264.9 1547.96 1259.99 1546.97 L1256.08 1546.21 Q1248.89 1544.78 1245.67 1541.72 Q1242.46 1538.67 1242.46 1533.22 Q1242.46 1526.92 1246.88 1523.29 Q1251.34 1519.66 1259.14 1519.66 Q1262.48 1519.66 1265.95 1520.27 Q1269.42 1520.87 1273.04 1522.08 Z\" fill=\"#000000\" fill-rule=\"nonzero\" fill-opacity=\"1\" /><path clip-path=\"url(#clip720)\" d=\"M1285.68 1532.4 L1291.54 1532.4 L1291.54 1568.04 L1285.68 1568.04 L1285.68 1532.4 M1285.68 1518.52 L1291.54 1518.52 L1291.54 1525.93 L1285.68 1525.93 L1285.68 1518.52 Z\" fill=\"#000000\" fill-rule=\"nonzero\" fill-opacity=\"1\" /><path clip-path=\"url(#clip720)\" d=\"M1309.58 1522.27 L1309.58 1532.4 L1321.65 1532.4 L1321.65 1536.95 L1309.58 1536.95 L1309.58 1556.3 Q1309.58 1560.66 1310.76 1561.9 Q1311.97 1563.14 1315.63 1563.14 L1321.65 1563.14 L1321.65 1568.04 L1315.63 1568.04 Q1308.85 1568.04 1306.27 1565.53 Q1303.7 1562.98 1303.7 1556.3 L1303.7 1536.95 L1299.4 1536.95 L1299.4 1532.4 L1303.7 1532.4 L1303.7 1522.27 L1309.58 1522.27 Z\" fill=\"#000000\" fill-rule=\"nonzero\" fill-opacity=\"1\" /><path clip-path=\"url(#clip720)\" d=\"M1359.84 1548.76 L1359.84 1551.62 L1332.91 1551.62 Q1333.3 1557.67 1336.54 1560.85 Q1339.82 1564 1345.65 1564 Q1349.02 1564 1352.17 1563.17 Q1355.35 1562.35 1358.47 1560.69 L1358.47 1566.23 Q1355.32 1567.57 1352.01 1568.27 Q1348.7 1568.97 1345.3 1568.97 Q1336.77 1568.97 1331.77 1564 Q1326.8 1559.04 1326.8 1550.57 Q1326.8 1541.82 1331.51 1536.69 Q1336.26 1531.54 1344.28 1531.54 Q1351.47 1531.54 1355.64 1536.18 Q1359.84 1540.8 1359.84 1548.76 M1353.98 1547.04 Q1353.92 1542.23 1351.28 1539.37 Q1348.67 1536.5 1344.34 1536.5 Q1339.44 1536.5 1336.48 1539.27 Q1333.55 1542.04 1333.1 1547.07 L1353.98 1547.04 Z\" fill=\"#000000\" fill-rule=\"nonzero\" fill-opacity=\"1\" /><polyline clip-path=\"url(#clip720)\" style=\"stroke:#000000; stroke-linecap:round; stroke-linejoin:round; stroke-width:4; stroke-opacity:1; fill:none\" points=\"249.542,1423.18 249.542,123.472 \"/>\n",
       "<polyline clip-path=\"url(#clip720)\" style=\"stroke:#000000; stroke-linecap:round; stroke-linejoin:round; stroke-width:4; stroke-opacity:1; fill:none\" points=\"249.542,1337.42 268.44,1337.42 \"/>\n",
       "<polyline clip-path=\"url(#clip720)\" style=\"stroke:#000000; stroke-linecap:round; stroke-linejoin:round; stroke-width:4; stroke-opacity:1; fill:none\" points=\"249.542,1149.86 268.44,1149.86 \"/>\n",
       "<polyline clip-path=\"url(#clip720)\" style=\"stroke:#000000; stroke-linecap:round; stroke-linejoin:round; stroke-width:4; stroke-opacity:1; fill:none\" points=\"249.542,962.306 268.44,962.306 \"/>\n",
       "<polyline clip-path=\"url(#clip720)\" style=\"stroke:#000000; stroke-linecap:round; stroke-linejoin:round; stroke-width:4; stroke-opacity:1; fill:none\" points=\"249.542,774.75 268.44,774.75 \"/>\n",
       "<polyline clip-path=\"url(#clip720)\" style=\"stroke:#000000; stroke-linecap:round; stroke-linejoin:round; stroke-width:4; stroke-opacity:1; fill:none\" points=\"249.542,587.194 268.44,587.194 \"/>\n",
       "<polyline clip-path=\"url(#clip720)\" style=\"stroke:#000000; stroke-linecap:round; stroke-linejoin:round; stroke-width:4; stroke-opacity:1; fill:none\" points=\"249.542,399.638 268.44,399.638 \"/>\n",
       "<polyline clip-path=\"url(#clip720)\" style=\"stroke:#000000; stroke-linecap:round; stroke-linejoin:round; stroke-width:4; stroke-opacity:1; fill:none\" points=\"249.542,212.082 268.44,212.082 \"/>\n",
       "<path clip-path=\"url(#clip720)\" d=\"M127.107 1323.22 Q123.496 1323.22 121.668 1326.78 Q119.862 1330.32 119.862 1337.45 Q119.862 1344.56 121.668 1348.12 Q123.496 1351.67 127.107 1351.67 Q130.742 1351.67 132.547 1348.12 Q134.376 1344.56 134.376 1337.45 Q134.376 1330.32 132.547 1326.78 Q130.742 1323.22 127.107 1323.22 M127.107 1319.51 Q132.917 1319.51 135.973 1324.12 Q139.052 1328.7 139.052 1337.45 Q139.052 1346.18 135.973 1350.79 Q132.917 1355.37 127.107 1355.37 Q121.297 1355.37 118.218 1350.79 Q115.163 1346.18 115.163 1337.45 Q115.163 1328.7 118.218 1324.12 Q121.297 1319.51 127.107 1319.51 Z\" fill=\"#000000\" fill-rule=\"nonzero\" fill-opacity=\"1\" /><path clip-path=\"url(#clip720)\" d=\"M147.269 1348.82 L152.153 1348.82 L152.153 1354.7 L147.269 1354.7 L147.269 1348.82 Z\" fill=\"#000000\" fill-rule=\"nonzero\" fill-opacity=\"1\" /><path clip-path=\"url(#clip720)\" d=\"M166.366 1350.76 L182.686 1350.76 L182.686 1354.7 L160.741 1354.7 L160.741 1350.76 Q163.403 1348.01 167.987 1343.38 Q172.593 1338.73 173.774 1337.38 Q176.019 1334.86 176.899 1333.12 Q177.801 1331.36 177.801 1329.67 Q177.801 1326.92 175.857 1325.18 Q173.936 1323.45 170.834 1323.45 Q168.635 1323.45 166.181 1324.21 Q163.751 1324.98 160.973 1326.53 L160.973 1321.8 Q163.797 1320.67 166.251 1320.09 Q168.704 1319.51 170.741 1319.51 Q176.112 1319.51 179.306 1322.2 Q182.501 1324.88 182.501 1329.37 Q182.501 1331.5 181.69 1333.42 Q180.903 1335.32 178.797 1337.92 Q178.218 1338.59 175.116 1341.8 Q172.014 1345 166.366 1350.76 Z\" fill=\"#000000\" fill-rule=\"nonzero\" fill-opacity=\"1\" /><path clip-path=\"url(#clip720)\" d=\"M191.32 1320.14 L213.542 1320.14 L213.542 1322.13 L200.996 1354.7 L196.112 1354.7 L207.917 1324.07 L191.32 1324.07 L191.32 1320.14 Z\" fill=\"#000000\" fill-rule=\"nonzero\" fill-opacity=\"1\" /><path clip-path=\"url(#clip720)\" d=\"M126.297 1135.66 Q122.686 1135.66 120.857 1139.23 Q119.052 1142.77 119.052 1149.9 Q119.052 1157 120.857 1160.57 Q122.686 1164.11 126.297 1164.11 Q129.931 1164.11 131.737 1160.57 Q133.566 1157 133.566 1149.9 Q133.566 1142.77 131.737 1139.23 Q129.931 1135.66 126.297 1135.66 M126.297 1131.96 Q132.107 1131.96 135.163 1136.56 Q138.242 1141.15 138.242 1149.9 Q138.242 1158.62 135.163 1163.23 Q132.107 1167.81 126.297 1167.81 Q120.487 1167.81 117.408 1163.23 Q114.353 1158.62 114.353 1149.9 Q114.353 1141.15 117.408 1136.56 Q120.487 1131.96 126.297 1131.96 Z\" fill=\"#000000\" fill-rule=\"nonzero\" fill-opacity=\"1\" /><path clip-path=\"url(#clip720)\" d=\"M146.459 1161.26 L151.343 1161.26 L151.343 1167.14 L146.459 1167.14 L146.459 1161.26 Z\" fill=\"#000000\" fill-rule=\"nonzero\" fill-opacity=\"1\" /><path clip-path=\"url(#clip720)\" d=\"M165.556 1163.21 L181.876 1163.21 L181.876 1167.14 L159.931 1167.14 L159.931 1163.21 Q162.593 1160.45 167.177 1155.82 Q171.783 1151.17 172.964 1149.83 Q175.209 1147.3 176.089 1145.57 Q176.991 1143.81 176.991 1142.12 Q176.991 1139.36 175.047 1137.63 Q173.126 1135.89 170.024 1135.89 Q167.825 1135.89 165.371 1136.66 Q162.94 1137.42 160.163 1138.97 L160.163 1134.25 Q162.987 1133.11 165.44 1132.54 Q167.894 1131.96 169.931 1131.96 Q175.301 1131.96 178.496 1134.64 Q181.69 1137.33 181.69 1141.82 Q181.69 1143.95 180.88 1145.87 Q180.093 1147.77 177.987 1150.36 Q177.408 1151.03 174.306 1154.25 Q171.204 1157.44 165.556 1163.21 Z\" fill=\"#000000\" fill-rule=\"nonzero\" fill-opacity=\"1\" /><path clip-path=\"url(#clip720)\" d=\"M201.69 1150.73 Q198.357 1150.73 196.436 1152.51 Q194.538 1154.29 194.538 1157.42 Q194.538 1160.54 196.436 1162.33 Q198.357 1164.11 201.69 1164.11 Q205.024 1164.11 206.945 1162.33 Q208.866 1160.52 208.866 1157.42 Q208.866 1154.29 206.945 1152.51 Q205.047 1150.73 201.69 1150.73 M197.014 1148.74 Q194.005 1148 192.315 1145.94 Q190.649 1143.88 190.649 1140.91 Q190.649 1136.77 193.588 1134.36 Q196.551 1131.96 201.69 1131.96 Q206.852 1131.96 209.792 1134.36 Q212.732 1136.77 212.732 1140.91 Q212.732 1143.88 211.042 1145.94 Q209.375 1148 206.389 1148.74 Q209.769 1149.53 211.644 1151.82 Q213.542 1154.11 213.542 1157.42 Q213.542 1162.44 210.463 1165.13 Q207.408 1167.81 201.69 1167.81 Q195.973 1167.81 192.894 1165.13 Q189.838 1162.44 189.838 1157.42 Q189.838 1154.11 191.737 1151.82 Q193.635 1149.53 197.014 1148.74 M195.301 1141.35 Q195.301 1144.04 196.968 1145.54 Q198.658 1147.05 201.69 1147.05 Q204.699 1147.05 206.389 1145.54 Q208.102 1144.04 208.102 1141.35 Q208.102 1138.67 206.389 1137.16 Q204.699 1135.66 201.69 1135.66 Q198.658 1135.66 196.968 1137.16 Q195.301 1138.67 195.301 1141.35 Z\" fill=\"#000000\" fill-rule=\"nonzero\" fill-opacity=\"1\" /><path clip-path=\"url(#clip720)\" d=\"M126.39 948.104 Q122.779 948.104 120.95 951.669 Q119.144 955.211 119.144 962.34 Q119.144 969.447 120.95 973.012 Q122.779 976.553 126.39 976.553 Q130.024 976.553 131.83 973.012 Q133.658 969.447 133.658 962.34 Q133.658 955.211 131.83 951.669 Q130.024 948.104 126.39 948.104 M126.39 944.401 Q132.2 944.401 135.255 949.007 Q138.334 953.59 138.334 962.34 Q138.334 971.067 135.255 975.674 Q132.2 980.257 126.39 980.257 Q120.58 980.257 117.501 975.674 Q114.445 971.067 114.445 962.34 Q114.445 953.59 117.501 949.007 Q120.58 944.401 126.39 944.401 Z\" fill=\"#000000\" fill-rule=\"nonzero\" fill-opacity=\"1\" /><path clip-path=\"url(#clip720)\" d=\"M146.552 973.706 L151.436 973.706 L151.436 979.586 L146.552 979.586 L146.552 973.706 Z\" fill=\"#000000\" fill-rule=\"nonzero\" fill-opacity=\"1\" /><path clip-path=\"url(#clip720)\" d=\"M165.649 975.651 L181.968 975.651 L181.968 979.586 L160.024 979.586 L160.024 975.651 Q162.686 972.896 167.269 968.266 Q171.876 963.614 173.056 962.271 Q175.301 959.748 176.181 958.012 Q177.084 956.253 177.084 954.563 Q177.084 951.808 175.139 950.072 Q173.218 948.336 170.116 948.336 Q167.917 948.336 165.464 949.1 Q163.033 949.864 160.255 951.415 L160.255 946.692 Q163.079 945.558 165.533 944.979 Q167.987 944.401 170.024 944.401 Q175.394 944.401 178.589 947.086 Q181.783 949.771 181.783 954.262 Q181.783 956.391 180.973 958.313 Q180.186 960.211 178.079 962.803 Q177.501 963.475 174.399 966.692 Q171.297 969.887 165.649 975.651 Z\" fill=\"#000000\" fill-rule=\"nonzero\" fill-opacity=\"1\" /><path clip-path=\"url(#clip720)\" d=\"M191.922 978.868 L191.922 974.609 Q193.681 975.442 195.487 975.882 Q197.292 976.322 199.028 976.322 Q203.658 976.322 206.088 973.22 Q208.542 970.095 208.889 963.752 Q207.547 965.743 205.487 966.808 Q203.426 967.873 200.926 967.873 Q195.741 967.873 192.709 964.748 Q189.7 961.6 189.7 956.16 Q189.7 950.836 192.848 947.618 Q195.996 944.401 201.227 944.401 Q207.223 944.401 210.371 949.007 Q213.542 953.59 213.542 962.34 Q213.542 970.512 209.653 975.396 Q205.787 980.257 199.237 980.257 Q197.477 980.257 195.672 979.91 Q193.866 979.563 191.922 978.868 M201.227 964.215 Q204.375 964.215 206.204 962.063 Q208.056 959.91 208.056 956.16 Q208.056 952.433 206.204 950.28 Q204.375 948.104 201.227 948.104 Q198.079 948.104 196.227 950.28 Q194.399 952.433 194.399 956.16 Q194.399 959.91 196.227 962.063 Q198.079 964.215 201.227 964.215 Z\" fill=\"#000000\" fill-rule=\"nonzero\" fill-opacity=\"1\" /><path clip-path=\"url(#clip720)\" d=\"M126.205 760.549 Q122.593 760.549 120.765 764.113 Q118.959 767.655 118.959 774.785 Q118.959 781.891 120.765 785.456 Q122.593 788.997 126.205 788.997 Q129.839 788.997 131.644 785.456 Q133.473 781.891 133.473 774.785 Q133.473 767.655 131.644 764.113 Q129.839 760.549 126.205 760.549 M126.205 756.845 Q132.015 756.845 135.07 761.451 Q138.149 766.035 138.149 774.785 Q138.149 783.511 135.07 788.118 Q132.015 792.701 126.205 792.701 Q120.394 792.701 117.316 788.118 Q114.26 783.511 114.26 774.785 Q114.26 766.035 117.316 761.451 Q120.394 756.845 126.205 756.845 Z\" fill=\"#000000\" fill-rule=\"nonzero\" fill-opacity=\"1\" /><path clip-path=\"url(#clip720)\" d=\"M146.366 786.15 L151.251 786.15 L151.251 792.03 L146.366 792.03 L146.366 786.15 Z\" fill=\"#000000\" fill-rule=\"nonzero\" fill-opacity=\"1\" /><path clip-path=\"url(#clip720)\" d=\"M175.602 773.396 Q178.959 774.113 180.834 776.382 Q182.732 778.65 182.732 781.984 Q182.732 787.099 179.214 789.9 Q175.695 792.701 169.214 792.701 Q167.038 792.701 164.723 792.261 Q162.431 791.845 159.978 790.988 L159.978 786.474 Q161.922 787.609 164.237 788.187 Q166.552 788.766 169.075 788.766 Q173.473 788.766 175.764 787.03 Q178.079 785.294 178.079 781.984 Q178.079 778.928 175.926 777.215 Q173.797 775.479 169.977 775.479 L165.95 775.479 L165.95 771.636 L170.163 771.636 Q173.612 771.636 175.44 770.271 Q177.269 768.882 177.269 766.289 Q177.269 763.627 175.371 762.215 Q173.496 760.78 169.977 760.78 Q168.056 760.78 165.857 761.197 Q163.658 761.613 161.019 762.493 L161.019 758.326 Q163.681 757.586 165.996 757.215 Q168.334 756.845 170.394 756.845 Q175.718 756.845 178.82 759.275 Q181.922 761.683 181.922 765.803 Q181.922 768.674 180.278 770.664 Q178.635 772.632 175.602 773.396 Z\" fill=\"#000000\" fill-rule=\"nonzero\" fill-opacity=\"1\" /><path clip-path=\"url(#clip720)\" d=\"M201.598 760.549 Q197.987 760.549 196.158 764.113 Q194.352 767.655 194.352 774.785 Q194.352 781.891 196.158 785.456 Q197.987 788.997 201.598 788.997 Q205.232 788.997 207.037 785.456 Q208.866 781.891 208.866 774.785 Q208.866 767.655 207.037 764.113 Q205.232 760.549 201.598 760.549 M201.598 756.845 Q207.408 756.845 210.463 761.451 Q213.542 766.035 213.542 774.785 Q213.542 783.511 210.463 788.118 Q207.408 792.701 201.598 792.701 Q195.787 792.701 192.709 788.118 Q189.653 783.511 189.653 774.785 Q189.653 766.035 192.709 761.451 Q195.787 756.845 201.598 756.845 Z\" fill=\"#000000\" fill-rule=\"nonzero\" fill-opacity=\"1\" /><path clip-path=\"url(#clip720)\" d=\"M127.431 572.993 Q123.82 572.993 121.992 576.557 Q120.186 580.099 120.186 587.229 Q120.186 594.335 121.992 597.9 Q123.82 601.442 127.431 601.442 Q131.066 601.442 132.871 597.9 Q134.7 594.335 134.7 587.229 Q134.7 580.099 132.871 576.557 Q131.066 572.993 127.431 572.993 M127.431 569.289 Q133.242 569.289 136.297 573.895 Q139.376 578.479 139.376 587.229 Q139.376 595.956 136.297 600.562 Q133.242 605.145 127.431 605.145 Q121.621 605.145 118.543 600.562 Q115.487 595.956 115.487 587.229 Q115.487 578.479 118.543 573.895 Q121.621 569.289 127.431 569.289 Z\" fill=\"#000000\" fill-rule=\"nonzero\" fill-opacity=\"1\" /><path clip-path=\"url(#clip720)\" d=\"M147.593 598.594 L152.478 598.594 L152.478 604.474 L147.593 604.474 L147.593 598.594 Z\" fill=\"#000000\" fill-rule=\"nonzero\" fill-opacity=\"1\" /><path clip-path=\"url(#clip720)\" d=\"M176.829 585.84 Q180.186 586.557 182.061 588.826 Q183.959 591.094 183.959 594.428 Q183.959 599.543 180.44 602.344 Q176.922 605.145 170.44 605.145 Q168.264 605.145 165.95 604.705 Q163.658 604.289 161.204 603.432 L161.204 598.918 Q163.149 600.053 165.464 600.631 Q167.778 601.21 170.302 601.21 Q174.7 601.21 176.991 599.474 Q179.306 597.738 179.306 594.428 Q179.306 591.372 177.153 589.659 Q175.024 587.923 171.204 587.923 L167.177 587.923 L167.177 584.081 L171.389 584.081 Q174.839 584.081 176.667 582.715 Q178.496 581.326 178.496 578.733 Q178.496 576.071 176.598 574.659 Q174.723 573.224 171.204 573.224 Q169.283 573.224 167.084 573.641 Q164.885 574.058 162.246 574.937 L162.246 570.77 Q164.908 570.03 167.223 569.659 Q169.561 569.289 171.621 569.289 Q176.945 569.289 180.047 571.72 Q183.149 574.127 183.149 578.247 Q183.149 581.118 181.505 583.108 Q179.862 585.076 176.829 585.84 Z\" fill=\"#000000\" fill-rule=\"nonzero\" fill-opacity=\"1\" /><path clip-path=\"url(#clip720)\" d=\"M193.635 600.539 L201.274 600.539 L201.274 574.173 L192.963 575.84 L192.963 571.581 L201.227 569.914 L205.903 569.914 L205.903 600.539 L213.542 600.539 L213.542 604.474 L193.635 604.474 L193.635 600.539 Z\" fill=\"#000000\" fill-rule=\"nonzero\" fill-opacity=\"1\" /><path clip-path=\"url(#clip720)\" d=\"M127.802 385.437 Q124.191 385.437 122.362 389.002 Q120.556 392.543 120.556 399.673 Q120.556 406.779 122.362 410.344 Q124.191 413.886 127.802 413.886 Q131.436 413.886 133.242 410.344 Q135.07 406.779 135.07 399.673 Q135.07 392.543 133.242 389.002 Q131.436 385.437 127.802 385.437 M127.802 381.733 Q133.612 381.733 136.667 386.34 Q139.746 390.923 139.746 399.673 Q139.746 408.4 136.667 413.006 Q133.612 417.589 127.802 417.589 Q121.992 417.589 118.913 413.006 Q115.857 408.4 115.857 399.673 Q115.857 390.923 118.913 386.34 Q121.992 381.733 127.802 381.733 Z\" fill=\"#000000\" fill-rule=\"nonzero\" fill-opacity=\"1\" /><path clip-path=\"url(#clip720)\" d=\"M147.964 411.039 L152.848 411.039 L152.848 416.918 L147.964 416.918 L147.964 411.039 Z\" fill=\"#000000\" fill-rule=\"nonzero\" fill-opacity=\"1\" /><path clip-path=\"url(#clip720)\" d=\"M177.2 398.284 Q180.556 399.002 182.431 401.27 Q184.329 403.539 184.329 406.872 Q184.329 411.988 180.811 414.789 Q177.292 417.589 170.811 417.589 Q168.635 417.589 166.32 417.15 Q164.028 416.733 161.575 415.876 L161.575 411.363 Q163.519 412.497 165.834 413.076 Q168.149 413.654 170.672 413.654 Q175.07 413.654 177.362 411.918 Q179.676 410.182 179.676 406.872 Q179.676 403.816 177.524 402.103 Q175.394 400.367 171.575 400.367 L167.547 400.367 L167.547 396.525 L171.76 396.525 Q175.209 396.525 177.038 395.159 Q178.866 393.77 178.866 391.178 Q178.866 388.516 176.968 387.103 Q175.093 385.668 171.575 385.668 Q169.653 385.668 167.454 386.085 Q165.255 386.502 162.616 387.381 L162.616 383.215 Q165.278 382.474 167.593 382.104 Q169.931 381.733 171.991 381.733 Q177.315 381.733 180.417 384.164 Q183.519 386.571 183.519 390.691 Q183.519 393.562 181.876 395.553 Q180.232 397.52 177.2 398.284 Z\" fill=\"#000000\" fill-rule=\"nonzero\" fill-opacity=\"1\" /><path clip-path=\"url(#clip720)\" d=\"M197.223 412.983 L213.542 412.983 L213.542 416.918 L191.598 416.918 L191.598 412.983 Q194.26 410.228 198.843 405.599 Q203.449 400.946 204.63 399.603 Q206.875 397.08 207.755 395.344 Q208.658 393.585 208.658 391.895 Q208.658 389.141 206.713 387.404 Q204.792 385.668 201.69 385.668 Q199.491 385.668 197.037 386.432 Q194.607 387.196 191.829 388.747 L191.829 384.025 Q194.653 382.891 197.107 382.312 Q199.561 381.733 201.598 381.733 Q206.968 381.733 210.162 384.418 Q213.357 387.103 213.357 391.594 Q213.357 393.724 212.547 395.645 Q211.76 397.543 209.653 400.136 Q209.074 400.807 205.973 404.025 Q202.871 407.219 197.223 412.983 Z\" fill=\"#000000\" fill-rule=\"nonzero\" fill-opacity=\"1\" /><path clip-path=\"url(#clip720)\" d=\"M126.853 197.881 Q123.242 197.881 121.413 201.446 Q119.607 204.987 119.607 212.117 Q119.607 219.223 121.413 222.788 Q123.242 226.33 126.853 226.33 Q130.487 226.33 132.292 222.788 Q134.121 219.223 134.121 212.117 Q134.121 204.987 132.292 201.446 Q130.487 197.881 126.853 197.881 M126.853 194.177 Q132.663 194.177 135.718 198.784 Q138.797 203.367 138.797 212.117 Q138.797 220.844 135.718 225.45 Q132.663 230.034 126.853 230.034 Q121.043 230.034 117.964 225.45 Q114.908 220.844 114.908 212.117 Q114.908 203.367 117.964 198.784 Q121.043 194.177 126.853 194.177 Z\" fill=\"#000000\" fill-rule=\"nonzero\" fill-opacity=\"1\" /><path clip-path=\"url(#clip720)\" d=\"M147.015 223.483 L151.899 223.483 L151.899 229.362 L147.015 229.362 L147.015 223.483 Z\" fill=\"#000000\" fill-rule=\"nonzero\" fill-opacity=\"1\" /><path clip-path=\"url(#clip720)\" d=\"M176.251 210.728 Q179.607 211.446 181.482 213.714 Q183.38 215.983 183.38 219.316 Q183.38 224.432 179.862 227.233 Q176.343 230.034 169.862 230.034 Q167.686 230.034 165.371 229.594 Q163.079 229.177 160.626 228.321 L160.626 223.807 Q162.57 224.941 164.885 225.52 Q167.2 226.098 169.723 226.098 Q174.121 226.098 176.413 224.362 Q178.727 222.626 178.727 219.316 Q178.727 216.261 176.575 214.548 Q174.445 212.811 170.626 212.811 L166.598 212.811 L166.598 208.969 L170.811 208.969 Q174.26 208.969 176.089 207.603 Q177.917 206.214 177.917 203.622 Q177.917 200.96 176.019 199.548 Q174.144 198.112 170.626 198.112 Q168.704 198.112 166.505 198.529 Q164.306 198.946 161.667 199.825 L161.667 195.659 Q164.329 194.918 166.644 194.548 Q168.982 194.177 171.042 194.177 Q176.366 194.177 179.468 196.608 Q182.57 199.015 182.57 203.136 Q182.57 206.006 180.926 207.997 Q179.283 209.964 176.251 210.728 Z\" fill=\"#000000\" fill-rule=\"nonzero\" fill-opacity=\"1\" /><path clip-path=\"url(#clip720)\" d=\"M206.412 210.728 Q209.769 211.446 211.644 213.714 Q213.542 215.983 213.542 219.316 Q213.542 224.432 210.024 227.233 Q206.505 230.034 200.024 230.034 Q197.848 230.034 195.533 229.594 Q193.241 229.177 190.788 228.321 L190.788 223.807 Q192.732 224.941 195.047 225.52 Q197.362 226.098 199.885 226.098 Q204.283 226.098 206.574 224.362 Q208.889 222.626 208.889 219.316 Q208.889 216.261 206.737 214.548 Q204.607 212.811 200.787 212.811 L196.76 212.811 L196.76 208.969 L200.973 208.969 Q204.422 208.969 206.25 207.603 Q208.079 206.214 208.079 203.622 Q208.079 200.96 206.181 199.548 Q204.306 198.112 200.787 198.112 Q198.866 198.112 196.667 198.529 Q194.468 198.946 191.829 199.825 L191.829 195.659 Q194.491 194.918 196.806 194.548 Q199.144 194.177 201.204 194.177 Q206.528 194.177 209.63 196.608 Q212.732 199.015 212.732 203.136 Q212.732 206.006 211.088 207.997 Q209.445 209.964 206.412 210.728 Z\" fill=\"#000000\" fill-rule=\"nonzero\" fill-opacity=\"1\" /><path clip-path=\"url(#clip720)\" d=\"M16.4842 983.315 L16.4842 943.115 L21.895 943.115 L21.895 959.984 L64.0042 959.984 L64.0042 966.446 L21.895 966.446 L21.895 983.315 L16.4842 983.315 Z\" fill=\"#000000\" fill-rule=\"nonzero\" fill-opacity=\"1\" /><path clip-path=\"url(#clip720)\" d=\"M74.8259 910.077 L79.3773 910.077 L79.3773 943.943 L74.8259 943.943 L74.8259 910.077 Z\" fill=\"#000000\" fill-rule=\"nonzero\" fill-opacity=\"1\" /><path clip-path=\"url(#clip720)\" d=\"M28.3562 904.571 L28.3562 898.714 L64.0042 898.714 L64.0042 904.571 L28.3562 904.571 M14.479 904.571 L14.479 898.714 L21.895 898.714 L21.895 904.571 L14.479 904.571 Z\" fill=\"#000000\" fill-rule=\"nonzero\" fill-opacity=\"1\" /><path clip-path=\"url(#clip720)\" d=\"M34.4036 864.976 L34.4036 824.172 L39.7508 824.172 L39.7508 864.976 L34.4036 864.976 M47.3897 864.976 L47.3897 824.172 L52.8005 824.172 L52.8005 864.976 L47.3897 864.976 Z\" fill=\"#000000\" fill-rule=\"nonzero\" fill-opacity=\"1\" /><path clip-path=\"url(#clip720)\" d=\"M43.5702 790.72 L14.5426 781.745 L14.5426 776.334 L43.5702 785.309 L72.5979 776.334 L72.5979 781.745 L43.5702 790.72 Z\" fill=\"#000000\" fill-rule=\"nonzero\" fill-opacity=\"1\" /><path clip-path=\"url(#clip720)\" d=\"M58.657 759.306 L77.5631 759.306 L77.5631 765.194 L28.3562 765.194 L28.3562 759.306 L33.7671 759.306 Q30.5842 757.459 29.0564 754.659 Q27.4968 751.826 27.4968 747.911 Q27.4968 741.418 32.6531 737.376 Q37.8093 733.302 46.212 733.302 Q54.6147 733.302 59.771 737.376 Q64.9272 741.418 64.9272 747.911 Q64.9272 751.826 63.3994 754.659 Q61.8398 757.459 58.657 759.306 M46.212 739.381 Q39.7508 739.381 36.0905 742.054 Q32.3984 744.696 32.3984 749.343 Q32.3984 753.99 36.0905 756.664 Q39.7508 759.306 46.212 759.306 Q52.6732 759.306 56.3653 756.664 Q60.0256 753.99 60.0256 749.343 Q60.0256 744.696 56.3653 742.054 Q52.6732 739.381 46.212 739.381 Z\" fill=\"#000000\" fill-rule=\"nonzero\" fill-opacity=\"1\" /><path clip-path=\"url(#clip720)\" d=\"M74.8259 696.508 L79.3773 696.508 L79.3773 730.373 L74.8259 730.373 L74.8259 696.508 Z\" fill=\"#000000\" fill-rule=\"nonzero\" fill-opacity=\"1\" /><path clip-path=\"url(#clip720)\" d=\"M28.3562 691.001 L28.3562 685.145 L64.0042 685.145 L64.0042 691.001 L28.3562 691.001 M14.479 691.001 L14.479 685.145 L21.895 685.145 L21.895 691.001 L14.479 691.001 Z\" fill=\"#000000\" fill-rule=\"nonzero\" fill-opacity=\"1\" /><path clip-path=\"url(#clip720)\" d=\"M16.4842 648.606 L34.2127 631.323 L34.2127 637.721 L21.6404 651.725 L34.2127 665.73 L34.2127 672.127 L16.4842 654.844 L16.4842 648.606 Z\" fill=\"#000000\" fill-rule=\"nonzero\" fill-opacity=\"1\" /><path clip-path=\"url(#clip720)\" d=\"M58.5933 611.908 L58.5933 589.468 L64.0042 589.468 L64.0042 619.642 L58.5933 619.642 Q54.8057 615.982 48.44 609.68 Q42.0425 603.346 40.1964 601.722 Q36.7271 598.635 34.34 597.426 Q31.921 596.184 29.5975 596.184 Q25.8099 596.184 23.4228 598.858 Q21.0356 601.5 21.0356 605.765 Q21.0356 608.788 22.086 612.162 Q23.1363 615.504 25.2688 619.324 L18.7758 619.324 Q17.2162 615.441 16.4205 612.067 Q15.6248 608.693 15.6248 605.892 Q15.6248 598.508 19.3169 594.115 Q23.009 589.723 29.1837 589.723 Q32.112 589.723 34.7537 590.837 Q37.3637 591.919 40.9285 594.816 Q41.8515 595.611 46.2757 599.876 Q50.668 604.141 58.5933 611.908 Z\" fill=\"#000000\" fill-rule=\"nonzero\" fill-opacity=\"1\" /><path clip-path=\"url(#clip720)\" d=\"M43.5702 563.337 L72.5979 572.313 L72.5979 577.724 L43.5702 568.748 L14.5426 577.724 L14.5426 572.313 L43.5702 563.337 Z\" fill=\"#000000\" fill-rule=\"nonzero\" fill-opacity=\"1\" /><path clip-path=\"url(#clip720)\" d=\"M731.025 12.096 L782.188 12.096 L782.188 18.9825 L760.718 18.9825 L760.718 72.576 L752.495 72.576 L752.495 18.9825 L731.025 18.9825 L731.025 12.096 Z\" fill=\"#000000\" fill-rule=\"nonzero\" fill-opacity=\"1\" /><path clip-path=\"url(#clip720)\" d=\"M814.473 48.0275 L814.473 51.6733 L780.203 51.6733 Q780.689 59.3701 784.821 63.421 Q788.993 67.4314 796.406 67.4314 Q800.7 67.4314 804.711 66.3781 Q808.762 65.3249 812.731 63.2184 L812.731 70.267 Q808.721 71.9684 804.508 72.8596 Q800.295 73.7508 795.961 73.7508 Q785.104 73.7508 778.744 67.4314 Q772.425 61.1119 772.425 50.3365 Q772.425 39.1965 778.42 32.6746 Q784.456 26.1121 794.664 26.1121 Q803.819 26.1121 809.126 32.0264 Q814.473 37.9003 814.473 48.0275 M807.02 45.84 Q806.939 39.7232 803.576 36.0774 Q800.255 32.4315 794.745 32.4315 Q788.507 32.4315 784.74 35.9558 Q781.013 39.4801 780.446 45.8805 L807.02 45.84 Z\" fill=\"#000000\" fill-rule=\"nonzero\" fill-opacity=\"1\" /><path clip-path=\"url(#clip720)\" d=\"M862.031 35.9153 Q864.826 30.8922 868.715 28.5022 Q872.604 26.1121 877.87 26.1121 Q884.959 26.1121 888.807 31.0947 Q892.656 36.0368 892.656 45.1919 L892.656 72.576 L885.162 72.576 L885.162 45.4349 Q885.162 38.913 882.853 35.7533 Q880.544 32.5936 875.804 32.5936 Q870.011 32.5936 866.649 36.4419 Q863.287 40.2903 863.287 46.9338 L863.287 72.576 L855.793 72.576 L855.793 45.4349 Q855.793 38.8725 853.484 35.7533 Q851.175 32.5936 846.354 32.5936 Q840.642 32.5936 837.28 36.4824 Q833.918 40.3308 833.918 46.9338 L833.918 72.576 L826.424 72.576 L826.424 27.2059 L833.918 27.2059 L833.918 34.2544 Q836.47 30.082 840.035 28.0971 Q843.599 26.1121 848.501 26.1121 Q853.443 26.1121 856.886 28.6237 Q860.37 31.1352 862.031 35.9153 Z\" fill=\"#000000\" fill-rule=\"nonzero\" fill-opacity=\"1\" /><path clip-path=\"url(#clip720)\" d=\"M914.733 65.7705 L914.733 89.8329 L907.239 89.8329 L907.239 27.2059 L914.733 27.2059 L914.733 34.0924 Q917.083 30.0415 920.648 28.0971 Q924.253 26.1121 929.235 26.1121 Q937.499 26.1121 942.644 32.6746 Q947.829 39.2371 947.829 49.9314 Q947.829 60.6258 942.644 67.1883 Q937.499 73.7508 929.235 73.7508 Q924.253 73.7508 920.648 71.8063 Q917.083 69.8214 914.733 65.7705 M940.092 49.9314 Q940.092 41.7081 936.689 37.0496 Q933.327 32.3505 927.413 32.3505 Q921.498 32.3505 918.095 37.0496 Q914.733 41.7081 914.733 49.9314 Q914.733 58.1548 918.095 62.8538 Q921.498 67.5124 927.413 67.5124 Q933.327 67.5124 936.689 62.8538 Q940.092 58.1548 940.092 49.9314 Z\" fill=\"#000000\" fill-rule=\"nonzero\" fill-opacity=\"1\" /><path clip-path=\"url(#clip720)\" d=\"M998.992 48.0275 L998.992 51.6733 L964.721 51.6733 Q965.207 59.3701 969.339 63.421 Q973.512 67.4314 980.925 67.4314 Q985.219 67.4314 989.229 66.3781 Q993.28 65.3249 997.25 63.2184 L997.25 70.267 Q993.24 71.9684 989.027 72.8596 Q984.814 73.7508 980.479 73.7508 Q969.623 73.7508 963.263 67.4314 Q956.944 61.1119 956.944 50.3365 Q956.944 39.1965 962.939 32.6746 Q968.975 26.1121 979.183 26.1121 Q988.338 26.1121 993.645 32.0264 Q998.992 37.9003 998.992 48.0275 M991.538 45.84 Q991.457 39.7232 988.095 36.0774 Q984.773 32.4315 979.264 32.4315 Q973.026 32.4315 969.258 35.9558 Q965.532 39.4801 964.964 45.8805 L991.538 45.84 Z\" fill=\"#000000\" fill-rule=\"nonzero\" fill-opacity=\"1\" /><path clip-path=\"url(#clip720)\" d=\"M1037.52 34.1734 Q1036.26 33.4443 1034.76 33.1202 Q1033.3 32.7556 1031.52 32.7556 Q1025.2 32.7556 1021.8 36.8875 Q1018.44 40.9789 1018.44 48.6757 L1018.44 72.576 L1010.94 72.576 L1010.94 27.2059 L1018.44 27.2059 L1018.44 34.2544 Q1020.79 30.1225 1024.55 28.1376 Q1028.32 26.1121 1033.71 26.1121 Q1034.48 26.1121 1035.41 26.2337 Q1036.34 26.3147 1037.48 26.5172 L1037.52 34.1734 Z\" fill=\"#000000\" fill-rule=\"nonzero\" fill-opacity=\"1\" /><path clip-path=\"url(#clip720)\" d=\"M1065.95 49.7694 Q1056.92 49.7694 1053.44 51.8354 Q1049.95 53.9013 1049.95 58.8839 Q1049.95 62.8538 1052.54 65.2034 Q1055.18 67.5124 1059.67 67.5124 Q1065.87 67.5124 1069.6 63.1374 Q1073.37 58.7219 1073.37 51.4303 L1073.37 49.7694 L1065.95 49.7694 M1080.82 46.6907 L1080.82 72.576 L1073.37 72.576 L1073.37 65.6895 Q1070.81 69.8214 1067.01 71.8063 Q1063.2 73.7508 1057.69 73.7508 Q1050.72 73.7508 1046.59 69.8619 Q1042.5 65.9325 1042.5 59.3701 Q1042.5 51.7138 1047.6 47.825 Q1052.75 43.9361 1062.92 43.9361 L1073.37 43.9361 L1073.37 43.2069 Q1073.37 38.0623 1069.96 35.2672 Q1066.6 32.4315 1060.48 32.4315 Q1056.6 32.4315 1052.91 33.3632 Q1049.22 34.295 1045.82 36.1584 L1045.82 29.2718 Q1049.91 27.692 1053.76 26.9223 Q1057.61 26.1121 1061.25 26.1121 Q1071.1 26.1121 1075.96 31.2163 Q1080.82 36.3204 1080.82 46.6907 Z\" fill=\"#000000\" fill-rule=\"nonzero\" fill-opacity=\"1\" /><path clip-path=\"url(#clip720)\" d=\"M1103.55 14.324 L1103.55 27.2059 L1118.9 27.2059 L1118.9 32.9987 L1103.55 32.9987 L1103.55 57.6282 Q1103.55 63.1779 1105.04 64.7578 Q1106.58 66.3376 1111.24 66.3376 L1118.9 66.3376 L1118.9 72.576 L1111.24 72.576 Q1102.61 72.576 1099.33 69.3758 Q1096.05 66.1351 1096.05 57.6282 L1096.05 32.9987 L1090.58 32.9987 L1090.58 27.2059 L1096.05 27.2059 L1096.05 14.324 L1103.55 14.324 Z\" fill=\"#000000\" fill-rule=\"nonzero\" fill-opacity=\"1\" /><path clip-path=\"url(#clip720)\" d=\"M1127.93 54.671 L1127.93 27.2059 L1135.39 27.2059 L1135.39 54.3874 Q1135.39 60.8284 1137.9 64.0691 Q1140.41 67.2693 1145.43 67.2693 Q1151.47 67.2693 1154.95 63.421 Q1158.48 59.5726 1158.48 52.9291 L1158.48 27.2059 L1165.93 27.2059 L1165.93 72.576 L1158.48 72.576 L1158.48 65.6084 Q1155.76 69.7404 1152.16 71.7658 Q1148.59 73.7508 1143.85 73.7508 Q1136.03 73.7508 1131.98 68.8897 Q1127.93 64.0286 1127.93 54.671 M1146.69 26.1121 L1146.69 26.1121 Z\" fill=\"#000000\" fill-rule=\"nonzero\" fill-opacity=\"1\" /><path clip-path=\"url(#clip720)\" d=\"M1207.57 34.1734 Q1206.32 33.4443 1204.82 33.1202 Q1203.36 32.7556 1201.58 32.7556 Q1195.26 32.7556 1191.86 36.8875 Q1188.49 40.9789 1188.49 48.6757 L1188.49 72.576 L1181 72.576 L1181 27.2059 L1188.49 27.2059 L1188.49 34.2544 Q1190.84 30.1225 1194.61 28.1376 Q1198.38 26.1121 1203.77 26.1121 Q1204.53 26.1121 1205.47 26.2337 Q1206.4 26.3147 1207.53 26.5172 L1207.57 34.1734 Z\" fill=\"#000000\" fill-rule=\"nonzero\" fill-opacity=\"1\" /><path clip-path=\"url(#clip720)\" d=\"M1252.38 48.0275 L1252.38 51.6733 L1218.11 51.6733 Q1218.59 59.3701 1222.72 63.421 Q1226.9 67.4314 1234.31 67.4314 Q1238.6 67.4314 1242.61 66.3781 Q1246.66 65.3249 1250.63 63.2184 L1250.63 70.267 Q1246.62 71.9684 1242.41 72.8596 Q1238.2 73.7508 1233.86 73.7508 Q1223.01 73.7508 1216.65 67.4314 Q1210.33 61.1119 1210.33 50.3365 Q1210.33 39.1965 1216.32 32.6746 Q1222.36 26.1121 1232.57 26.1121 Q1241.72 26.1121 1247.03 32.0264 Q1252.38 37.9003 1252.38 48.0275 M1244.92 45.84 Q1244.84 39.7232 1241.48 36.0774 Q1238.16 32.4315 1232.65 32.4315 Q1226.41 32.4315 1222.64 35.9558 Q1218.92 39.4801 1218.35 45.8805 L1244.92 45.84 Z\" fill=\"#000000\" fill-rule=\"nonzero\" fill-opacity=\"1\" /><path clip-path=\"url(#clip720)\" d=\"M1298.19 65.7705 L1298.19 89.8329 L1290.7 89.8329 L1290.7 27.2059 L1298.19 27.2059 L1298.19 34.0924 Q1300.54 30.0415 1304.11 28.0971 Q1307.71 26.1121 1312.69 26.1121 Q1320.96 26.1121 1326.1 32.6746 Q1331.29 39.2371 1331.29 49.9314 Q1331.29 60.6258 1326.1 67.1883 Q1320.96 73.7508 1312.69 73.7508 Q1307.71 73.7508 1304.11 71.8063 Q1300.54 69.8214 1298.19 65.7705 M1323.55 49.9314 Q1323.55 41.7081 1320.15 37.0496 Q1316.79 32.3505 1310.87 32.3505 Q1304.96 32.3505 1301.55 37.0496 Q1298.19 41.7081 1298.19 49.9314 Q1298.19 58.1548 1301.55 62.8538 Q1304.96 67.5124 1310.87 67.5124 Q1316.79 67.5124 1320.15 62.8538 Q1323.55 58.1548 1323.55 49.9314 Z\" fill=\"#000000\" fill-rule=\"nonzero\" fill-opacity=\"1\" /><path clip-path=\"url(#clip720)\" d=\"M1369.93 34.1734 Q1368.68 33.4443 1367.18 33.1202 Q1365.72 32.7556 1363.94 32.7556 Q1357.62 32.7556 1354.22 36.8875 Q1350.85 40.9789 1350.85 48.6757 L1350.85 72.576 L1343.36 72.576 L1343.36 27.2059 L1350.85 27.2059 L1350.85 34.2544 Q1353.2 30.1225 1356.97 28.1376 Q1360.74 26.1121 1366.13 26.1121 Q1366.9 26.1121 1367.83 26.2337 Q1368.76 26.3147 1369.89 26.5172 L1369.93 34.1734 Z\" fill=\"#000000\" fill-rule=\"nonzero\" fill-opacity=\"1\" /><path clip-path=\"url(#clip720)\" d=\"M1393.51 32.4315 Q1387.51 32.4315 1384.03 37.1306 Q1380.55 41.7891 1380.55 49.9314 Q1380.55 58.0738 1383.99 62.7728 Q1387.47 67.4314 1393.51 67.4314 Q1399.46 67.4314 1402.95 62.7323 Q1406.43 58.0333 1406.43 49.9314 Q1406.43 41.8701 1402.95 37.1711 Q1399.46 32.4315 1393.51 32.4315 M1393.51 26.1121 Q1403.23 26.1121 1408.78 32.4315 Q1414.33 38.7509 1414.33 49.9314 Q1414.33 61.0714 1408.78 67.4314 Q1403.23 73.7508 1393.51 73.7508 Q1383.75 73.7508 1378.2 67.4314 Q1372.69 61.0714 1372.69 49.9314 Q1372.69 38.7509 1378.2 32.4315 Q1383.75 26.1121 1393.51 26.1121 Z\" fill=\"#000000\" fill-rule=\"nonzero\" fill-opacity=\"1\" /><path clip-path=\"url(#clip720)\" d=\"M1449.66 9.54393 L1449.66 15.7418 L1442.53 15.7418 Q1438.52 15.7418 1436.94 17.3622 Q1435.4 18.9825 1435.4 23.1955 L1435.4 27.2059 L1447.67 27.2059 L1447.67 32.9987 L1435.4 32.9987 L1435.4 72.576 L1427.9 72.576 L1427.9 32.9987 L1420.77 32.9987 L1420.77 27.2059 L1427.9 27.2059 L1427.9 24.0462 Q1427.9 16.471 1431.43 13.0277 Q1434.95 9.54393 1442.61 9.54393 L1449.66 9.54393 Z\" fill=\"#000000\" fill-rule=\"nonzero\" fill-opacity=\"1\" /><path clip-path=\"url(#clip720)\" d=\"M1455.89 27.2059 L1463.35 27.2059 L1463.35 72.576 L1455.89 72.576 L1455.89 27.2059 M1455.89 9.54393 L1463.35 9.54393 L1463.35 18.9825 L1455.89 18.9825 L1455.89 9.54393 Z\" fill=\"#000000\" fill-rule=\"nonzero\" fill-opacity=\"1\" /><path clip-path=\"url(#clip720)\" d=\"M1478.94 9.54393 L1486.4 9.54393 L1486.4 72.576 L1478.94 72.576 L1478.94 9.54393 Z\" fill=\"#000000\" fill-rule=\"nonzero\" fill-opacity=\"1\" /><path clip-path=\"url(#clip720)\" d=\"M1540.8 48.0275 L1540.8 51.6733 L1506.53 51.6733 Q1507.02 59.3701 1511.15 63.421 Q1515.32 67.4314 1522.73 67.4314 Q1527.03 67.4314 1531.04 66.3781 Q1535.09 65.3249 1539.06 63.2184 L1539.06 70.267 Q1535.05 71.9684 1530.84 72.8596 Q1526.62 73.7508 1522.29 73.7508 Q1511.43 73.7508 1505.07 67.4314 Q1498.75 61.1119 1498.75 50.3365 Q1498.75 39.1965 1504.75 32.6746 Q1510.78 26.1121 1520.99 26.1121 Q1530.15 26.1121 1535.45 32.0264 Q1540.8 37.9003 1540.8 48.0275 M1533.35 45.84 Q1533.27 39.7232 1529.9 36.0774 Q1526.58 32.4315 1521.07 32.4315 Q1514.83 32.4315 1511.07 35.9558 Q1507.34 39.4801 1506.77 45.8805 L1533.35 45.84 Z\" fill=\"#000000\" fill-rule=\"nonzero\" fill-opacity=\"1\" /><path clip-path=\"url(#clip720)\" d=\"M1597.31 9.62495 Q1591.88 18.942 1589.25 28.0566 Q1586.62 37.1711 1586.62 46.5287 Q1586.62 55.8863 1589.25 65.0818 Q1591.92 74.2369 1597.31 83.5134 L1590.83 83.5134 Q1584.75 73.9938 1581.71 64.7983 Q1578.72 55.6027 1578.72 46.5287 Q1578.72 37.4952 1581.71 28.3401 Q1584.71 19.1851 1590.83 9.62495 L1597.31 9.62495 Z\" fill=\"#000000\" fill-rule=\"nonzero\" fill-opacity=\"1\" /><path clip-path=\"url(#clip720)\" d=\"M1627.69 72.576 L1604.6 12.096 L1613.15 12.096 L1632.31 63.0159 L1651.51 12.096 L1660.02 12.096 L1636.97 72.576 L1627.69 72.576 Z\" fill=\"#000000\" fill-rule=\"nonzero\" fill-opacity=\"1\" /><path clip-path=\"url(#clip720)\" d=\"M1700.89 48.0275 L1700.89 51.6733 L1666.62 51.6733 Q1667.11 59.3701 1671.24 63.421 Q1675.41 67.4314 1682.83 67.4314 Q1687.12 67.4314 1691.13 66.3781 Q1695.18 65.3249 1699.15 63.2184 L1699.15 70.267 Q1695.14 71.9684 1690.93 72.8596 Q1686.71 73.7508 1682.38 73.7508 Q1671.52 73.7508 1665.16 67.4314 Q1658.84 61.1119 1658.84 50.3365 Q1658.84 39.1965 1664.84 32.6746 Q1670.87 26.1121 1681.08 26.1121 Q1690.24 26.1121 1695.55 32.0264 Q1700.89 37.9003 1700.89 48.0275 M1693.44 45.84 Q1693.36 39.7232 1690 36.0774 Q1686.67 32.4315 1681.16 32.4315 Q1674.93 32.4315 1671.16 35.9558 Q1667.43 39.4801 1666.86 45.8805 L1693.44 45.84 Z\" fill=\"#000000\" fill-rule=\"nonzero\" fill-opacity=\"1\" /><path clip-path=\"url(#clip720)\" d=\"M1739.42 34.1734 Q1738.16 33.4443 1736.66 33.1202 Q1735.2 32.7556 1733.42 32.7556 Q1727.1 32.7556 1723.7 36.8875 Q1720.34 40.9789 1720.34 48.6757 L1720.34 72.576 L1712.84 72.576 L1712.84 27.2059 L1720.34 27.2059 L1720.34 34.2544 Q1722.69 30.1225 1726.45 28.1376 Q1730.22 26.1121 1735.61 26.1121 Q1736.38 26.1121 1737.31 26.2337 Q1738.24 26.3147 1739.38 26.5172 L1739.42 34.1734 Z\" fill=\"#000000\" fill-rule=\"nonzero\" fill-opacity=\"1\" /><path clip-path=\"url(#clip720)\" d=\"M1747.23 9.54393 L1754.69 9.54393 L1754.69 72.576 L1747.23 72.576 L1747.23 9.54393 Z\" fill=\"#000000\" fill-rule=\"nonzero\" fill-opacity=\"1\" /><path clip-path=\"url(#clip720)\" d=\"M1809.09 48.0275 L1809.09 51.6733 L1774.82 51.6733 Q1775.31 59.3701 1779.44 63.421 Q1783.61 67.4314 1791.02 67.4314 Q1795.32 67.4314 1799.33 66.3781 Q1803.38 65.3249 1807.35 63.2184 L1807.35 70.267 Q1803.34 71.9684 1799.13 72.8596 Q1794.91 73.7508 1790.58 73.7508 Q1779.72 73.7508 1773.36 67.4314 Q1767.04 61.1119 1767.04 50.3365 Q1767.04 39.1965 1773.04 32.6746 Q1779.07 26.1121 1789.28 26.1121 Q1798.44 26.1121 1803.74 32.0264 Q1809.09 37.9003 1809.09 48.0275 M1801.64 45.84 Q1801.56 39.7232 1798.19 36.0774 Q1794.87 32.4315 1789.36 32.4315 Q1783.13 32.4315 1779.36 35.9558 Q1775.63 39.4801 1775.06 45.8805 L1801.64 45.84 Z\" fill=\"#000000\" fill-rule=\"nonzero\" fill-opacity=\"1\" /><path clip-path=\"url(#clip720)\" d=\"M1828.7 14.324 L1828.7 27.2059 L1844.05 27.2059 L1844.05 32.9987 L1828.7 32.9987 L1828.7 57.6282 Q1828.7 63.1779 1830.2 64.7578 Q1831.74 66.3376 1836.39 66.3376 L1844.05 66.3376 L1844.05 72.576 L1836.39 72.576 Q1827.77 72.576 1824.49 69.3758 Q1821.2 66.1351 1821.2 57.6282 L1821.2 32.9987 L1815.74 32.9987 L1815.74 27.2059 L1821.2 27.2059 L1821.2 14.324 L1828.7 14.324 Z\" fill=\"#000000\" fill-rule=\"nonzero\" fill-opacity=\"1\" /><path clip-path=\"url(#clip720)\" d=\"M1852.68 9.62495 L1859.16 9.62495 Q1865.24 19.1851 1868.24 28.3401 Q1871.27 37.4952 1871.27 46.5287 Q1871.27 55.6027 1868.24 64.7983 Q1865.24 73.9938 1859.16 83.5134 L1852.68 83.5134 Q1858.07 74.2369 1860.7 65.0818 Q1863.37 55.8863 1863.37 46.5287 Q1863.37 37.1711 1860.7 28.0566 Q1858.07 18.942 1852.68 9.62495 Z\" fill=\"#000000\" fill-rule=\"nonzero\" fill-opacity=\"1\" /><polyline clip-path=\"url(#clip722)\" style=\"stroke:#009af9; stroke-linecap:round; stroke-linejoin:round; stroke-width:8; stroke-opacity:1; fill:none\" points=\"309.067,1386.4 529.53,788.483 749.992,760.153 970.455,742.425 1190.92,714.938 1411.38,697.563 1631.84,682.618 1852.31,675.9 2072.77,677.662 2293.23,160.256 \"/>\n",
       "</svg>\n"
      ],
      "text/html": [
       "<?xml version=\"1.0\" encoding=\"utf-8\"?>\n",
       "<svg xmlns=\"http://www.w3.org/2000/svg\" xmlns:xlink=\"http://www.w3.org/1999/xlink\" width=\"600\" height=\"400\" viewBox=\"0 0 2400 1600\">\n",
       "<defs>\n",
       "  <clipPath id=\"clip770\">\n",
       "    <rect x=\"0\" y=\"0\" width=\"2400\" height=\"1600\"/>\n",
       "  </clipPath>\n",
       "</defs>\n",
       "<path clip-path=\"url(#clip770)\" d=\"M0 1600 L2400 1600 L2400 0 L0 0  Z\" fill=\"#ffffff\" fill-rule=\"evenodd\" fill-opacity=\"1\"/>\n",
       "<defs>\n",
       "  <clipPath id=\"clip771\">\n",
       "    <rect x=\"480\" y=\"0\" width=\"1681\" height=\"1600\"/>\n",
       "  </clipPath>\n",
       "</defs>\n",
       "<path clip-path=\"url(#clip770)\" d=\"M249.542 1423.18 L2352.76 1423.18 L2352.76 123.472 L249.542 123.472  Z\" fill=\"#ffffff\" fill-rule=\"evenodd\" fill-opacity=\"1\"/>\n",
       "<defs>\n",
       "  <clipPath id=\"clip772\">\n",
       "    <rect x=\"249\" y=\"123\" width=\"2104\" height=\"1301\"/>\n",
       "  </clipPath>\n",
       "</defs>\n",
       "<polyline clip-path=\"url(#clip772)\" style=\"stroke:#000000; stroke-linecap:round; stroke-linejoin:round; stroke-width:2; stroke-opacity:0.1; fill:none\" points=\"529.53,1423.18 529.53,123.472 \"/>\n",
       "<polyline clip-path=\"url(#clip772)\" style=\"stroke:#000000; stroke-linecap:round; stroke-linejoin:round; stroke-width:2; stroke-opacity:0.1; fill:none\" points=\"970.455,1423.18 970.455,123.472 \"/>\n",
       "<polyline clip-path=\"url(#clip772)\" style=\"stroke:#000000; stroke-linecap:round; stroke-linejoin:round; stroke-width:2; stroke-opacity:0.1; fill:none\" points=\"1411.38,1423.18 1411.38,123.472 \"/>\n",
       "<polyline clip-path=\"url(#clip772)\" style=\"stroke:#000000; stroke-linecap:round; stroke-linejoin:round; stroke-width:2; stroke-opacity:0.1; fill:none\" points=\"1852.31,1423.18 1852.31,123.472 \"/>\n",
       "<polyline clip-path=\"url(#clip772)\" style=\"stroke:#000000; stroke-linecap:round; stroke-linejoin:round; stroke-width:2; stroke-opacity:0.1; fill:none\" points=\"2293.23,1423.18 2293.23,123.472 \"/>\n",
       "<polyline clip-path=\"url(#clip772)\" style=\"stroke:#000000; stroke-linecap:round; stroke-linejoin:round; stroke-width:2; stroke-opacity:0.1; fill:none\" points=\"249.542,1337.42 2352.76,1337.42 \"/>\n",
       "<polyline clip-path=\"url(#clip772)\" style=\"stroke:#000000; stroke-linecap:round; stroke-linejoin:round; stroke-width:2; stroke-opacity:0.1; fill:none\" points=\"249.542,1149.86 2352.76,1149.86 \"/>\n",
       "<polyline clip-path=\"url(#clip772)\" style=\"stroke:#000000; stroke-linecap:round; stroke-linejoin:round; stroke-width:2; stroke-opacity:0.1; fill:none\" points=\"249.542,962.306 2352.76,962.306 \"/>\n",
       "<polyline clip-path=\"url(#clip772)\" style=\"stroke:#000000; stroke-linecap:round; stroke-linejoin:round; stroke-width:2; stroke-opacity:0.1; fill:none\" points=\"249.542,774.75 2352.76,774.75 \"/>\n",
       "<polyline clip-path=\"url(#clip772)\" style=\"stroke:#000000; stroke-linecap:round; stroke-linejoin:round; stroke-width:2; stroke-opacity:0.1; fill:none\" points=\"249.542,587.194 2352.76,587.194 \"/>\n",
       "<polyline clip-path=\"url(#clip772)\" style=\"stroke:#000000; stroke-linecap:round; stroke-linejoin:round; stroke-width:2; stroke-opacity:0.1; fill:none\" points=\"249.542,399.638 2352.76,399.638 \"/>\n",
       "<polyline clip-path=\"url(#clip772)\" style=\"stroke:#000000; stroke-linecap:round; stroke-linejoin:round; stroke-width:2; stroke-opacity:0.1; fill:none\" points=\"249.542,212.082 2352.76,212.082 \"/>\n",
       "<polyline clip-path=\"url(#clip770)\" style=\"stroke:#000000; stroke-linecap:round; stroke-linejoin:round; stroke-width:4; stroke-opacity:1; fill:none\" points=\"249.542,1423.18 2352.76,1423.18 \"/>\n",
       "<polyline clip-path=\"url(#clip770)\" style=\"stroke:#000000; stroke-linecap:round; stroke-linejoin:round; stroke-width:4; stroke-opacity:1; fill:none\" points=\"529.53,1423.18 529.53,1404.28 \"/>\n",
       "<polyline clip-path=\"url(#clip770)\" style=\"stroke:#000000; stroke-linecap:round; stroke-linejoin:round; stroke-width:4; stroke-opacity:1; fill:none\" points=\"970.455,1423.18 970.455,1404.28 \"/>\n",
       "<polyline clip-path=\"url(#clip770)\" style=\"stroke:#000000; stroke-linecap:round; stroke-linejoin:round; stroke-width:4; stroke-opacity:1; fill:none\" points=\"1411.38,1423.18 1411.38,1404.28 \"/>\n",
       "<polyline clip-path=\"url(#clip770)\" style=\"stroke:#000000; stroke-linecap:round; stroke-linejoin:round; stroke-width:4; stroke-opacity:1; fill:none\" points=\"1852.31,1423.18 1852.31,1404.28 \"/>\n",
       "<polyline clip-path=\"url(#clip770)\" style=\"stroke:#000000; stroke-linecap:round; stroke-linejoin:round; stroke-width:4; stroke-opacity:1; fill:none\" points=\"2293.23,1423.18 2293.23,1404.28 \"/>\n",
       "<path clip-path=\"url(#clip770)\" d=\"M524.182 1481.64 L540.502 1481.64 L540.502 1485.58 L518.557 1485.58 L518.557 1481.64 Q521.219 1478.89 525.803 1474.26 Q530.409 1469.61 531.59 1468.27 Q533.835 1465.74 534.715 1464.01 Q535.618 1462.25 535.618 1460.56 Q535.618 1457.8 533.673 1456.07 Q531.752 1454.33 528.65 1454.33 Q526.451 1454.33 523.997 1455.09 Q521.567 1455.86 518.789 1457.41 L518.789 1452.69 Q521.613 1451.55 524.067 1450.97 Q526.52 1450.39 528.557 1450.39 Q533.928 1450.39 537.122 1453.08 Q540.317 1455.77 540.317 1460.26 Q540.317 1462.39 539.506 1464.31 Q538.719 1466.2 536.613 1468.8 Q536.034 1469.47 532.932 1472.69 Q529.831 1475.88 524.182 1481.64 Z\" fill=\"#000000\" fill-rule=\"nonzero\" fill-opacity=\"1\" /><path clip-path=\"url(#clip770)\" d=\"M973.464 1455.09 L961.659 1473.54 L973.464 1473.54 L973.464 1455.09 M972.237 1451.02 L978.117 1451.02 L978.117 1473.54 L983.047 1473.54 L983.047 1477.43 L978.117 1477.43 L978.117 1485.58 L973.464 1485.58 L973.464 1477.43 L957.862 1477.43 L957.862 1472.92 L972.237 1451.02 Z\" fill=\"#000000\" fill-rule=\"nonzero\" fill-opacity=\"1\" /><path clip-path=\"url(#clip770)\" d=\"M1411.79 1466.44 Q1408.64 1466.44 1406.79 1468.59 Q1404.96 1470.74 1404.96 1474.49 Q1404.96 1478.22 1406.79 1480.39 Q1408.64 1482.55 1411.79 1482.55 Q1414.93 1482.55 1416.76 1480.39 Q1418.61 1478.22 1418.61 1474.49 Q1418.61 1470.74 1416.76 1468.59 Q1414.93 1466.44 1411.79 1466.44 M1421.07 1451.78 L1421.07 1456.04 Q1419.31 1455.21 1417.5 1454.77 Q1415.72 1454.33 1413.96 1454.33 Q1409.33 1454.33 1406.88 1457.45 Q1404.45 1460.58 1404.1 1466.9 Q1405.47 1464.89 1407.53 1463.82 Q1409.59 1462.73 1412.06 1462.73 Q1417.27 1462.73 1420.28 1465.9 Q1423.31 1469.05 1423.31 1474.49 Q1423.31 1479.82 1420.16 1483.03 Q1417.02 1486.25 1411.79 1486.25 Q1405.79 1486.25 1402.62 1481.67 Q1399.45 1477.06 1399.45 1468.33 Q1399.45 1460.14 1403.34 1455.28 Q1407.23 1450.39 1413.78 1450.39 Q1415.54 1450.39 1417.32 1450.74 Q1419.12 1451.09 1421.07 1451.78 Z\" fill=\"#000000\" fill-rule=\"nonzero\" fill-opacity=\"1\" /><path clip-path=\"url(#clip770)\" d=\"M1852.31 1469.17 Q1848.97 1469.17 1847.05 1470.95 Q1845.15 1472.73 1845.15 1475.86 Q1845.15 1478.98 1847.05 1480.77 Q1848.97 1482.55 1852.31 1482.55 Q1855.64 1482.55 1857.56 1480.77 Q1859.48 1478.96 1859.48 1475.86 Q1859.48 1472.73 1857.56 1470.95 Q1855.66 1469.17 1852.31 1469.17 M1847.63 1467.18 Q1844.62 1466.44 1842.93 1464.38 Q1841.26 1462.32 1841.26 1459.35 Q1841.26 1455.21 1844.2 1452.8 Q1847.17 1450.39 1852.31 1450.39 Q1857.47 1450.39 1860.41 1452.8 Q1863.35 1455.21 1863.35 1459.35 Q1863.35 1462.32 1861.66 1464.38 Q1859.99 1466.44 1857 1467.18 Q1860.38 1467.96 1862.26 1470.26 Q1864.16 1472.55 1864.16 1475.86 Q1864.16 1480.88 1861.08 1483.57 Q1858.02 1486.25 1852.31 1486.25 Q1846.59 1486.25 1843.51 1483.57 Q1840.45 1480.88 1840.45 1475.86 Q1840.45 1472.55 1842.35 1470.26 Q1844.25 1467.96 1847.63 1467.18 M1845.92 1459.79 Q1845.92 1462.48 1847.58 1463.98 Q1849.27 1465.49 1852.31 1465.49 Q1855.31 1465.49 1857 1463.98 Q1858.72 1462.48 1858.72 1459.79 Q1858.72 1457.11 1857 1455.6 Q1855.31 1454.1 1852.31 1454.1 Q1849.27 1454.1 1847.58 1455.6 Q1845.92 1457.11 1845.92 1459.79 Z\" fill=\"#000000\" fill-rule=\"nonzero\" fill-opacity=\"1\" /><path clip-path=\"url(#clip770)\" d=\"M2267.92 1481.64 L2275.56 1481.64 L2275.56 1455.28 L2267.25 1456.95 L2267.25 1452.69 L2275.51 1451.02 L2280.19 1451.02 L2280.19 1481.64 L2287.83 1481.64 L2287.83 1485.58 L2267.92 1485.58 L2267.92 1481.64 Z\" fill=\"#000000\" fill-rule=\"nonzero\" fill-opacity=\"1\" /><path clip-path=\"url(#clip770)\" d=\"M2307.27 1454.1 Q2303.66 1454.1 2301.83 1457.66 Q2300.02 1461.2 2300.02 1468.33 Q2300.02 1475.44 2301.83 1479.01 Q2303.66 1482.55 2307.27 1482.55 Q2310.9 1482.55 2312.71 1479.01 Q2314.54 1475.44 2314.54 1468.33 Q2314.54 1461.2 2312.71 1457.66 Q2310.9 1454.1 2307.27 1454.1 M2307.27 1450.39 Q2313.08 1450.39 2316.14 1455 Q2319.21 1459.58 2319.21 1468.33 Q2319.21 1477.06 2316.14 1481.67 Q2313.08 1486.25 2307.27 1486.25 Q2301.46 1486.25 2298.38 1481.67 Q2295.33 1477.06 2295.33 1468.33 Q2295.33 1459.58 2298.38 1455 Q2301.46 1450.39 2307.27 1450.39 Z\" fill=\"#000000\" fill-rule=\"nonzero\" fill-opacity=\"1\" /><path clip-path=\"url(#clip770)\" d=\"M1273.04 1522.08 L1273.04 1528.35 Q1269.38 1526.6 1266.14 1525.74 Q1262.89 1524.88 1259.87 1524.88 Q1254.62 1524.88 1251.75 1526.92 Q1248.92 1528.96 1248.92 1532.71 Q1248.92 1535.87 1250.8 1537.49 Q1252.71 1539.08 1257.99 1540.07 L1261.87 1540.86 Q1269.07 1542.23 1272.47 1545.7 Q1275.91 1549.14 1275.91 1554.93 Q1275.91 1561.84 1271.26 1565.4 Q1266.65 1568.97 1257.7 1568.97 Q1254.33 1568.97 1250.51 1568.2 Q1246.72 1567.44 1242.65 1565.94 L1242.65 1559.32 Q1246.56 1561.52 1250.32 1562.63 Q1254.07 1563.75 1257.7 1563.75 Q1263.21 1563.75 1266.2 1561.58 Q1269.19 1559.42 1269.19 1555.41 Q1269.19 1551.91 1267.03 1549.93 Q1264.9 1547.96 1259.99 1546.97 L1256.08 1546.21 Q1248.89 1544.78 1245.67 1541.72 Q1242.46 1538.67 1242.46 1533.22 Q1242.46 1526.92 1246.88 1523.29 Q1251.34 1519.66 1259.14 1519.66 Q1262.48 1519.66 1265.95 1520.27 Q1269.42 1520.87 1273.04 1522.08 Z\" fill=\"#000000\" fill-rule=\"nonzero\" fill-opacity=\"1\" /><path clip-path=\"url(#clip770)\" d=\"M1285.68 1532.4 L1291.54 1532.4 L1291.54 1568.04 L1285.68 1568.04 L1285.68 1532.4 M1285.68 1518.52 L1291.54 1518.52 L1291.54 1525.93 L1285.68 1525.93 L1285.68 1518.52 Z\" fill=\"#000000\" fill-rule=\"nonzero\" fill-opacity=\"1\" /><path clip-path=\"url(#clip770)\" d=\"M1309.58 1522.27 L1309.58 1532.4 L1321.65 1532.4 L1321.65 1536.95 L1309.58 1536.95 L1309.58 1556.3 Q1309.58 1560.66 1310.76 1561.9 Q1311.97 1563.14 1315.63 1563.14 L1321.65 1563.14 L1321.65 1568.04 L1315.63 1568.04 Q1308.85 1568.04 1306.27 1565.53 Q1303.7 1562.98 1303.7 1556.3 L1303.7 1536.95 L1299.4 1536.95 L1299.4 1532.4 L1303.7 1532.4 L1303.7 1522.27 L1309.58 1522.27 Z\" fill=\"#000000\" fill-rule=\"nonzero\" fill-opacity=\"1\" /><path clip-path=\"url(#clip770)\" d=\"M1359.84 1548.76 L1359.84 1551.62 L1332.91 1551.62 Q1333.3 1557.67 1336.54 1560.85 Q1339.82 1564 1345.65 1564 Q1349.02 1564 1352.17 1563.17 Q1355.35 1562.35 1358.47 1560.69 L1358.47 1566.23 Q1355.32 1567.57 1352.01 1568.27 Q1348.7 1568.97 1345.3 1568.97 Q1336.77 1568.97 1331.77 1564 Q1326.8 1559.04 1326.8 1550.57 Q1326.8 1541.82 1331.51 1536.69 Q1336.26 1531.54 1344.28 1531.54 Q1351.47 1531.54 1355.64 1536.18 Q1359.84 1540.8 1359.84 1548.76 M1353.98 1547.04 Q1353.92 1542.23 1351.28 1539.37 Q1348.67 1536.5 1344.34 1536.5 Q1339.44 1536.5 1336.48 1539.27 Q1333.55 1542.04 1333.1 1547.07 L1353.98 1547.04 Z\" fill=\"#000000\" fill-rule=\"nonzero\" fill-opacity=\"1\" /><polyline clip-path=\"url(#clip770)\" style=\"stroke:#000000; stroke-linecap:round; stroke-linejoin:round; stroke-width:4; stroke-opacity:1; fill:none\" points=\"249.542,1423.18 249.542,123.472 \"/>\n",
       "<polyline clip-path=\"url(#clip770)\" style=\"stroke:#000000; stroke-linecap:round; stroke-linejoin:round; stroke-width:4; stroke-opacity:1; fill:none\" points=\"249.542,1337.42 268.44,1337.42 \"/>\n",
       "<polyline clip-path=\"url(#clip770)\" style=\"stroke:#000000; stroke-linecap:round; stroke-linejoin:round; stroke-width:4; stroke-opacity:1; fill:none\" points=\"249.542,1149.86 268.44,1149.86 \"/>\n",
       "<polyline clip-path=\"url(#clip770)\" style=\"stroke:#000000; stroke-linecap:round; stroke-linejoin:round; stroke-width:4; stroke-opacity:1; fill:none\" points=\"249.542,962.306 268.44,962.306 \"/>\n",
       "<polyline clip-path=\"url(#clip770)\" style=\"stroke:#000000; stroke-linecap:round; stroke-linejoin:round; stroke-width:4; stroke-opacity:1; fill:none\" points=\"249.542,774.75 268.44,774.75 \"/>\n",
       "<polyline clip-path=\"url(#clip770)\" style=\"stroke:#000000; stroke-linecap:round; stroke-linejoin:round; stroke-width:4; stroke-opacity:1; fill:none\" points=\"249.542,587.194 268.44,587.194 \"/>\n",
       "<polyline clip-path=\"url(#clip770)\" style=\"stroke:#000000; stroke-linecap:round; stroke-linejoin:round; stroke-width:4; stroke-opacity:1; fill:none\" points=\"249.542,399.638 268.44,399.638 \"/>\n",
       "<polyline clip-path=\"url(#clip770)\" style=\"stroke:#000000; stroke-linecap:round; stroke-linejoin:round; stroke-width:4; stroke-opacity:1; fill:none\" points=\"249.542,212.082 268.44,212.082 \"/>\n",
       "<path clip-path=\"url(#clip770)\" d=\"M127.107 1323.22 Q123.496 1323.22 121.668 1326.78 Q119.862 1330.32 119.862 1337.45 Q119.862 1344.56 121.668 1348.12 Q123.496 1351.67 127.107 1351.67 Q130.742 1351.67 132.547 1348.12 Q134.376 1344.56 134.376 1337.45 Q134.376 1330.32 132.547 1326.78 Q130.742 1323.22 127.107 1323.22 M127.107 1319.51 Q132.917 1319.51 135.973 1324.12 Q139.052 1328.7 139.052 1337.45 Q139.052 1346.18 135.973 1350.79 Q132.917 1355.37 127.107 1355.37 Q121.297 1355.37 118.218 1350.79 Q115.163 1346.18 115.163 1337.45 Q115.163 1328.7 118.218 1324.12 Q121.297 1319.51 127.107 1319.51 Z\" fill=\"#000000\" fill-rule=\"nonzero\" fill-opacity=\"1\" /><path clip-path=\"url(#clip770)\" d=\"M147.269 1348.82 L152.153 1348.82 L152.153 1354.7 L147.269 1354.7 L147.269 1348.82 Z\" fill=\"#000000\" fill-rule=\"nonzero\" fill-opacity=\"1\" /><path clip-path=\"url(#clip770)\" d=\"M166.366 1350.76 L182.686 1350.76 L182.686 1354.7 L160.741 1354.7 L160.741 1350.76 Q163.403 1348.01 167.987 1343.38 Q172.593 1338.73 173.774 1337.38 Q176.019 1334.86 176.899 1333.12 Q177.801 1331.36 177.801 1329.67 Q177.801 1326.92 175.857 1325.18 Q173.936 1323.45 170.834 1323.45 Q168.635 1323.45 166.181 1324.21 Q163.751 1324.98 160.973 1326.53 L160.973 1321.8 Q163.797 1320.67 166.251 1320.09 Q168.704 1319.51 170.741 1319.51 Q176.112 1319.51 179.306 1322.2 Q182.501 1324.88 182.501 1329.37 Q182.501 1331.5 181.69 1333.42 Q180.903 1335.32 178.797 1337.92 Q178.218 1338.59 175.116 1341.8 Q172.014 1345 166.366 1350.76 Z\" fill=\"#000000\" fill-rule=\"nonzero\" fill-opacity=\"1\" /><path clip-path=\"url(#clip770)\" d=\"M191.32 1320.14 L213.542 1320.14 L213.542 1322.13 L200.996 1354.7 L196.112 1354.7 L207.917 1324.07 L191.32 1324.07 L191.32 1320.14 Z\" fill=\"#000000\" fill-rule=\"nonzero\" fill-opacity=\"1\" /><path clip-path=\"url(#clip770)\" d=\"M126.297 1135.66 Q122.686 1135.66 120.857 1139.23 Q119.052 1142.77 119.052 1149.9 Q119.052 1157 120.857 1160.57 Q122.686 1164.11 126.297 1164.11 Q129.931 1164.11 131.737 1160.57 Q133.566 1157 133.566 1149.9 Q133.566 1142.77 131.737 1139.23 Q129.931 1135.66 126.297 1135.66 M126.297 1131.96 Q132.107 1131.96 135.163 1136.56 Q138.242 1141.15 138.242 1149.9 Q138.242 1158.62 135.163 1163.23 Q132.107 1167.81 126.297 1167.81 Q120.487 1167.81 117.408 1163.23 Q114.353 1158.62 114.353 1149.9 Q114.353 1141.15 117.408 1136.56 Q120.487 1131.96 126.297 1131.96 Z\" fill=\"#000000\" fill-rule=\"nonzero\" fill-opacity=\"1\" /><path clip-path=\"url(#clip770)\" d=\"M146.459 1161.26 L151.343 1161.26 L151.343 1167.14 L146.459 1167.14 L146.459 1161.26 Z\" fill=\"#000000\" fill-rule=\"nonzero\" fill-opacity=\"1\" /><path clip-path=\"url(#clip770)\" d=\"M165.556 1163.21 L181.876 1163.21 L181.876 1167.14 L159.931 1167.14 L159.931 1163.21 Q162.593 1160.45 167.177 1155.82 Q171.783 1151.17 172.964 1149.83 Q175.209 1147.3 176.089 1145.57 Q176.991 1143.81 176.991 1142.12 Q176.991 1139.36 175.047 1137.63 Q173.126 1135.89 170.024 1135.89 Q167.825 1135.89 165.371 1136.66 Q162.94 1137.42 160.163 1138.97 L160.163 1134.25 Q162.987 1133.11 165.44 1132.54 Q167.894 1131.96 169.931 1131.96 Q175.301 1131.96 178.496 1134.64 Q181.69 1137.33 181.69 1141.82 Q181.69 1143.95 180.88 1145.87 Q180.093 1147.77 177.987 1150.36 Q177.408 1151.03 174.306 1154.25 Q171.204 1157.44 165.556 1163.21 Z\" fill=\"#000000\" fill-rule=\"nonzero\" fill-opacity=\"1\" /><path clip-path=\"url(#clip770)\" d=\"M201.69 1150.73 Q198.357 1150.73 196.436 1152.51 Q194.538 1154.29 194.538 1157.42 Q194.538 1160.54 196.436 1162.33 Q198.357 1164.11 201.69 1164.11 Q205.024 1164.11 206.945 1162.33 Q208.866 1160.52 208.866 1157.42 Q208.866 1154.29 206.945 1152.51 Q205.047 1150.73 201.69 1150.73 M197.014 1148.74 Q194.005 1148 192.315 1145.94 Q190.649 1143.88 190.649 1140.91 Q190.649 1136.77 193.588 1134.36 Q196.551 1131.96 201.69 1131.96 Q206.852 1131.96 209.792 1134.36 Q212.732 1136.77 212.732 1140.91 Q212.732 1143.88 211.042 1145.94 Q209.375 1148 206.389 1148.74 Q209.769 1149.53 211.644 1151.82 Q213.542 1154.11 213.542 1157.42 Q213.542 1162.44 210.463 1165.13 Q207.408 1167.81 201.69 1167.81 Q195.973 1167.81 192.894 1165.13 Q189.838 1162.44 189.838 1157.42 Q189.838 1154.11 191.737 1151.82 Q193.635 1149.53 197.014 1148.74 M195.301 1141.35 Q195.301 1144.04 196.968 1145.54 Q198.658 1147.05 201.69 1147.05 Q204.699 1147.05 206.389 1145.54 Q208.102 1144.04 208.102 1141.35 Q208.102 1138.67 206.389 1137.16 Q204.699 1135.66 201.69 1135.66 Q198.658 1135.66 196.968 1137.16 Q195.301 1138.67 195.301 1141.35 Z\" fill=\"#000000\" fill-rule=\"nonzero\" fill-opacity=\"1\" /><path clip-path=\"url(#clip770)\" d=\"M126.39 948.104 Q122.779 948.104 120.95 951.669 Q119.144 955.211 119.144 962.34 Q119.144 969.447 120.95 973.012 Q122.779 976.553 126.39 976.553 Q130.024 976.553 131.83 973.012 Q133.658 969.447 133.658 962.34 Q133.658 955.211 131.83 951.669 Q130.024 948.104 126.39 948.104 M126.39 944.401 Q132.2 944.401 135.255 949.007 Q138.334 953.59 138.334 962.34 Q138.334 971.067 135.255 975.674 Q132.2 980.257 126.39 980.257 Q120.58 980.257 117.501 975.674 Q114.445 971.067 114.445 962.34 Q114.445 953.59 117.501 949.007 Q120.58 944.401 126.39 944.401 Z\" fill=\"#000000\" fill-rule=\"nonzero\" fill-opacity=\"1\" /><path clip-path=\"url(#clip770)\" d=\"M146.552 973.706 L151.436 973.706 L151.436 979.586 L146.552 979.586 L146.552 973.706 Z\" fill=\"#000000\" fill-rule=\"nonzero\" fill-opacity=\"1\" /><path clip-path=\"url(#clip770)\" d=\"M165.649 975.651 L181.968 975.651 L181.968 979.586 L160.024 979.586 L160.024 975.651 Q162.686 972.896 167.269 968.266 Q171.876 963.614 173.056 962.271 Q175.301 959.748 176.181 958.012 Q177.084 956.253 177.084 954.563 Q177.084 951.808 175.139 950.072 Q173.218 948.336 170.116 948.336 Q167.917 948.336 165.464 949.1 Q163.033 949.864 160.255 951.415 L160.255 946.692 Q163.079 945.558 165.533 944.979 Q167.987 944.401 170.024 944.401 Q175.394 944.401 178.589 947.086 Q181.783 949.771 181.783 954.262 Q181.783 956.391 180.973 958.313 Q180.186 960.211 178.079 962.803 Q177.501 963.475 174.399 966.692 Q171.297 969.887 165.649 975.651 Z\" fill=\"#000000\" fill-rule=\"nonzero\" fill-opacity=\"1\" /><path clip-path=\"url(#clip770)\" d=\"M191.922 978.868 L191.922 974.609 Q193.681 975.442 195.487 975.882 Q197.292 976.322 199.028 976.322 Q203.658 976.322 206.088 973.22 Q208.542 970.095 208.889 963.752 Q207.547 965.743 205.487 966.808 Q203.426 967.873 200.926 967.873 Q195.741 967.873 192.709 964.748 Q189.7 961.6 189.7 956.16 Q189.7 950.836 192.848 947.618 Q195.996 944.401 201.227 944.401 Q207.223 944.401 210.371 949.007 Q213.542 953.59 213.542 962.34 Q213.542 970.512 209.653 975.396 Q205.787 980.257 199.237 980.257 Q197.477 980.257 195.672 979.91 Q193.866 979.563 191.922 978.868 M201.227 964.215 Q204.375 964.215 206.204 962.063 Q208.056 959.91 208.056 956.16 Q208.056 952.433 206.204 950.28 Q204.375 948.104 201.227 948.104 Q198.079 948.104 196.227 950.28 Q194.399 952.433 194.399 956.16 Q194.399 959.91 196.227 962.063 Q198.079 964.215 201.227 964.215 Z\" fill=\"#000000\" fill-rule=\"nonzero\" fill-opacity=\"1\" /><path clip-path=\"url(#clip770)\" d=\"M126.205 760.549 Q122.593 760.549 120.765 764.113 Q118.959 767.655 118.959 774.785 Q118.959 781.891 120.765 785.456 Q122.593 788.997 126.205 788.997 Q129.839 788.997 131.644 785.456 Q133.473 781.891 133.473 774.785 Q133.473 767.655 131.644 764.113 Q129.839 760.549 126.205 760.549 M126.205 756.845 Q132.015 756.845 135.07 761.451 Q138.149 766.035 138.149 774.785 Q138.149 783.511 135.07 788.118 Q132.015 792.701 126.205 792.701 Q120.394 792.701 117.316 788.118 Q114.26 783.511 114.26 774.785 Q114.26 766.035 117.316 761.451 Q120.394 756.845 126.205 756.845 Z\" fill=\"#000000\" fill-rule=\"nonzero\" fill-opacity=\"1\" /><path clip-path=\"url(#clip770)\" d=\"M146.366 786.15 L151.251 786.15 L151.251 792.03 L146.366 792.03 L146.366 786.15 Z\" fill=\"#000000\" fill-rule=\"nonzero\" fill-opacity=\"1\" /><path clip-path=\"url(#clip770)\" d=\"M175.602 773.396 Q178.959 774.113 180.834 776.382 Q182.732 778.65 182.732 781.984 Q182.732 787.099 179.214 789.9 Q175.695 792.701 169.214 792.701 Q167.038 792.701 164.723 792.261 Q162.431 791.845 159.978 790.988 L159.978 786.474 Q161.922 787.609 164.237 788.187 Q166.552 788.766 169.075 788.766 Q173.473 788.766 175.764 787.03 Q178.079 785.294 178.079 781.984 Q178.079 778.928 175.926 777.215 Q173.797 775.479 169.977 775.479 L165.95 775.479 L165.95 771.636 L170.163 771.636 Q173.612 771.636 175.44 770.271 Q177.269 768.882 177.269 766.289 Q177.269 763.627 175.371 762.215 Q173.496 760.78 169.977 760.78 Q168.056 760.78 165.857 761.197 Q163.658 761.613 161.019 762.493 L161.019 758.326 Q163.681 757.586 165.996 757.215 Q168.334 756.845 170.394 756.845 Q175.718 756.845 178.82 759.275 Q181.922 761.683 181.922 765.803 Q181.922 768.674 180.278 770.664 Q178.635 772.632 175.602 773.396 Z\" fill=\"#000000\" fill-rule=\"nonzero\" fill-opacity=\"1\" /><path clip-path=\"url(#clip770)\" d=\"M201.598 760.549 Q197.987 760.549 196.158 764.113 Q194.352 767.655 194.352 774.785 Q194.352 781.891 196.158 785.456 Q197.987 788.997 201.598 788.997 Q205.232 788.997 207.037 785.456 Q208.866 781.891 208.866 774.785 Q208.866 767.655 207.037 764.113 Q205.232 760.549 201.598 760.549 M201.598 756.845 Q207.408 756.845 210.463 761.451 Q213.542 766.035 213.542 774.785 Q213.542 783.511 210.463 788.118 Q207.408 792.701 201.598 792.701 Q195.787 792.701 192.709 788.118 Q189.653 783.511 189.653 774.785 Q189.653 766.035 192.709 761.451 Q195.787 756.845 201.598 756.845 Z\" fill=\"#000000\" fill-rule=\"nonzero\" fill-opacity=\"1\" /><path clip-path=\"url(#clip770)\" d=\"M127.431 572.993 Q123.82 572.993 121.992 576.557 Q120.186 580.099 120.186 587.229 Q120.186 594.335 121.992 597.9 Q123.82 601.442 127.431 601.442 Q131.066 601.442 132.871 597.9 Q134.7 594.335 134.7 587.229 Q134.7 580.099 132.871 576.557 Q131.066 572.993 127.431 572.993 M127.431 569.289 Q133.242 569.289 136.297 573.895 Q139.376 578.479 139.376 587.229 Q139.376 595.956 136.297 600.562 Q133.242 605.145 127.431 605.145 Q121.621 605.145 118.543 600.562 Q115.487 595.956 115.487 587.229 Q115.487 578.479 118.543 573.895 Q121.621 569.289 127.431 569.289 Z\" fill=\"#000000\" fill-rule=\"nonzero\" fill-opacity=\"1\" /><path clip-path=\"url(#clip770)\" d=\"M147.593 598.594 L152.478 598.594 L152.478 604.474 L147.593 604.474 L147.593 598.594 Z\" fill=\"#000000\" fill-rule=\"nonzero\" fill-opacity=\"1\" /><path clip-path=\"url(#clip770)\" d=\"M176.829 585.84 Q180.186 586.557 182.061 588.826 Q183.959 591.094 183.959 594.428 Q183.959 599.543 180.44 602.344 Q176.922 605.145 170.44 605.145 Q168.264 605.145 165.95 604.705 Q163.658 604.289 161.204 603.432 L161.204 598.918 Q163.149 600.053 165.464 600.631 Q167.778 601.21 170.302 601.21 Q174.7 601.21 176.991 599.474 Q179.306 597.738 179.306 594.428 Q179.306 591.372 177.153 589.659 Q175.024 587.923 171.204 587.923 L167.177 587.923 L167.177 584.081 L171.389 584.081 Q174.839 584.081 176.667 582.715 Q178.496 581.326 178.496 578.733 Q178.496 576.071 176.598 574.659 Q174.723 573.224 171.204 573.224 Q169.283 573.224 167.084 573.641 Q164.885 574.058 162.246 574.937 L162.246 570.77 Q164.908 570.03 167.223 569.659 Q169.561 569.289 171.621 569.289 Q176.945 569.289 180.047 571.72 Q183.149 574.127 183.149 578.247 Q183.149 581.118 181.505 583.108 Q179.862 585.076 176.829 585.84 Z\" fill=\"#000000\" fill-rule=\"nonzero\" fill-opacity=\"1\" /><path clip-path=\"url(#clip770)\" d=\"M193.635 600.539 L201.274 600.539 L201.274 574.173 L192.963 575.84 L192.963 571.581 L201.227 569.914 L205.903 569.914 L205.903 600.539 L213.542 600.539 L213.542 604.474 L193.635 604.474 L193.635 600.539 Z\" fill=\"#000000\" fill-rule=\"nonzero\" fill-opacity=\"1\" /><path clip-path=\"url(#clip770)\" d=\"M127.802 385.437 Q124.191 385.437 122.362 389.002 Q120.556 392.543 120.556 399.673 Q120.556 406.779 122.362 410.344 Q124.191 413.886 127.802 413.886 Q131.436 413.886 133.242 410.344 Q135.07 406.779 135.07 399.673 Q135.07 392.543 133.242 389.002 Q131.436 385.437 127.802 385.437 M127.802 381.733 Q133.612 381.733 136.667 386.34 Q139.746 390.923 139.746 399.673 Q139.746 408.4 136.667 413.006 Q133.612 417.589 127.802 417.589 Q121.992 417.589 118.913 413.006 Q115.857 408.4 115.857 399.673 Q115.857 390.923 118.913 386.34 Q121.992 381.733 127.802 381.733 Z\" fill=\"#000000\" fill-rule=\"nonzero\" fill-opacity=\"1\" /><path clip-path=\"url(#clip770)\" d=\"M147.964 411.039 L152.848 411.039 L152.848 416.918 L147.964 416.918 L147.964 411.039 Z\" fill=\"#000000\" fill-rule=\"nonzero\" fill-opacity=\"1\" /><path clip-path=\"url(#clip770)\" d=\"M177.2 398.284 Q180.556 399.002 182.431 401.27 Q184.329 403.539 184.329 406.872 Q184.329 411.988 180.811 414.789 Q177.292 417.589 170.811 417.589 Q168.635 417.589 166.32 417.15 Q164.028 416.733 161.575 415.876 L161.575 411.363 Q163.519 412.497 165.834 413.076 Q168.149 413.654 170.672 413.654 Q175.07 413.654 177.362 411.918 Q179.676 410.182 179.676 406.872 Q179.676 403.816 177.524 402.103 Q175.394 400.367 171.575 400.367 L167.547 400.367 L167.547 396.525 L171.76 396.525 Q175.209 396.525 177.038 395.159 Q178.866 393.77 178.866 391.178 Q178.866 388.516 176.968 387.103 Q175.093 385.668 171.575 385.668 Q169.653 385.668 167.454 386.085 Q165.255 386.502 162.616 387.381 L162.616 383.215 Q165.278 382.474 167.593 382.104 Q169.931 381.733 171.991 381.733 Q177.315 381.733 180.417 384.164 Q183.519 386.571 183.519 390.691 Q183.519 393.562 181.876 395.553 Q180.232 397.52 177.2 398.284 Z\" fill=\"#000000\" fill-rule=\"nonzero\" fill-opacity=\"1\" /><path clip-path=\"url(#clip770)\" d=\"M197.223 412.983 L213.542 412.983 L213.542 416.918 L191.598 416.918 L191.598 412.983 Q194.26 410.228 198.843 405.599 Q203.449 400.946 204.63 399.603 Q206.875 397.08 207.755 395.344 Q208.658 393.585 208.658 391.895 Q208.658 389.141 206.713 387.404 Q204.792 385.668 201.69 385.668 Q199.491 385.668 197.037 386.432 Q194.607 387.196 191.829 388.747 L191.829 384.025 Q194.653 382.891 197.107 382.312 Q199.561 381.733 201.598 381.733 Q206.968 381.733 210.162 384.418 Q213.357 387.103 213.357 391.594 Q213.357 393.724 212.547 395.645 Q211.76 397.543 209.653 400.136 Q209.074 400.807 205.973 404.025 Q202.871 407.219 197.223 412.983 Z\" fill=\"#000000\" fill-rule=\"nonzero\" fill-opacity=\"1\" /><path clip-path=\"url(#clip770)\" d=\"M126.853 197.881 Q123.242 197.881 121.413 201.446 Q119.607 204.987 119.607 212.117 Q119.607 219.223 121.413 222.788 Q123.242 226.33 126.853 226.33 Q130.487 226.33 132.292 222.788 Q134.121 219.223 134.121 212.117 Q134.121 204.987 132.292 201.446 Q130.487 197.881 126.853 197.881 M126.853 194.177 Q132.663 194.177 135.718 198.784 Q138.797 203.367 138.797 212.117 Q138.797 220.844 135.718 225.45 Q132.663 230.034 126.853 230.034 Q121.043 230.034 117.964 225.45 Q114.908 220.844 114.908 212.117 Q114.908 203.367 117.964 198.784 Q121.043 194.177 126.853 194.177 Z\" fill=\"#000000\" fill-rule=\"nonzero\" fill-opacity=\"1\" /><path clip-path=\"url(#clip770)\" d=\"M147.015 223.483 L151.899 223.483 L151.899 229.362 L147.015 229.362 L147.015 223.483 Z\" fill=\"#000000\" fill-rule=\"nonzero\" fill-opacity=\"1\" /><path clip-path=\"url(#clip770)\" d=\"M176.251 210.728 Q179.607 211.446 181.482 213.714 Q183.38 215.983 183.38 219.316 Q183.38 224.432 179.862 227.233 Q176.343 230.034 169.862 230.034 Q167.686 230.034 165.371 229.594 Q163.079 229.177 160.626 228.321 L160.626 223.807 Q162.57 224.941 164.885 225.52 Q167.2 226.098 169.723 226.098 Q174.121 226.098 176.413 224.362 Q178.727 222.626 178.727 219.316 Q178.727 216.261 176.575 214.548 Q174.445 212.811 170.626 212.811 L166.598 212.811 L166.598 208.969 L170.811 208.969 Q174.26 208.969 176.089 207.603 Q177.917 206.214 177.917 203.622 Q177.917 200.96 176.019 199.548 Q174.144 198.112 170.626 198.112 Q168.704 198.112 166.505 198.529 Q164.306 198.946 161.667 199.825 L161.667 195.659 Q164.329 194.918 166.644 194.548 Q168.982 194.177 171.042 194.177 Q176.366 194.177 179.468 196.608 Q182.57 199.015 182.57 203.136 Q182.57 206.006 180.926 207.997 Q179.283 209.964 176.251 210.728 Z\" fill=\"#000000\" fill-rule=\"nonzero\" fill-opacity=\"1\" /><path clip-path=\"url(#clip770)\" d=\"M206.412 210.728 Q209.769 211.446 211.644 213.714 Q213.542 215.983 213.542 219.316 Q213.542 224.432 210.024 227.233 Q206.505 230.034 200.024 230.034 Q197.848 230.034 195.533 229.594 Q193.241 229.177 190.788 228.321 L190.788 223.807 Q192.732 224.941 195.047 225.52 Q197.362 226.098 199.885 226.098 Q204.283 226.098 206.574 224.362 Q208.889 222.626 208.889 219.316 Q208.889 216.261 206.737 214.548 Q204.607 212.811 200.787 212.811 L196.76 212.811 L196.76 208.969 L200.973 208.969 Q204.422 208.969 206.25 207.603 Q208.079 206.214 208.079 203.622 Q208.079 200.96 206.181 199.548 Q204.306 198.112 200.787 198.112 Q198.866 198.112 196.667 198.529 Q194.468 198.946 191.829 199.825 L191.829 195.659 Q194.491 194.918 196.806 194.548 Q199.144 194.177 201.204 194.177 Q206.528 194.177 209.63 196.608 Q212.732 199.015 212.732 203.136 Q212.732 206.006 211.088 207.997 Q209.445 209.964 206.412 210.728 Z\" fill=\"#000000\" fill-rule=\"nonzero\" fill-opacity=\"1\" /><path clip-path=\"url(#clip770)\" d=\"M16.4842 983.315 L16.4842 943.115 L21.895 943.115 L21.895 959.984 L64.0042 959.984 L64.0042 966.446 L21.895 966.446 L21.895 983.315 L16.4842 983.315 Z\" fill=\"#000000\" fill-rule=\"nonzero\" fill-opacity=\"1\" /><path clip-path=\"url(#clip770)\" d=\"M74.8259 910.077 L79.3773 910.077 L79.3773 943.943 L74.8259 943.943 L74.8259 910.077 Z\" fill=\"#000000\" fill-rule=\"nonzero\" fill-opacity=\"1\" /><path clip-path=\"url(#clip770)\" d=\"M28.3562 904.571 L28.3562 898.714 L64.0042 898.714 L64.0042 904.571 L28.3562 904.571 M14.479 904.571 L14.479 898.714 L21.895 898.714 L21.895 904.571 L14.479 904.571 Z\" fill=\"#000000\" fill-rule=\"nonzero\" fill-opacity=\"1\" /><path clip-path=\"url(#clip770)\" d=\"M34.4036 864.976 L34.4036 824.172 L39.7508 824.172 L39.7508 864.976 L34.4036 864.976 M47.3897 864.976 L47.3897 824.172 L52.8005 824.172 L52.8005 864.976 L47.3897 864.976 Z\" fill=\"#000000\" fill-rule=\"nonzero\" fill-opacity=\"1\" /><path clip-path=\"url(#clip770)\" d=\"M43.5702 790.72 L14.5426 781.745 L14.5426 776.334 L43.5702 785.309 L72.5979 776.334 L72.5979 781.745 L43.5702 790.72 Z\" fill=\"#000000\" fill-rule=\"nonzero\" fill-opacity=\"1\" /><path clip-path=\"url(#clip770)\" d=\"M58.657 759.306 L77.5631 759.306 L77.5631 765.194 L28.3562 765.194 L28.3562 759.306 L33.7671 759.306 Q30.5842 757.459 29.0564 754.659 Q27.4968 751.826 27.4968 747.911 Q27.4968 741.418 32.6531 737.376 Q37.8093 733.302 46.212 733.302 Q54.6147 733.302 59.771 737.376 Q64.9272 741.418 64.9272 747.911 Q64.9272 751.826 63.3994 754.659 Q61.8398 757.459 58.657 759.306 M46.212 739.381 Q39.7508 739.381 36.0905 742.054 Q32.3984 744.696 32.3984 749.343 Q32.3984 753.99 36.0905 756.664 Q39.7508 759.306 46.212 759.306 Q52.6732 759.306 56.3653 756.664 Q60.0256 753.99 60.0256 749.343 Q60.0256 744.696 56.3653 742.054 Q52.6732 739.381 46.212 739.381 Z\" fill=\"#000000\" fill-rule=\"nonzero\" fill-opacity=\"1\" /><path clip-path=\"url(#clip770)\" d=\"M74.8259 696.508 L79.3773 696.508 L79.3773 730.373 L74.8259 730.373 L74.8259 696.508 Z\" fill=\"#000000\" fill-rule=\"nonzero\" fill-opacity=\"1\" /><path clip-path=\"url(#clip770)\" d=\"M28.3562 691.001 L28.3562 685.145 L64.0042 685.145 L64.0042 691.001 L28.3562 691.001 M14.479 691.001 L14.479 685.145 L21.895 685.145 L21.895 691.001 L14.479 691.001 Z\" fill=\"#000000\" fill-rule=\"nonzero\" fill-opacity=\"1\" /><path clip-path=\"url(#clip770)\" d=\"M16.4842 648.606 L34.2127 631.323 L34.2127 637.721 L21.6404 651.725 L34.2127 665.73 L34.2127 672.127 L16.4842 654.844 L16.4842 648.606 Z\" fill=\"#000000\" fill-rule=\"nonzero\" fill-opacity=\"1\" /><path clip-path=\"url(#clip770)\" d=\"M58.5933 611.908 L58.5933 589.468 L64.0042 589.468 L64.0042 619.642 L58.5933 619.642 Q54.8057 615.982 48.44 609.68 Q42.0425 603.346 40.1964 601.722 Q36.7271 598.635 34.34 597.426 Q31.921 596.184 29.5975 596.184 Q25.8099 596.184 23.4228 598.858 Q21.0356 601.5 21.0356 605.765 Q21.0356 608.788 22.086 612.162 Q23.1363 615.504 25.2688 619.324 L18.7758 619.324 Q17.2162 615.441 16.4205 612.067 Q15.6248 608.693 15.6248 605.892 Q15.6248 598.508 19.3169 594.115 Q23.009 589.723 29.1837 589.723 Q32.112 589.723 34.7537 590.837 Q37.3637 591.919 40.9285 594.816 Q41.8515 595.611 46.2757 599.876 Q50.668 604.141 58.5933 611.908 Z\" fill=\"#000000\" fill-rule=\"nonzero\" fill-opacity=\"1\" /><path clip-path=\"url(#clip770)\" d=\"M43.5702 563.337 L72.5979 572.313 L72.5979 577.724 L43.5702 568.748 L14.5426 577.724 L14.5426 572.313 L43.5702 563.337 Z\" fill=\"#000000\" fill-rule=\"nonzero\" fill-opacity=\"1\" /><path clip-path=\"url(#clip770)\" d=\"M731.025 12.096 L782.188 12.096 L782.188 18.9825 L760.718 18.9825 L760.718 72.576 L752.495 72.576 L752.495 18.9825 L731.025 18.9825 L731.025 12.096 Z\" fill=\"#000000\" fill-rule=\"nonzero\" fill-opacity=\"1\" /><path clip-path=\"url(#clip770)\" d=\"M814.473 48.0275 L814.473 51.6733 L780.203 51.6733 Q780.689 59.3701 784.821 63.421 Q788.993 67.4314 796.406 67.4314 Q800.7 67.4314 804.711 66.3781 Q808.762 65.3249 812.731 63.2184 L812.731 70.267 Q808.721 71.9684 804.508 72.8596 Q800.295 73.7508 795.961 73.7508 Q785.104 73.7508 778.744 67.4314 Q772.425 61.1119 772.425 50.3365 Q772.425 39.1965 778.42 32.6746 Q784.456 26.1121 794.664 26.1121 Q803.819 26.1121 809.126 32.0264 Q814.473 37.9003 814.473 48.0275 M807.02 45.84 Q806.939 39.7232 803.576 36.0774 Q800.255 32.4315 794.745 32.4315 Q788.507 32.4315 784.74 35.9558 Q781.013 39.4801 780.446 45.8805 L807.02 45.84 Z\" fill=\"#000000\" fill-rule=\"nonzero\" fill-opacity=\"1\" /><path clip-path=\"url(#clip770)\" d=\"M862.031 35.9153 Q864.826 30.8922 868.715 28.5022 Q872.604 26.1121 877.87 26.1121 Q884.959 26.1121 888.807 31.0947 Q892.656 36.0368 892.656 45.1919 L892.656 72.576 L885.162 72.576 L885.162 45.4349 Q885.162 38.913 882.853 35.7533 Q880.544 32.5936 875.804 32.5936 Q870.011 32.5936 866.649 36.4419 Q863.287 40.2903 863.287 46.9338 L863.287 72.576 L855.793 72.576 L855.793 45.4349 Q855.793 38.8725 853.484 35.7533 Q851.175 32.5936 846.354 32.5936 Q840.642 32.5936 837.28 36.4824 Q833.918 40.3308 833.918 46.9338 L833.918 72.576 L826.424 72.576 L826.424 27.2059 L833.918 27.2059 L833.918 34.2544 Q836.47 30.082 840.035 28.0971 Q843.599 26.1121 848.501 26.1121 Q853.443 26.1121 856.886 28.6237 Q860.37 31.1352 862.031 35.9153 Z\" fill=\"#000000\" fill-rule=\"nonzero\" fill-opacity=\"1\" /><path clip-path=\"url(#clip770)\" d=\"M914.733 65.7705 L914.733 89.8329 L907.239 89.8329 L907.239 27.2059 L914.733 27.2059 L914.733 34.0924 Q917.083 30.0415 920.648 28.0971 Q924.253 26.1121 929.235 26.1121 Q937.499 26.1121 942.644 32.6746 Q947.829 39.2371 947.829 49.9314 Q947.829 60.6258 942.644 67.1883 Q937.499 73.7508 929.235 73.7508 Q924.253 73.7508 920.648 71.8063 Q917.083 69.8214 914.733 65.7705 M940.092 49.9314 Q940.092 41.7081 936.689 37.0496 Q933.327 32.3505 927.413 32.3505 Q921.498 32.3505 918.095 37.0496 Q914.733 41.7081 914.733 49.9314 Q914.733 58.1548 918.095 62.8538 Q921.498 67.5124 927.413 67.5124 Q933.327 67.5124 936.689 62.8538 Q940.092 58.1548 940.092 49.9314 Z\" fill=\"#000000\" fill-rule=\"nonzero\" fill-opacity=\"1\" /><path clip-path=\"url(#clip770)\" d=\"M998.992 48.0275 L998.992 51.6733 L964.721 51.6733 Q965.207 59.3701 969.339 63.421 Q973.512 67.4314 980.925 67.4314 Q985.219 67.4314 989.229 66.3781 Q993.28 65.3249 997.25 63.2184 L997.25 70.267 Q993.24 71.9684 989.027 72.8596 Q984.814 73.7508 980.479 73.7508 Q969.623 73.7508 963.263 67.4314 Q956.944 61.1119 956.944 50.3365 Q956.944 39.1965 962.939 32.6746 Q968.975 26.1121 979.183 26.1121 Q988.338 26.1121 993.645 32.0264 Q998.992 37.9003 998.992 48.0275 M991.538 45.84 Q991.457 39.7232 988.095 36.0774 Q984.773 32.4315 979.264 32.4315 Q973.026 32.4315 969.258 35.9558 Q965.532 39.4801 964.964 45.8805 L991.538 45.84 Z\" fill=\"#000000\" fill-rule=\"nonzero\" fill-opacity=\"1\" /><path clip-path=\"url(#clip770)\" d=\"M1037.52 34.1734 Q1036.26 33.4443 1034.76 33.1202 Q1033.3 32.7556 1031.52 32.7556 Q1025.2 32.7556 1021.8 36.8875 Q1018.44 40.9789 1018.44 48.6757 L1018.44 72.576 L1010.94 72.576 L1010.94 27.2059 L1018.44 27.2059 L1018.44 34.2544 Q1020.79 30.1225 1024.55 28.1376 Q1028.32 26.1121 1033.71 26.1121 Q1034.48 26.1121 1035.41 26.2337 Q1036.34 26.3147 1037.48 26.5172 L1037.52 34.1734 Z\" fill=\"#000000\" fill-rule=\"nonzero\" fill-opacity=\"1\" /><path clip-path=\"url(#clip770)\" d=\"M1065.95 49.7694 Q1056.92 49.7694 1053.44 51.8354 Q1049.95 53.9013 1049.95 58.8839 Q1049.95 62.8538 1052.54 65.2034 Q1055.18 67.5124 1059.67 67.5124 Q1065.87 67.5124 1069.6 63.1374 Q1073.37 58.7219 1073.37 51.4303 L1073.37 49.7694 L1065.95 49.7694 M1080.82 46.6907 L1080.82 72.576 L1073.37 72.576 L1073.37 65.6895 Q1070.81 69.8214 1067.01 71.8063 Q1063.2 73.7508 1057.69 73.7508 Q1050.72 73.7508 1046.59 69.8619 Q1042.5 65.9325 1042.5 59.3701 Q1042.5 51.7138 1047.6 47.825 Q1052.75 43.9361 1062.92 43.9361 L1073.37 43.9361 L1073.37 43.2069 Q1073.37 38.0623 1069.96 35.2672 Q1066.6 32.4315 1060.48 32.4315 Q1056.6 32.4315 1052.91 33.3632 Q1049.22 34.295 1045.82 36.1584 L1045.82 29.2718 Q1049.91 27.692 1053.76 26.9223 Q1057.61 26.1121 1061.25 26.1121 Q1071.1 26.1121 1075.96 31.2163 Q1080.82 36.3204 1080.82 46.6907 Z\" fill=\"#000000\" fill-rule=\"nonzero\" fill-opacity=\"1\" /><path clip-path=\"url(#clip770)\" d=\"M1103.55 14.324 L1103.55 27.2059 L1118.9 27.2059 L1118.9 32.9987 L1103.55 32.9987 L1103.55 57.6282 Q1103.55 63.1779 1105.04 64.7578 Q1106.58 66.3376 1111.24 66.3376 L1118.9 66.3376 L1118.9 72.576 L1111.24 72.576 Q1102.61 72.576 1099.33 69.3758 Q1096.05 66.1351 1096.05 57.6282 L1096.05 32.9987 L1090.58 32.9987 L1090.58 27.2059 L1096.05 27.2059 L1096.05 14.324 L1103.55 14.324 Z\" fill=\"#000000\" fill-rule=\"nonzero\" fill-opacity=\"1\" /><path clip-path=\"url(#clip770)\" d=\"M1127.93 54.671 L1127.93 27.2059 L1135.39 27.2059 L1135.39 54.3874 Q1135.39 60.8284 1137.9 64.0691 Q1140.41 67.2693 1145.43 67.2693 Q1151.47 67.2693 1154.95 63.421 Q1158.48 59.5726 1158.48 52.9291 L1158.48 27.2059 L1165.93 27.2059 L1165.93 72.576 L1158.48 72.576 L1158.48 65.6084 Q1155.76 69.7404 1152.16 71.7658 Q1148.59 73.7508 1143.85 73.7508 Q1136.03 73.7508 1131.98 68.8897 Q1127.93 64.0286 1127.93 54.671 M1146.69 26.1121 L1146.69 26.1121 Z\" fill=\"#000000\" fill-rule=\"nonzero\" fill-opacity=\"1\" /><path clip-path=\"url(#clip770)\" d=\"M1207.57 34.1734 Q1206.32 33.4443 1204.82 33.1202 Q1203.36 32.7556 1201.58 32.7556 Q1195.26 32.7556 1191.86 36.8875 Q1188.49 40.9789 1188.49 48.6757 L1188.49 72.576 L1181 72.576 L1181 27.2059 L1188.49 27.2059 L1188.49 34.2544 Q1190.84 30.1225 1194.61 28.1376 Q1198.38 26.1121 1203.77 26.1121 Q1204.53 26.1121 1205.47 26.2337 Q1206.4 26.3147 1207.53 26.5172 L1207.57 34.1734 Z\" fill=\"#000000\" fill-rule=\"nonzero\" fill-opacity=\"1\" /><path clip-path=\"url(#clip770)\" d=\"M1252.38 48.0275 L1252.38 51.6733 L1218.11 51.6733 Q1218.59 59.3701 1222.72 63.421 Q1226.9 67.4314 1234.31 67.4314 Q1238.6 67.4314 1242.61 66.3781 Q1246.66 65.3249 1250.63 63.2184 L1250.63 70.267 Q1246.62 71.9684 1242.41 72.8596 Q1238.2 73.7508 1233.86 73.7508 Q1223.01 73.7508 1216.65 67.4314 Q1210.33 61.1119 1210.33 50.3365 Q1210.33 39.1965 1216.32 32.6746 Q1222.36 26.1121 1232.57 26.1121 Q1241.72 26.1121 1247.03 32.0264 Q1252.38 37.9003 1252.38 48.0275 M1244.92 45.84 Q1244.84 39.7232 1241.48 36.0774 Q1238.16 32.4315 1232.65 32.4315 Q1226.41 32.4315 1222.64 35.9558 Q1218.92 39.4801 1218.35 45.8805 L1244.92 45.84 Z\" fill=\"#000000\" fill-rule=\"nonzero\" fill-opacity=\"1\" /><path clip-path=\"url(#clip770)\" d=\"M1298.19 65.7705 L1298.19 89.8329 L1290.7 89.8329 L1290.7 27.2059 L1298.19 27.2059 L1298.19 34.0924 Q1300.54 30.0415 1304.11 28.0971 Q1307.71 26.1121 1312.69 26.1121 Q1320.96 26.1121 1326.1 32.6746 Q1331.29 39.2371 1331.29 49.9314 Q1331.29 60.6258 1326.1 67.1883 Q1320.96 73.7508 1312.69 73.7508 Q1307.71 73.7508 1304.11 71.8063 Q1300.54 69.8214 1298.19 65.7705 M1323.55 49.9314 Q1323.55 41.7081 1320.15 37.0496 Q1316.79 32.3505 1310.87 32.3505 Q1304.96 32.3505 1301.55 37.0496 Q1298.19 41.7081 1298.19 49.9314 Q1298.19 58.1548 1301.55 62.8538 Q1304.96 67.5124 1310.87 67.5124 Q1316.79 67.5124 1320.15 62.8538 Q1323.55 58.1548 1323.55 49.9314 Z\" fill=\"#000000\" fill-rule=\"nonzero\" fill-opacity=\"1\" /><path clip-path=\"url(#clip770)\" d=\"M1369.93 34.1734 Q1368.68 33.4443 1367.18 33.1202 Q1365.72 32.7556 1363.94 32.7556 Q1357.62 32.7556 1354.22 36.8875 Q1350.85 40.9789 1350.85 48.6757 L1350.85 72.576 L1343.36 72.576 L1343.36 27.2059 L1350.85 27.2059 L1350.85 34.2544 Q1353.2 30.1225 1356.97 28.1376 Q1360.74 26.1121 1366.13 26.1121 Q1366.9 26.1121 1367.83 26.2337 Q1368.76 26.3147 1369.89 26.5172 L1369.93 34.1734 Z\" fill=\"#000000\" fill-rule=\"nonzero\" fill-opacity=\"1\" /><path clip-path=\"url(#clip770)\" d=\"M1393.51 32.4315 Q1387.51 32.4315 1384.03 37.1306 Q1380.55 41.7891 1380.55 49.9314 Q1380.55 58.0738 1383.99 62.7728 Q1387.47 67.4314 1393.51 67.4314 Q1399.46 67.4314 1402.95 62.7323 Q1406.43 58.0333 1406.43 49.9314 Q1406.43 41.8701 1402.95 37.1711 Q1399.46 32.4315 1393.51 32.4315 M1393.51 26.1121 Q1403.23 26.1121 1408.78 32.4315 Q1414.33 38.7509 1414.33 49.9314 Q1414.33 61.0714 1408.78 67.4314 Q1403.23 73.7508 1393.51 73.7508 Q1383.75 73.7508 1378.2 67.4314 Q1372.69 61.0714 1372.69 49.9314 Q1372.69 38.7509 1378.2 32.4315 Q1383.75 26.1121 1393.51 26.1121 Z\" fill=\"#000000\" fill-rule=\"nonzero\" fill-opacity=\"1\" /><path clip-path=\"url(#clip770)\" d=\"M1449.66 9.54393 L1449.66 15.7418 L1442.53 15.7418 Q1438.52 15.7418 1436.94 17.3622 Q1435.4 18.9825 1435.4 23.1955 L1435.4 27.2059 L1447.67 27.2059 L1447.67 32.9987 L1435.4 32.9987 L1435.4 72.576 L1427.9 72.576 L1427.9 32.9987 L1420.77 32.9987 L1420.77 27.2059 L1427.9 27.2059 L1427.9 24.0462 Q1427.9 16.471 1431.43 13.0277 Q1434.95 9.54393 1442.61 9.54393 L1449.66 9.54393 Z\" fill=\"#000000\" fill-rule=\"nonzero\" fill-opacity=\"1\" /><path clip-path=\"url(#clip770)\" d=\"M1455.89 27.2059 L1463.35 27.2059 L1463.35 72.576 L1455.89 72.576 L1455.89 27.2059 M1455.89 9.54393 L1463.35 9.54393 L1463.35 18.9825 L1455.89 18.9825 L1455.89 9.54393 Z\" fill=\"#000000\" fill-rule=\"nonzero\" fill-opacity=\"1\" /><path clip-path=\"url(#clip770)\" d=\"M1478.94 9.54393 L1486.4 9.54393 L1486.4 72.576 L1478.94 72.576 L1478.94 9.54393 Z\" fill=\"#000000\" fill-rule=\"nonzero\" fill-opacity=\"1\" /><path clip-path=\"url(#clip770)\" d=\"M1540.8 48.0275 L1540.8 51.6733 L1506.53 51.6733 Q1507.02 59.3701 1511.15 63.421 Q1515.32 67.4314 1522.73 67.4314 Q1527.03 67.4314 1531.04 66.3781 Q1535.09 65.3249 1539.06 63.2184 L1539.06 70.267 Q1535.05 71.9684 1530.84 72.8596 Q1526.62 73.7508 1522.29 73.7508 Q1511.43 73.7508 1505.07 67.4314 Q1498.75 61.1119 1498.75 50.3365 Q1498.75 39.1965 1504.75 32.6746 Q1510.78 26.1121 1520.99 26.1121 Q1530.15 26.1121 1535.45 32.0264 Q1540.8 37.9003 1540.8 48.0275 M1533.35 45.84 Q1533.27 39.7232 1529.9 36.0774 Q1526.58 32.4315 1521.07 32.4315 Q1514.83 32.4315 1511.07 35.9558 Q1507.34 39.4801 1506.77 45.8805 L1533.35 45.84 Z\" fill=\"#000000\" fill-rule=\"nonzero\" fill-opacity=\"1\" /><path clip-path=\"url(#clip770)\" d=\"M1597.31 9.62495 Q1591.88 18.942 1589.25 28.0566 Q1586.62 37.1711 1586.62 46.5287 Q1586.62 55.8863 1589.25 65.0818 Q1591.92 74.2369 1597.31 83.5134 L1590.83 83.5134 Q1584.75 73.9938 1581.71 64.7983 Q1578.72 55.6027 1578.72 46.5287 Q1578.72 37.4952 1581.71 28.3401 Q1584.71 19.1851 1590.83 9.62495 L1597.31 9.62495 Z\" fill=\"#000000\" fill-rule=\"nonzero\" fill-opacity=\"1\" /><path clip-path=\"url(#clip770)\" d=\"M1627.69 72.576 L1604.6 12.096 L1613.15 12.096 L1632.31 63.0159 L1651.51 12.096 L1660.02 12.096 L1636.97 72.576 L1627.69 72.576 Z\" fill=\"#000000\" fill-rule=\"nonzero\" fill-opacity=\"1\" /><path clip-path=\"url(#clip770)\" d=\"M1700.89 48.0275 L1700.89 51.6733 L1666.62 51.6733 Q1667.11 59.3701 1671.24 63.421 Q1675.41 67.4314 1682.83 67.4314 Q1687.12 67.4314 1691.13 66.3781 Q1695.18 65.3249 1699.15 63.2184 L1699.15 70.267 Q1695.14 71.9684 1690.93 72.8596 Q1686.71 73.7508 1682.38 73.7508 Q1671.52 73.7508 1665.16 67.4314 Q1658.84 61.1119 1658.84 50.3365 Q1658.84 39.1965 1664.84 32.6746 Q1670.87 26.1121 1681.08 26.1121 Q1690.24 26.1121 1695.55 32.0264 Q1700.89 37.9003 1700.89 48.0275 M1693.44 45.84 Q1693.36 39.7232 1690 36.0774 Q1686.67 32.4315 1681.16 32.4315 Q1674.93 32.4315 1671.16 35.9558 Q1667.43 39.4801 1666.86 45.8805 L1693.44 45.84 Z\" fill=\"#000000\" fill-rule=\"nonzero\" fill-opacity=\"1\" /><path clip-path=\"url(#clip770)\" d=\"M1739.42 34.1734 Q1738.16 33.4443 1736.66 33.1202 Q1735.2 32.7556 1733.42 32.7556 Q1727.1 32.7556 1723.7 36.8875 Q1720.34 40.9789 1720.34 48.6757 L1720.34 72.576 L1712.84 72.576 L1712.84 27.2059 L1720.34 27.2059 L1720.34 34.2544 Q1722.69 30.1225 1726.45 28.1376 Q1730.22 26.1121 1735.61 26.1121 Q1736.38 26.1121 1737.31 26.2337 Q1738.24 26.3147 1739.38 26.5172 L1739.42 34.1734 Z\" fill=\"#000000\" fill-rule=\"nonzero\" fill-opacity=\"1\" /><path clip-path=\"url(#clip770)\" d=\"M1747.23 9.54393 L1754.69 9.54393 L1754.69 72.576 L1747.23 72.576 L1747.23 9.54393 Z\" fill=\"#000000\" fill-rule=\"nonzero\" fill-opacity=\"1\" /><path clip-path=\"url(#clip770)\" d=\"M1809.09 48.0275 L1809.09 51.6733 L1774.82 51.6733 Q1775.31 59.3701 1779.44 63.421 Q1783.61 67.4314 1791.02 67.4314 Q1795.32 67.4314 1799.33 66.3781 Q1803.38 65.3249 1807.35 63.2184 L1807.35 70.267 Q1803.34 71.9684 1799.13 72.8596 Q1794.91 73.7508 1790.58 73.7508 Q1779.72 73.7508 1773.36 67.4314 Q1767.04 61.1119 1767.04 50.3365 Q1767.04 39.1965 1773.04 32.6746 Q1779.07 26.1121 1789.28 26.1121 Q1798.44 26.1121 1803.74 32.0264 Q1809.09 37.9003 1809.09 48.0275 M1801.64 45.84 Q1801.56 39.7232 1798.19 36.0774 Q1794.87 32.4315 1789.36 32.4315 Q1783.13 32.4315 1779.36 35.9558 Q1775.63 39.4801 1775.06 45.8805 L1801.64 45.84 Z\" fill=\"#000000\" fill-rule=\"nonzero\" fill-opacity=\"1\" /><path clip-path=\"url(#clip770)\" d=\"M1828.7 14.324 L1828.7 27.2059 L1844.05 27.2059 L1844.05 32.9987 L1828.7 32.9987 L1828.7 57.6282 Q1828.7 63.1779 1830.2 64.7578 Q1831.74 66.3376 1836.39 66.3376 L1844.05 66.3376 L1844.05 72.576 L1836.39 72.576 Q1827.77 72.576 1824.49 69.3758 Q1821.2 66.1351 1821.2 57.6282 L1821.2 32.9987 L1815.74 32.9987 L1815.74 27.2059 L1821.2 27.2059 L1821.2 14.324 L1828.7 14.324 Z\" fill=\"#000000\" fill-rule=\"nonzero\" fill-opacity=\"1\" /><path clip-path=\"url(#clip770)\" d=\"M1852.68 9.62495 L1859.16 9.62495 Q1865.24 19.1851 1868.24 28.3401 Q1871.27 37.4952 1871.27 46.5287 Q1871.27 55.6027 1868.24 64.7983 Q1865.24 73.9938 1859.16 83.5134 L1852.68 83.5134 Q1858.07 74.2369 1860.7 65.0818 Q1863.37 55.8863 1863.37 46.5287 Q1863.37 37.1711 1860.7 28.0566 Q1858.07 18.942 1852.68 9.62495 Z\" fill=\"#000000\" fill-rule=\"nonzero\" fill-opacity=\"1\" /><polyline clip-path=\"url(#clip772)\" style=\"stroke:#009af9; stroke-linecap:round; stroke-linejoin:round; stroke-width:8; stroke-opacity:1; fill:none\" points=\"309.067,1386.4 529.53,788.483 749.992,760.153 970.455,742.425 1190.92,714.938 1411.38,697.563 1631.84,682.618 1852.31,675.9 2072.77,677.662 2293.23,160.256 \"/>\n",
       "</svg>\n"
      ]
     },
     "execution_count": 17,
     "metadata": {},
     "output_type": "execute_result"
    }
   ],
   "source": [
    "plot(1:n, computed_T_profile, xlabel=\"Site\", ylabel=\"T_i = ⟨p_i^2⟩\", title=\"Temperature profile (Verlet)\", lw=2, legend=false)"
   ]
  },
  {
   "cell_type": "code",
   "execution_count": null,
   "id": "989945a3-3f40-481d-a220-8fc40562794f",
   "metadata": {},
   "outputs": [],
   "source": [
    "plot(1:Nt_sim, Jntot, xlabel=\"time step\", ylabel=\"J_n\", title=\"Total instantaneous current (Verlet)\", lw=2, legend=false)\n",
    "plot!(1:Nt_sim, cumsum(Jntot)./(1:Nt_sim))"
   ]
  },
  {
   "cell_type": "code",
   "execution_count": null,
   "id": "66a20953-436e-4677-b249-7fc106783571",
   "metadata": {},
   "outputs": [],
   "source": [
    "# Nt_thrm = 100000  # number of thermalization time steps\n",
    "# Nt_sim =  10000000   # number of simulation time steps\n",
    "# dt = 0.001 # time step\n",
    "println(\"Running BAOAB scheme...\")\n",
    "r_hist, p_hist, computed_T_profile, Jntot = simulate(\"baoab\")\n",
    "if ΔT != 0.0\n",
    "    κ_b = NEMD_estimate_of_conductivity(Jntot)\n",
    "end\n",
    "println(\"Average total current (BAOAB): \", mean(Jntot))\n",
    "println(\"Estimated conductivity (BAOAB): \", κ_b)"
   ]
  },
  {
   "cell_type": "code",
   "execution_count": null,
   "id": "5f29cc24-c5f9-4014-bdc3-c4d4b88cc867",
   "metadata": {},
   "outputs": [],
   "source": [
    "# plot_histograms(r_hist, p_hist, computed_T_profile) #, [n ÷ 4, n ÷ 2, 3n ÷ 4]"
   ]
  },
  {
   "cell_type": "code",
   "execution_count": null,
   "id": "2466c5e1-511e-44d3-a5e5-716ea2c04dc5",
   "metadata": {},
   "outputs": [],
   "source": [
    "plot(1:n, computed_T_profile, xlabel=\"Site\", ylabel=\"T_i = ⟨p_i²⟩\", title=\"Temperature profile (BAOAB)\", lw=2, legend=false)"
   ]
  },
  {
   "cell_type": "code",
   "execution_count": null,
   "id": "cfc39562-24a8-4bb0-9d96-a4085deea011",
   "metadata": {},
   "outputs": [],
   "source": [
    "# plot(1:Nt_sim, Jntot, xlabel=\"time step\", ylabel=\"J_n\", title=\"Total instantaneous current (BAOAB)\", lw=2, legend=false)\n",
    "# plot!(1:Nt_sim, cumsum(Jntot)./(1:Nt_sim))"
   ]
  },
  {
   "cell_type": "markdown",
   "id": "2495ef51",
   "metadata": {},
   "source": [
    "# Synthetic forcing"
   ]
  },
  {
   "cell_type": "code",
   "execution_count": null,
   "id": "7ad6ec5e",
   "metadata": {},
   "outputs": [],
   "source": [
    "# changing global scope parameter values as needed\n",
    "\n",
    "ΔT = 0. # temperature difference at the boundaries\n",
    "\n",
    "# Nt_thrm = 5000000 # number of thermalization time steps\n",
    "# Nt_sim =  100000000 # number of simulation time steps\n",
    "\n",
    "const η = 0.25 # total perturbation magnitude, it will be divided by n-1\n",
    "\n",
    "println(\"\\n η = \", η)"
   ]
  },
  {
   "cell_type": "code",
   "execution_count": null,
   "id": "5ca3c6f0",
   "metadata": {},
   "outputs": [],
   "source": [
    "# modifying function computing the hamiltonian vector field\n",
    "# r = dist_vec_wt_BC, dim n+1\n",
    "function ham_force_field_per_site_nonphys(q) # uses global (η, n)\n",
    "    \n",
    "    r = compute_dist_wt_BC(q) # differences of angles + modulus\n",
    "    int_f = interaction_force(r) # - sin(r) = [-sin(r_1), ..., -sin(r_{n+1})] = - V'(r)\n",
    "    \n",
    "    ν = η/(n-1)\n",
    "    \n",
    "    ham_force_field_Lsite = int_f[1] .- (1-ν) .* int_f[2]  # only - v'(r_1) + (1 - ν) * v'(r_2) in dp_1\n",
    "    ham_force_field_bulk_sites = (1 .+ ν) .* int_f[2:(n-1)] .- (1 .- ν) .* int_f[3:n]\n",
    "    ham_force_field_Rsite = (1 .+ ν) .* int_f[n] .- int_f[n+1] # for dp_N\n",
    "\n",
    "   return [ham_force_field_Lsite; ham_force_field_bulk_sites; ham_force_field_Rsite] # concatenate in unique vector field n components\n",
    "\n",
    "end"
   ]
  },
  {
   "cell_type": "code",
   "execution_count": null,
   "id": "39e9acd8",
   "metadata": {},
   "outputs": [],
   "source": [
    "# f = ham_force_field_per_site(q)\n",
    "function step_verlet_nonphys!(q, p, thrm_atoms::Vector{Int}, T_vec::Vector{Float64}, ξ_vec::Vector{Float64}, f)  #BAO\n",
    "# uses global (n, dt, ω0, ω, α, β, a, b, potential, BCl, BCr)\n",
    "    \n",
    "    p .+= 0.5dt .* f\n",
    "    q .+= dt .* p\n",
    "    if potential == \"rotor\"\n",
    "        q .= mod.(q .+ π, 2π) .- π\n",
    "    end\n",
    "    \n",
    "    f .= ham_force_field_per_site_nonphys(q)\n",
    "    p .+= 0.5dt .* f\n",
    "\n",
    "    OU_step!(p, thrm_atoms, T_vec, ξ_vec, 1) \n",
    "end"
   ]
  },
  {
   "cell_type": "code",
   "execution_count": null,
   "id": "58852f32",
   "metadata": {},
   "outputs": [],
   "source": [
    "# interaction_force = - V'\n",
    "function compute_Jntot(q,p) # observable does not change: use interaction_force with no perturbation\n",
    "\n",
    "    en_flux = 0.\n",
    "    r = compute_dist_wt_BC(q) \n",
    "\n",
    "    en_flux = sum(0.5 .* (p[1:n-1] .+ p[2:n]) .* interaction_force(r[2:n])) # no ν here, observable does not change\n",
    "\n",
    "    return en_flux\n",
    "end"
   ]
  },
  {
   "cell_type": "code",
   "execution_count": null,
   "id": "2a11a747",
   "metadata": {},
   "outputs": [],
   "source": [
    "# rescaled estimated coefficient\n",
    "function NEMD_estimate_of_conductivity_and_error_synth(Jntot)\n",
    "\n",
    "    c = 1. / (T_eq)\n",
    "    κ = ( abs(mean(Jntot)) / η ) * c \n",
    "\n",
    "    return κ \n",
    "end"
   ]
  },
  {
   "cell_type": "code",
   "execution_count": null,
   "id": "4ba61a89",
   "metadata": {},
   "outputs": [],
   "source": [
    "function simulate_synth(scheme) # uses global (n, dt, Nt_sim, T_eq=1.0, ΔT=0.5, potential=\"rotor\")\n",
    "    \n",
    "    imposed_T_profile = initialize_T_profile() \n",
    "    q, p = initialize_chain(imposed_T_profile)\n",
    "\n",
    "    computed_T_profile = zeros(n)\n",
    "    Jntot = zeros(Nt_sim)\n",
    "    q_hist = [] \n",
    "    p_hist = []\n",
    "\n",
    "    f = ham_force_field_per_site(q) # do not add perturbation for the moment\n",
    "\n",
    "    if scheme == \"verlet\"\n",
    "\n",
    "        thrm_atoms = collect(1:n)    # thermalization phase\n",
    "        ξ_vec = ones(length(thrm_atoms))\n",
    "        for step in 1:Nt_thrm  \n",
    "            step_verlet!(q, p, thrm_atoms, imposed_T_profile[thrm_atoms], ξ_vec, f) # do not add perturbation during thermalization\n",
    "        end\n",
    "        \n",
    "        # we modify only the simulation phase adding a perturbation of the field\n",
    "        thrm_atoms = [1,n]  \n",
    "        ξ_vec = [ξ_L, ξ_R]\n",
    "        for step in 1:Nt_sim # simulation phase: turn perturbation on\n",
    "            \n",
    "            step_verlet_nonphys!(q, p, thrm_atoms, imposed_T_profile[thrm_atoms], ξ_vec, f) # use perturbed field in the integration scheme\n",
    "            \n",
    "            computed_T_profile .+= p .^ 2\n",
    "\n",
    "            Jntot[step] = compute_Jntot(q,p) # do not use pertrubed field for the observable\n",
    "        end\n",
    "        \n",
    "    elseif scheme == \"baoab\"\n",
    "        \n",
    "        # same modifications\n",
    "        \n",
    "    else\n",
    "        error(\"Unknown integration scheme: $scheme\")\n",
    "    end\n",
    "\n",
    "    # compute temperature profile\n",
    "    computed_T_profile ./= Nt_sim\n",
    "\n",
    "    return q_hist, p_hist, computed_T_profile, Jntot\n",
    "end"
   ]
  },
  {
   "cell_type": "code",
   "execution_count": null,
   "id": "549f25d8",
   "metadata": {},
   "outputs": [],
   "source": [
    "println(\"Running Verlet scheme...\")\n",
    "_, _, _, Jntot = simulate_synth(\"verlet\")\n",
    "\n",
    "κ_synth_v = NEMD_estimate_of_conductivity_and_error_synth(Jntot)\n",
    "println(\"Estimated conductivity (synth, Verlet): \", κ_synth_v)\n",
    "\n",
    "#println(\"Running BAOAB scheme...\")\n",
    "#_, _, _, Jntot = simulate_synth(\"baoab\")\n",
    "#κ_synth_b = NEMD_estimate_of_conductivity_and_error_synth(Jntot)\n",
    "#println(\"Estimated conductivity (synth, BAOAB): \", κ_synth_b)\n",
    "\n",
    "\n",
    "println(\"Estimated conductivity (Verlet): \", κ_v)\n",
    "println(\"Estimated conductivity (BAOAB): \", κ_b)"
   ]
  },
  {
   "cell_type": "markdown",
   "id": "86742100",
   "metadata": {},
   "source": [
    "# Green--Kubo formula \n",
    "\n",
    "For two observables$~R,S \\in L^2(\\mu)$, we have\n",
    "$$\n",
    "\\alpha = \\int_0^{+\\infty}\\mathbb{E}\\!\\left[R(q_t,p_t)S(q_0,p_0) \\right] \\mathrm{d} t.\n",
    "$$\n",
    "First, we need to truncate the time integral\n",
    "$$\n",
    "\\widehat{\\alpha}_\\tau = \\int_0^{\\tau}\\mathbb{E}\\!\\left[R(q_t,p_t)S(q_0,p_0) \\right] \\mathrm{d} t.\n",
    "$$\n",
    "Then, the numerical estimator that we implement is given by a Monte-Carlo method and a time integration:\n",
    "$$\n",
    "\\widehat{\\alpha}_{\\tau,K} = \\frac{\\Delta t}{K}\\sum_{k = 1}^{K}\\sum_{n = 0}^{N_{\\text{iter}}} R(q^{n,(k)},p^{n,(k)})S(q^{0,(k)},p^{0,(k)}),\n",
    "$$\n",
    "where$~(q^{n,(k)},p^{n,(k)})_{1\\leq K}$ are i.i.d realizations.\n",
    "\n",
    "\n",
    "#### Since the Green--Kubo formula is an equilibrium technique, we can instead use a very long dynamics and cut it into differents pieces of the same size. It will be the way that we proceed.\n",
    "\n",
    "### Two important properties\n",
    "\n",
    "- Exponentional decay of the autocorrelation :\n",
    "        $$\n",
    "               \\left| \\mathbb{E}\\!\\left[R(q_t,p_t)S(q_0,p_0) \\right] \\right| \\sim_{t \\rightarrow +\\infty} C \\exp(-\\lambda t).\n",
    "        $$\n",
    "- Linear growth, with respect to time, of the variance :\n",
    "         $$\n",
    "               Var(\\widehat{\\alpha}_{\\tau,K}) \\sim_{\\tau \\rightarrow +\\infty} C_2 \\tau\n",
    "        $$\n",
    "### Application to the thermal conductivity\n",
    "The previous thermal conductivity coefficient, that you obtained before, can be computed by the Green--Kubo formula. Indeed, we have\n",
    "$$\n",
    "\\kappa = \\frac{\\beta^2}{N-1}\\int_0^{+\\infty}\\mathbb{E}\\!\\left[J(q_t,p_t)J(q_0,p_0) \\right] \\mathrm{d} t,\n",
    "$$\n",
    "with~$\\beta = 1/T_{\\text{ref}}$.\n",
    "\n",
    "$\\textit{Remark:}$ The Green--Kubo formula is an equilibrium formula, so the temperature at each end is the same."
   ]
  },
  {
   "cell_type": "markdown",
   "id": "90987c62",
   "metadata": {},
   "source": [
    "## Hands on\n",
    "First, we need to be at equilibrium, so we need to set $\\Delta T = 0$. We also declare again the number of time integration since we will be playing on it. \n",
    "#### IF YOU ARE CHANGING THE CONST, REMEMBER TO RELOAD THE FUNCTIONS BELOW"
   ]
  },
  {
   "cell_type": "code",
   "execution_count": null,
   "id": "117c6441",
   "metadata": {},
   "outputs": [],
   "source": [
    "const ΔT = 0.0\n",
    "const T_eq = 0.3\n",
    "const Nt_sim =  100000000"
   ]
  },
  {
   "cell_type": "markdown",
   "id": "80aa926c",
   "metadata": {},
   "source": [
    "Since we will be considering a long trajectory and the current $J$, we need to generate a long vector of $J$.\n",
    "\n",
    "We rewrite the function \"simulate\" such that it only returns the current."
   ]
  },
  {
   "cell_type": "code",
   "execution_count": null,
   "id": "cf8149cc",
   "metadata": {},
   "outputs": [],
   "source": [
    "function simulate(scheme) # uses global (n, dt, Nt_sim, T_eq=1.0, ΔT=0.5, potential=\"rotor\")\n",
    "    \n",
    "    imposed_T_profile = initialize_T_profile()# (T_eq, ΔT, n)\n",
    "    q, p = initialize_chain(imposed_T_profile)\n",
    "\n",
    "    Jntot = zeros(Nt_sim)\n",
    "    f = ham_force_field_per_site(q)\n",
    "\n",
    "    if scheme == \"verlet\"\n",
    "\n",
    "\n",
    "        thrm_atoms = collect(1:n)    # thermalization phase\n",
    "        ξ_vec = ones(length(thrm_atoms))\n",
    "        for step in 1:Nt_thrm\n",
    "            step_verlet!(q, p, thrm_atoms, imposed_T_profile[thrm_atoms], ξ_vec, f)\n",
    "        end\n",
    "        \n",
    "        thrm_atoms = [1,n]  # simulation phase\n",
    "        ξ_vec = [ξ_L, ξ_R]\n",
    "        for step in 1:Nt_sim\n",
    "            step_verlet!(q, p, thrm_atoms, imposed_T_profile[thrm_atoms], ξ_vec, f)\n",
    "            Jntot[step] = sum(0.5 .* (p[1:end-1] +p[2:end]) .* f[2:end])\n",
    "        end\n",
    "        \n",
    "    elseif scheme == \"baoab\"\n",
    "        \n",
    "        thrm_atoms = collect(1:n)    # thermalization phase\n",
    "        ξ_vec = ones(length(thrm_atoms))\n",
    "        for step in 1:Nt_thrm  \n",
    "            step_baoab!(q, p, thrm_atoms, imposed_T_profile[thrm_atoms], ξ_vec, f)\n",
    "        end\n",
    "        \n",
    "        thrm_atoms = [1,n]  # simulation phase\n",
    "        ξ_vec = [ξ_L, ξ_R]\n",
    "        for step in 1:Nt_sim\n",
    "            step_baoab!(q, p, thrm_atoms, imposed_T_profile[thrm_atoms], ξ_vec, f)\n",
    "            Jntot[step] = sum(0.5 .* (p[1:end-1] +p[2:end]) .* f[2:end])\n",
    "        end\n",
    "        \n",
    "    else\n",
    "        error(\"Unknown integration scheme: $scheme\")\n",
    "    end\n",
    "    return Jntot\n",
    "end"
   ]
  },
  {
   "cell_type": "markdown",
   "id": "e2b1bd85",
   "metadata": {},
   "source": [
    "We first generate a \"long\" vector of current"
   ]
  },
  {
   "cell_type": "code",
   "execution_count": null,
   "id": "1735e4a0",
   "metadata": {},
   "outputs": [],
   "source": [
    "@time Jntot = simulate(\"baoab\")  # \"verlet\""
   ]
  },
  {
   "cell_type": "code",
   "execution_count": null,
   "id": "72bd1e74",
   "metadata": {},
   "outputs": [],
   "source": [
    "Nsub = 5000 # Number of time iterations of the time segments\n",
    "Nrep = ceil(Int, Nt_sim/Nsub)   # Number of i.i.d replicas for Monte Carlo"
   ]
  },
  {
   "cell_type": "markdown",
   "id": "51361e01",
   "metadata": {},
   "source": [
    "We create a function to compute the autocorrelation function."
   ]
  },
  {
   "cell_type": "code",
   "execution_count": null,
   "id": "8c9a82a2",
   "metadata": {},
   "outputs": [],
   "source": [
    "function Autocor(Jntot, Nsub, Nrep)\n",
    "\n",
    "    Auto = zeros(Nsub)\n",
    "\n",
    "    @views for i in 1:Nsub:Nsub*Nrep\n",
    "        J = @views Jntot[i:i+Nsub-1]\n",
    "        J0 = J[1]\n",
    "        @simd for j in 1:Nsub\n",
    "            Auto[j] += J[j] * J0\n",
    "        end\n",
    "    end\n",
    "\n",
    "    return Auto ./ Nrep\n",
    "end"
   ]
  },
  {
   "cell_type": "code",
   "execution_count": null,
   "id": "65acf470",
   "metadata": {},
   "outputs": [],
   "source": [
    "@time A = Autocor(Jntot, Nsub, Nrep)"
   ]
  },
  {
   "cell_type": "code",
   "execution_count": null,
   "id": "c491b7ad",
   "metadata": {},
   "outputs": [],
   "source": [
    "plot(A, label = \"Autocorrelation\")\n",
    "xlabel!(\"Time step\")"
   ]
  },
  {
   "cell_type": "code",
   "execution_count": null,
   "id": "528e112b",
   "metadata": {},
   "outputs": [],
   "source": [
    "GreenKubo = dt/(T_eq^2*(n-1))*cumsum(A)"
   ]
  },
  {
   "cell_type": "code",
   "execution_count": null,
   "id": "763a6499",
   "metadata": {},
   "outputs": [],
   "source": [
    "plot(GreenKubo, label = \"Green Kubo formula\")\n",
    "xlabel!(\"Time step\")"
   ]
  },
  {
   "cell_type": "markdown",
   "id": "4f3ef21b",
   "metadata": {},
   "source": [
    "#### To do \n",
    "Play with Nsub (and Nrep) to see the impact on the Green--Kubo formula."
   ]
  }
 ],
 "metadata": {
  "kernelspec": {
   "display_name": "Julia 1.11.5",
   "language": "julia",
   "name": "julia-1.11"
  },
  "language_info": {
   "file_extension": ".jl",
   "mimetype": "application/julia",
   "name": "julia",
   "version": "1.11.5"
  }
 },
 "nbformat": 4,
 "nbformat_minor": 5
}
