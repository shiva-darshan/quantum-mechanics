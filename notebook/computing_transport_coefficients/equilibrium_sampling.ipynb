{
 "cells": [
  {
   "cell_type": "markdown",
   "metadata": {},
   "source": [
    "<h1>Sampling at equilibrium with the Langevin dynamics</h1>"
   ]
  },
  {
   "cell_type": "markdown",
   "metadata": {},
   "source": [
    "<a id='langevin'></a>\n",
    "<h2>The Langevin dynamics</h2>\n",
    "\n",
    "We consider the following stochastic differential equations:\n",
    "$$\n",
    "\\tag{Langevin}\n",
    "\\left\\lbrace\n",
    "\\begin{aligned}\n",
    "{\\rm d}q_t &= \\textcolor{blue}{M^{-1}p_t\\,{\\rm d}t},\\\\\n",
    "{\\rm d}p_t &= \\textcolor{blue}{-\\nabla V(q_t)\\,{\\rm d}t}\\textcolor{red}{-\\gamma M^{-1}p_t\\,{\\rm d}t+\\sqrt{\\frac{2\\gamma}{\\beta}}{\\rm d}W_t},\n",
    "\\end{aligned}\n",
    "\\right.\n",
    "$$\n",
    "The $\\textcolor{blue}{\\rm blue}$ part are the Hamilton's equations of motion, the $\\textcolor{red}{\\rm red}$ part is an Ornstein-Uhlenbeck (OU) process. The OU process is an example of a thermostat (infinite reservoir of energy) that models the heat exchanges between the system and its environment (<i>e.g.</i> through collisions).\n",
    "\n",
    "We denote by $d$ the dimension, and $N$ the number of particles composing the system at hand:\n",
    "* $(q_t,p_t)\\in\\mathbb{R}^{dN\\times dN}$ denotes the state of the system at time $t$, $q_t$ being the positions of the particles and $p_t$ their momenta;\n",
    "* $t\\mapsto W_t$ is a $dN$-dimensional standard Brownian motion;\n",
    "* the total energy of a configuration $(q,p)$ is given by its Hamiltonian:\n",
    "$$\n",
    "H(q,p)=V(q)+\\frac{1}{2}p^{\\mathsf{T}}M^{-1}p,\n",
    "$$\n",
    "where $M={\\rm diag}([m_i]_d)_{1\\leqslant i\\leqslant N}\\in\\mathcal{M}_{dN}(\\mathbb{R})$ the mass matrix ($m_i$ is the mass of the $i$-th particle, appearing $d$ times in a row in the diagonal of $M$) and $V:\\mathbb{R}^{dN}\\to\\mathbb{R}$ is the potential energy function modeling the interactions within the system.\n",
    "\n",
    "Under standard assumptions, the process $(q_t,p_t)_{t\\geqslant0}$ admits a unique equilibrium distribution, which is the Boltzmann-Gibbs probability distribution:\n",
    "$$\n",
    "\\mu({\\rm d}q\\,{\\rm d}p)=Z_\\mu^{-1}{\\rm e}^{-\\beta H(q,p)}{\\rm d}q\\,{\\rm d}p,\\qquad Z_\\mu=\\int_{\\mathbb{R}^{dN}\\times\\mathbb{R}^{dN}}{\\rm e}^{-\\beta H}.\n",
    "$$\n",
    "\n",
    "In this notebook, we consider $d=2$ and $N=1$. The goal is to compute a thermodynamic coefficient in this scenario, namely a quantity of the form\n",
    "$$\\int_{\\mathbb{R}^2\\times\\mathbb{R}^2}f(q,p)\\,\\mu(\\mathrm{d}q\\,\\mathrm{d}p),$$\n",
    "with $f:\\mathbb{R}^2\\times\\mathbb{R}^2\\mapsto\\mathbb{R}$ an observable. To ease the presentation, we will consider below an observable that only depends on the positions. In view of the form of the Boltzmann-Gibbs distribution, what really matters is then an approximation of\n",
    "$$\\tag{$\\star$}\\int_{\\mathbb{R}^2}f(q)\\,\\pi(\\mathrm{d}q),\\qquad \\pi(\\mathrm{d}q)=Z_\\pi^{-1}\\mathrm{e}^{-\\beta V(q)},\\qquad Z_\\pi=\\int_{\\mathbb{R}^2}\\mathrm{e}^{-\\beta V}.$$\n",
    "$\\pi$ is the marginal in position of $\\mu$, and will also be referred here as the Boltzmann-Gibbs distribution. We will see how the Langevin dynamics can be used to build accurate approximations of $(\\star)$ and analyze its accuracy for two potential energy functions."
   ]
  },
  {
   "cell_type": "code",
   "execution_count": null,
   "metadata": {},
   "outputs": [],
   "source": [
    "# Installing all the imports. If needed, uncomment.\n",
    "using Pkg\n",
    "Pkg.add([\"PyPlot\", \"LaTeXStrings\", \"Cubature\", \"StatsBase\", \"Polynomials\"])\n",
    "# First time compiling the PyPlot library takes a bit of time\n",
    "using PyPlot, LaTeXStrings, Cubature, StatsBase, Polynomials"
   ]
  },
  {
   "cell_type": "markdown",
   "metadata": {},
   "source": [
    "If you need any documentation here are comments/tips and documentation links:\n",
    "* [PyPlot](https://github.com/JuliaPy/PyPlot.jl): Julia interface to the `matplotlib` library in Python. Function calls work like in the `matplotlib.pyplot` library, which documentation can be found [here](https://matplotlib.org/2.0.2/api/pyplot_api.html).\n",
    "* [LaTeXStrings](https://github.com/JuliaStrings/LaTeXStrings.jl): Easier way to input strings that can be rendered using MathJax. Simply add `L` to the left of strings, and surround maths elements by `$`.\n",
    "* [Cubature](https://github.com/JuliaMath/Cubature.jl): Estimation of (possibly multidimensional) integrals using quadrature methods.\n",
    "* [StatsBase](https://github.com/JuliaStats/StatsBase.jl): Basic statistics support for Julia, which documentation can be found [here](https://juliastats.org/StatsBase.jl/stable/). \n",
    "* [Polynomials](https://github.com/JuliaMath/Polynomials.jl): Basic construction, evaluation, integration, differentiation, root-finding algorithms, data-fitting algorithms for univariate polynomials, which documentation can be found [here](https://juliamath.github.io/Polynomials.jl/stable/)."
   ]
  },
  {
   "cell_type": "markdown",
   "metadata": {},
   "source": [
    "<h2>A first simple system</h2>\n",
    "\n",
    "We consider a system composed of $N=1$ particle of mass 1 in dimension $d=2$, under the influence of a potential energy function $V$ which writes\n",
    "$$\n",
    "V(q)\\equiv V(x,y)=(x^2+y^2)^2.\n",
    "$$\n",
    "The potential energy surface (PES) is only composed of one well (the energy function is in fact convex), Langevin dynamics should therefore be able to build very accurate estimators of thermodynamic coefficients."
   ]
  },
  {
   "cell_type": "markdown",
   "metadata": {},
   "source": [
    "<i>Julia particularities</i>\n",
    "* `...` is the \"splat\" operator, which unpacks an Array/Tuple/Dict, equivalent to `*` and `**` in Python for example.\n",
    "* `'` denotes the adjoint operator. For instance, it transposes an array.\n",
    "* In Julia, one can define several functions with the same name and different arguments. In this context we will define functions on 1 particles, like `V(x, y)` for instance, and an array of particles with `V(q)`. "
   ]
  },
  {
   "cell_type": "code",
   "execution_count": null,
   "metadata": {},
   "outputs": [],
   "source": [
    "# Definitions of the potential and its gradient\n",
    "\n",
    "\"\"\"\n",
    "    V(x, y)\n",
    "\n",
    "Potential energy function.\n",
    "\"\"\"\n",
    "function V(x, y)\n",
    "    return (x^2+y^2)^2\n",
    "end\n",
    "\n",
    "function V(q::Vector{<:Real})\n",
    "    return V(q...)\n",
    "end\n",
    "\n",
    "\"\"\"\n",
    "    ∇V(x, y)\n",
    "\n",
    "Gradient of the potential energy function.\n",
    "\"\"\"\n",
    "function ∇V(x, y)\n",
    "\n",
    "    return 4 * (x^2+y^2) * [x, y]\n",
    "end\n",
    "\n",
    "function ∇V(q::Vector{<:Real})\n",
    "    return ∇V(q...)\n",
    "end\n",
    ";"
   ]
  },
  {
   "cell_type": "code",
   "execution_count": null,
   "metadata": {},
   "outputs": [],
   "source": [
    "# Define the Hamiltonian. Note that the mass is 1.\n",
    "\n",
    "\"\"\"\n",
    "    hamiltonian(q::Vector{<:Real},p::Vector{<:Real},V::Function)\n",
    "\n",
    "Compute the Hamiltonian of the system H(q,p)=V(q)+|p|²/2.\n",
    "\"\"\"\n",
    "function hamiltonian(q::Vector{<:Real},p::Vector{<:Real},V::Function)\n",
    "    return V(q) + p'*p/2\n",
    "end\n",
    ";"
   ]
  },
  {
   "cell_type": "markdown",
   "metadata": {},
   "source": [
    "<a id='boltzmanngibbs'></a>\n",
    "We define the Boltzmann-Gibbs distribution, using a quadrature method to compute the normalization constant/partition function."
   ]
  },
  {
   "cell_type": "code",
   "execution_count": null,
   "metadata": {},
   "outputs": [],
   "source": [
    "# Define the Boltzmann-Gibbs distribution\n",
    "\n",
    "β = 1. # Inverse temperature\n",
    "\n",
    "\"\"\"\n",
    "    boltzmann_gibbs_unnormalized(x,y,V::Function)\n",
    "\n",
    "Compute the un-normalized Gibbs distribution.\n",
    "\"\"\"\n",
    "function boltzmann_gibbs_unnormalized(x,y,V::Function)\n",
    "    return exp(-β*V(x,y))\n",
    "end\n",
    "\n",
    "function boltzmann_gibbs_unnormalized(q::Vector{<:Real}, V::Function)\n",
    "    return boltzmann_gibbs_unnormalized(q..., V)\n",
    "end\n",
    "\n",
    "# Using a quadrature method to obtain the partition function\n",
    "Zπ, err = hcubature(q->boltzmann_gibbs_unnormalized(q, V), (-10,-10),(10,10))\n",
    "println(\"Value of ∫exp(-βV)dπ using a quadrature method is $(Zπ) ± $(err)\")\n",
    "\n",
    "\"\"\"\n",
    "    boltzmann_gibbs(x,y, V::Function)\n",
    "\n",
    "Compute the normalized Gibbs distribution.\n",
    "\"\"\"\n",
    "function boltzmann_gibbs(x,y, V::Function)\n",
    "    return boltzmann_gibbs_unnormalized(x,y, V)/Zπ\n",
    "end\n",
    "\n",
    "function boltzmann_gibbs(q::Vector{<:Real}, V::Function)\n",
    "    return boltzmann_gibbs(q..., V)\n",
    "end\n",
    ";"
   ]
  },
  {
   "cell_type": "code",
   "execution_count": null,
   "metadata": {},
   "outputs": [],
   "source": [
    "# Define the equilibrium distribution in momenta. It will be useful for sanity checks.\n",
    "\n",
    "\"\"\"\n",
    "    standard_gaussian(x)\n",
    "\n",
    "Compute the pdf of the unidimensional Gaussian distribution of mean zero and covariance β⁻¹ at x.\n",
    "\"\"\"\n",
    "function standard_gaussian(x)\n",
    "    global β\n",
    "    return exp(-β*x^2/2)*sqrt(β/(2*π))\n",
    "end\n",
    "\n",
    "\"\"\"\n",
    "    standard_gaussian(x,y)\n",
    "\n",
    "Compute the pdf of the two-dimensional Gaussian distribution of mean zero and covariance β⁻¹I₂ at (x,y).\n",
    "\"\"\"\n",
    "function standard_gaussian(x,y)\n",
    "    global β\n",
    "    return exp(-β*(x^2+y^2)/2)*β/(2*π)\n",
    "end\n",
    "\n",
    "function standard_gaussian(p::Vector{<:Real})\n",
    "    return standard_gaussian(p...)\n",
    "end\n",
    ";"
   ]
  },
  {
   "cell_type": "code",
   "execution_count": null,
   "metadata": {},
   "outputs": [],
   "source": [
    "# First plot always takes a bit of time\n",
    "\n",
    "xmin, xmax = -2.0, 2.0\n",
    "ymin, ymax = -2.0, 2.0\n",
    "xlims = xmin, xmax\n",
    "ylims = ymin, ymax\n",
    "xrange = range(xlims..., 200)' # Note this is a row vector\n",
    "yrange = range(ylims..., 200)\n",
    "\n",
    "fig_V, ax_V = plt.subplots(figsize=(10,6))\n",
    "contourf_ = ax_V.contourf(xrange,yrange, @. V(xrange, yrange); levels=50, cmap=:hsv)\n",
    "cbar = fig_V.colorbar(contourf_)\n",
    "cbar.set_label(label=\"Potential energy\", fontsize=15)\n",
    "ax_V.set_xlabel(\"x\", fontsize=15)\n",
    "ax_V.set_ylabel(\"y\", fontsize=15);"
   ]
  },
  {
   "cell_type": "markdown",
   "metadata": {},
   "source": [
    "<h3>Integrating the Langevin dynamics</h3><a id='langevin'></a>\n",
    "\n",
    "We denote by $\\Delta t>0$ the time step used to integrate the various dynamics.\n",
    "\n",
    "To numerically implement the Langevin dynamics, we first need to understand how to numerically integrate the Hamiltonian part of the dynamics, and then the OU part. For the Hamiltonian part, we use the Störmer-Verlet integrator (a.k.a. velocity verlet or leapfrog). For the OU process, we can actually solve the SDE analytically which leads to a natural discretization.\n",
    "\n",
    "\n",
    "<details>\n",
    "<summary>Details on the Störmer-Verlet integrator.</summary>\n",
    "<h4>Störmer-Verlet algorithm</h4>\n",
    "\n",
    "This popular integrator is a composition of the symplectic Euler A and B schemes. Given a configuration $(q^0,p^0)$ the symplectic Euler A scheme reads\n",
    "$$\n",
    "\\tag{Euler A}\n",
    "\\left\\lbrace\n",
    "\\begin{aligned}\n",
    "q^1 &= q^0 + \\Delta t\\, M^{-1}p^0,\\\\\n",
    "p^1 &= p^0 - \\Delta t\\,\\nabla V(q^1),\n",
    "\\end{aligned}\n",
    "\\right.\n",
    "$$\n",
    "while the symplectic Euler B scheme reads\n",
    "$$\n",
    "\\tag{Euler B}\n",
    "\\left\\lbrace\n",
    "\\begin{aligned}\n",
    "q^1 &= q^0 + \\Delta t\\, M^{-1}p^1,\\\\\n",
    "p^1 &= p^0 - \\Delta t\\,\\nabla V(q^0).\n",
    "\\end{aligned}\n",
    "\\right.\n",
    "$$\n",
    "The (velocity) Verlet integrator is a composition of half-steps of Euler B and Euler A, and therefore reads\n",
    "$$\n",
    "\\tag{Störmer--Verlet}\n",
    "(q^1,p^1)=\\varphi_{\\Delta t}^{\\rm SV}(q^0,p^0),\\qquad\n",
    "\\left\\lbrace\n",
    "\\begin{aligned}\n",
    "p^{1/2} &= p^0-\\frac{\\Delta t}{2}\\nabla V(q^0)\\\\\n",
    "q^1 &= q^0 +\\Delta t\\,M^{-1}p^{1/2},\\\\\n",
    "p^1 &= p^{1/2}-\\frac{\\Delta t}{2}\\nabla V(q^1).\n",
    "\\end{aligned}\n",
    "\\right.\n",
    "$$\n",
    "\n",
    "Overall, we can see the A step as updating the positions and the B step as updating the momenta. We shall use this notation later when naming numerical integrators based on splitting strategies:\n",
    "$$\n",
    "\\begin{align}\n",
    "\\tag{A}\n",
    "(q^1,p^1)&=\\varphi_{\\Delta t}^{\\rm A}(q^0,p^0)=(q^0+\\Delta t\\,M^{-1}p^0, p^0),\\\\\n",
    "\\tag{B}\n",
    "(q^1,p^1)&=\\varphi_{\\Delta t}^{\\rm B}(q^0,p^0)=(q^0, p^0-\\Delta t\\,\\nabla V(q^0)).\n",
    "\\end{align}\n",
    "$$\n",
    "We therefore write numerical flows as\n",
    "$$\n",
    "\\varphi_{\\Delta t}^{\\rm SV}=\\varphi_{\\Delta t/2}^{\\rm B}\\circ\\varphi_{\\Delta t}^{\\rm A}\\circ\\varphi_{\\Delta t/2}^{\\rm B},\n",
    "$$\n",
    "which indicates first a half-step (in $\\Delta t$) of (B), then a full step of (A), and finally a half-step of (B).\n",
    "</details>\n",
    "\n",
    "<details>\n",
    "<summary> Details on the OU process and its natural discretization. </summary>\n",
    "\n",
    "<h4> The Ornstein-Uhlenbeck process </h4>\n",
    "\n",
    "The analytical solution of the Ornstein-Uhlenbeck process is known: if $p_0$ is the inital momenta at time $t=0$, then the solution of the process at time $t$ is\n",
    "$$\n",
    "p_t = {\\rm e}^{-\\gamma M^{-1}t}p_0 + \\sqrt{\\frac{2\\gamma}{\\beta}}\\int_{0}^t {\\rm e}^{-\\gamma M^{-1}(t-s)}{\\rm d}W_s.\n",
    "$$\n",
    "This is a Gaussian process with mean ${\\rm e}^{-\\gamma M^{-1}t}p_0$ and covariance matrix\n",
    "$$\n",
    "\\frac{2\\gamma}{\\beta}\\int_{0}^t {\\rm e}^{-2\\gamma M^{-1}(t-s)}ds=\\frac{1}{\\beta}({\\rm I}_{dN}-{\\rm e}^{-2\\gamma M^{-1}t})M.\n",
    "$$\n",
    "Therefore, a consistent discretization of the Ornstein-Uhlenbeck process over the time interval $[0,\\Delta t]$ is\n",
    "$$\n",
    "\\tag{O}\n",
    "p^1 = {\\rm e}^{-\\gamma M^{-1}\\Delta t}p^0 + \\sqrt{\\frac{\\left({\\rm I}_{dN}-{\\rm e}^{-2\\gamma M^{-1}\\Delta t}\\right)M}{\\beta}}{\\rm G}^1,\\qquad {\\rm G}^1\\sim\\mathcal{N}(0,{\\rm I}_{dN}).\n",
    "$$\n",
    "We shall also note this update with $\\varphi_{\\Delta t}^{\\rm O}(q^0,p^0)=(q^0,p^1)$ with $p^1$ defined above (even though this is not a numerical flow since noise is introduced).\n",
    "</details>\n",
    "\n",
    "<i>Julia particularities</i>\n",
    "* The `!` at the end of the function name is a Julia convention to indicate that this function modifies the input.\n",
    "* The `.` syntax after function names or before unary/binary/comparison operators means that the operation is vectorized, i.e. performed element-wise over the array. The `@.` syntax is a Julia macro that means that everything in the line is vectorized. Had we only specified `p⁰ -= Δt * ∇V⁰ / 2`, only the reference of the vector would have beed copied, not the content.\n",
    "* Ensure to pass Float vectors, otherwise the computations won't work. It is made mandatory here, as the force function ($-\\nabla V$) will return float values anyway."
   ]
  },
  {
   "cell_type": "markdown",
   "metadata": {},
   "source": [
    "<h4>Integrating the Hamiltonian dynamics</h4>"
   ]
  },
  {
   "cell_type": "code",
   "execution_count": null,
   "metadata": {},
   "outputs": [],
   "source": [
    "\"\"\"\n",
    "    stormer_verlet!(q::Vector{<:Real}, p::Vector{<:Real}, ∇V0::Vector{:Real}, Δt, ∇V::Function)\n",
    "\n",
    "Störmer-Verlet integrator for the Hamiltonian dynamics. (q,p) is the initial configuration, ∇V0 the current value of the gradient of the potential (i.e. ∇V0=∇V(q)), Δt the time step, ∇V function that outputs the gradient of the potential.\n",
    "\n",
    "The configuration and the value of the gradient of V are updated in place.\n",
    "\"\"\"\n",
    "function stormer_verlet!(q::Vector{<:Real}, p::Vector{<:Real}, Δt, _, _, ∇V0::Vector{<:Real}, ∇V::Function)\n",
    "    @. p -= Δt / 2 * ∇V0\n",
    "    @. q += Δt * p\n",
    "    ∇V0 .= ∇V(q) # No @. macro here, why ?\n",
    "    @. p -= Δt / 2 * ∇V0\n",
    "end\n",
    ";"
   ]
  },
  {
   "cell_type": "code",
   "execution_count": null,
   "metadata": {},
   "outputs": [],
   "source": [
    "\"\"\"\n",
    "    dynamics(q::Vector{<:Real}, p::Vector{<:Real}, Δt, β, γ, T, ∇V::Function, integrator::Function, dynamicsName::String; verbose::Bool)\n",
    "\n",
    "Simulate the dynamics dynamicsName using an integrator, starting from the initial configuration (q,p), using a time step Δt and a total simulation time T. The gradient of the potential is given by ∇V.\n",
    "The integrator must be a function with signature integrator(q::Vector, p::Vector,  Δt, β, γ, ∇V0::Vector,, ∇V::Function)\n",
    "\n",
    "Outputs the trajectory (positions, momenta). positions and momenta are both matrices, each line corresponding to a state, and each column to a coordinate.\n",
    "\"\"\"\n",
    "function dynamics(q::Vector{<:Real}, p::Vector{<:Real}, Δt, β, γ, T, ∇V::Function, integrator::Function, dynamicsName::String; verbose::Bool=true)\n",
    "\n",
    "    # Get the number of iterations\n",
    "    Nit = round(Int, T/Δt)\n",
    "\n",
    "    # Frequency of the points to show the progress of the simulations\n",
    "    nlog = round(Int, Nit/10)\n",
    "\n",
    "    # Holds the positions over time\n",
    "    positions = Array{Float64,2}(undef, Nit, 2)\n",
    "    positions[1,:] = q\n",
    "\n",
    "    # Holds the momenta over time\n",
    "    momenta = Array{Float64,2}(undef, Nit, 2)\n",
    "    momenta[1,:] = p\n",
    "\n",
    "    # Initial value of the gradient of the potential\n",
    "    ∇V0 = ∇V(q)\n",
    "\n",
    "    if verbose\n",
    "        print(\"Integrating using the $dynamicsName for $(Nit) iterations\\t\"); flush(stdout)\n",
    "    end\n",
    "\n",
    "    for i in 2:Nit\n",
    "        \n",
    "        # Prints a point every nlog iterations\n",
    "        if verbose && i % nlog == 0\n",
    "            print(\".\"); flush(stdout)\n",
    "        end\n",
    "\n",
    "        # Integrate one step\n",
    "        integrator(q,p, Δt, β, γ, ∇V0, ∇V)\n",
    "\n",
    "        # Update the trajectory\n",
    "        positions[i,:] = q\n",
    "        momenta[i,:] = p\n",
    "    end\n",
    "    \n",
    "    if verbose\n",
    "        println(\"\\tDone\"); flush(stdout)\n",
    "    end\n",
    "    \n",
    "    return positions, momenta\n",
    "end\n",
    ";"
   ]
  },
  {
   "cell_type": "code",
   "execution_count": null,
   "metadata": {},
   "outputs": [],
   "source": [
    "# Parameters for the Störmer-Verlet run\n",
    "\n",
    "T = 10000. # Simulation time\n",
    "Δt = 0.01 # Time step\n",
    "Nit = round(Int, T/Δt) # Number of iterations\n",
    "\n",
    "# Initial configuration\n",
    "q = [-1.5,-1.5]+3*rand(2)\n",
    "p = randn(2)/sqrt(β)\n",
    "#p = zeros(2)/sqrt(β)\n",
    "\n",
    ";"
   ]
  },
  {
   "cell_type": "code",
   "execution_count": null,
   "metadata": {},
   "outputs": [],
   "source": [
    "# compute the whole trajectory\n",
    "positions, momenta = dynamics(q, p, Δt, 0, 0,T, ∇V, stormer_verlet!, \"Hamiltonian dynamics\")\n",
    "\n",
    "x = positions[:,1]\n",
    "y = positions[:,2]\n",
    ";"
   ]
  },
  {
   "cell_type": "code",
   "execution_count": null,
   "metadata": {},
   "outputs": [],
   "source": [
    "# Plot only the beginning of the trajectory\n",
    "Nmax = min(3000,length(x))\n",
    "plt.figure(fig_V)\n",
    "# Remove previous data \n",
    "for data in ax_V.lines\n",
    "    data.remove()\n",
    "end\n",
    "ax_V.plot(x[1:Nmax],y[1:Nmax],label=\"Trajectory\", linestyle=\"dashed\", color=:black, linewidth=2)\n",
    "ax_V.legend();\n"
   ]
  },
  {
   "cell_type": "markdown",
   "metadata": {},
   "source": [
    "Always perform sanity checks ! The Hamiltonian should be very well preserved troughout the trajectory."
   ]
  },
  {
   "cell_type": "code",
   "execution_count": null,
   "metadata": {},
   "outputs": [],
   "source": [
    "# Plot the Hamiltonian over time\n",
    "\n",
    "fig, ax = plt.subplots()\n",
    "ax.plot(collect(1:Nmax)*Δt, [hamiltonian(positions[i,:], momenta[i,:], V) for i in 1:Nmax], label=\"Hamiltonian\")\n",
    "ax.set_xlabel(\"Physical time\", fontsize=15)\n",
    "ax.legend()\n",
    "display(gcf())\n",
    "plt.close(fig)"
   ]
  },
  {
   "cell_type": "markdown",
   "metadata": {},
   "source": [
    "<b><u>Tasks.</b></u> \n",
    "* Observe how the initial configuration impacts the whole trajectory. What happens when you set the initial momenta to 0 ?\n",
    "\n",
    "```diff\n",
    "- When the initial momenta is set to 0, the particle is trapped following a one-dimensional dynamics, resembling an oscillator.\n",
    "```\n",
    "\n",
    "* Check that the variations of the Hamiltonian scale with $\\Delta t^2$ by running trajectories and plotting the variations w.r.t. $\\Delta t$."
   ]
  },
  {
   "cell_type": "code",
   "execution_count": null,
   "metadata": {},
   "outputs": [],
   "source": [
    "Δts = 1.5 .^ (-3:-1:-13)\n",
    "q = [-1.5,-1.5]+3*rand(2)\n",
    "p = randn(2)/sqrt(β)\n",
    "\n",
    "hamiltonian_variations = Float64[]\n",
    "\n",
    "for Δt in Δts\n",
    "    positions, momenta = dynamics(q, p, Δt, 0, 0, T, ∇V, stormer_verlet!, \"Hamiltonian dynamics\")\n",
    "    hamiltonians = [hamiltonian(positions[i, :], momenta[i, :], V) for i in 1:Nmax]\n",
    "    variations = maximum(hamiltonians) - minimum(hamiltonians)\n",
    "    push!(hamiltonian_variations, variations)\n",
    "end\n",
    "\n",
    "log_Δts = log.(Δts)\n",
    "log_vars = log.(hamiltonian_variations)\n",
    "poly_fit = Polynomials.fit(log_Δts, log_vars, 1)  \n",
    "slope = round(poly_fit.coeffs[2], digits=2)\n",
    "\n",
    "# Plotting\n",
    "fig, ax = plt.subplots()\n",
    "ax.plot(Δts, hamiltonian_variations, \"o-\", label=\"Hamiltonian Deviation\")\n",
    "ax.plot(Δts, exp.(poly_fit.(log_Δts)), \"--\", label=\"Fit ~ Δt^$slope\")\n",
    "ax.set_xscale(\"log\")\n",
    "ax.set_yscale(\"log\")\n",
    "ax.set_xlabel(\"Time Step Δt\", fontsize=14)\n",
    "ax.set_ylabel(\"ΔH\", fontsize=14)\n",
    "ax.legend()\n",
    "ax.grid(true)\n",
    "fig.tight_layout()\n",
    "display(fig)\n",
    "plt.close(fig)\n"
   ]
  },
  {
   "cell_type": "markdown",
   "metadata": {},
   "source": [
    "<h4>Integrating the OU process</h4>"
   ]
  },
  {
   "cell_type": "code",
   "execution_count": null,
   "metadata": {},
   "outputs": [],
   "source": [
    "\"\"\"\n",
    "    OU_exact!(p::Vector{<:Real}, Δt, β, γ)\n",
    "\n",
    "Exact integration of the Ornstein-Uhlenbeck process. p is the initial momenta, Δt the time step, β the inverse temperature, γ the friction parameter, G is drawn from the standard Gaussian distribution.\n",
    "\n",
    "The momenta is updated in place.\n",
    "\"\"\"\n",
    "function OU_exact!(_, p::Vector{<:Real}, Δt, β, γ, _, _)\n",
    "    p .= exp(-γ*Δt) .* p .+ sqrt((1-exp(-2*γ*Δt))/β) .* randn(size(p))\n",
    "end\n",
    ";"
   ]
  },
  {
   "cell_type": "code",
   "execution_count": null,
   "metadata": {},
   "outputs": [],
   "source": [
    "# Parameters for the OU run\n",
    "\n",
    "T = 10000. # Simulation time\n",
    "Δt = 0.01 # Time step\n",
    "Nit = round(Int, T/Δt) # Number of iterations\n",
    "γ = 1. # Friction parameter\n",
    "\n",
    "# Initial configuration\n",
    "p = randn(2)/sqrt(β)\n",
    ";"
   ]
  },
  {
   "cell_type": "code",
   "execution_count": null,
   "metadata": {},
   "outputs": [],
   "source": [
    "# Compute the whole trajectory\n",
    "# Note that the initial position is not used in the OU dynamics\n",
    "_, momenta = dynamics([0.0, 0.0], p, Δt, β, γ, T, ∇V, OU_exact!, \"Ohrnstein-Uhlenbeck exact\")\n",
    ";"
   ]
  },
  {
   "cell_type": "markdown",
   "metadata": {},
   "source": [
    "Always perform sanity checks ! Here, each component of the momenta should be Gaussian distributed, with mean zero and variance $\\beta^{-1}$."
   ]
  },
  {
   "cell_type": "code",
   "execution_count": null,
   "metadata": {},
   "outputs": [],
   "source": [
    "xlims = -3/sqrt(β), 3/sqrt(β)\n",
    "ylims = -3/sqrt(β), 3/sqrt(β)\n",
    "xrange = range(xlims..., 200)\n",
    "yrange = range(ylims..., 200)\n",
    "Nmax = 100\n",
    "\n",
    "fig, ax = plt.subplots(nrows=2, ncols=2)\n",
    "ax1, ax2, ax3, ax4 = ax\n",
    "\n",
    "ax1.plot(collect(1:Nmax)*Δt,momenta[1:Nmax,1],label=L\"\n",
    "\")\n",
    "ax1.set_ylabel(\"First component\")\n",
    "\n",
    "ax2.plot(collect(1:Nmax)*Δt,momenta[1:Nmax,2],label=L\"\n",
    "\")\n",
    "ax2.set_xlabel(\"Physical time\")\n",
    "ax2.set_ylabel(\"Second component\")\n",
    "\n",
    "ax3.hist(momenta[:,1],bins=50,density=true,alpha=0.5,label=L\"\n",
    " histogram\")\n",
    "ax3.plot(xrange, standard_gaussian.(xrange), label=\"\",linewidth=3)\n",
    "ax3.set_xlim(xlims)\n",
    "\n",
    "ax4.hist(momenta[:,2],bins=50,density=true,alpha=0.5,label=L\"\n",
    " histogram\")\n",
    "ax4.plot(yrange, standard_gaussian.(yrange), label=\"\",linewidth=3)\n",
    "ax4.set_xlim(xlims)\n",
    "ax4.set_xlabel(\"Momenta\")\n",
    "\n",
    "fig.tight_layout()\n",
    "display(gcf())\n",
    "plt.close(fig)"
   ]
  },
  {
   "cell_type": "markdown",
   "metadata": {},
   "source": [
    "<h3>A splitting strategy</h3>\n",
    "\n",
    "A popular way to integrate the Langevin dynamics is based on a splitting strategy, considering separately the OU process and the Hamiltonian dynamics. We provide below one possible choice, named the BAOAB integrator.\n",
    "\n",
    "<details>\n",
    "<summary>Why the name 'BAOAB' ?</summary>\n",
    "\n",
    "See first the details blocks in [this cell](#langevin). As hinted by the letters, it performs a half B step, a half A step, a full O step, and then again a half A step and half B step:\n",
    "$$\n",
    "\\varphi_{\\Delta t}^{\\rm BAOAB}=\\varphi_{\\Delta t/2}^{\\rm B}\\circ\\varphi_{\\Delta t/2}^{\\rm A}\\circ\\varphi_{\\Delta t}^{\\rm O}\\circ\\varphi_{\\Delta t/2}^{\\rm A}\\circ\\varphi_{\\Delta t/2}^{\\rm B}.\n",
    "$$\n",
    "</details>"
   ]
  },
  {
   "cell_type": "code",
   "execution_count": null,
   "metadata": {},
   "outputs": [],
   "source": [
    "\"\"\"\n",
    "    BAOAB!(q::Vector{<:Real}, p::Vector{<:Real}, Δt, β, γ, ∇V::Function, ∇V0::Vector{<:Real})\n",
    "\n",
    "BAOAB integrator for the Langevin dynamics. (q,p) is the initial configuration, Δt the time step, β the inverse temperature, γ the friction parameter, ∇V the negative force field, ∇V the gradient of V evaluated at (q,p). The Ornstein-Uhlenbeck process is integrated using the analytical expression of the solution.\n",
    "\n",
    "The configuration and the gradient of the potential are updated in place.\n",
    "\"\"\"\n",
    "function BAOAB!(q::Vector{<:Real}, p::Vector{<:Real}, Δt, β, γ, ∇V0::Vector{<:Real}, ∇V::Function)\n",
    "    @. p -= Δt * ∇V0 / 2\n",
    "    @. q += Δt * p / 2\n",
    "    p .= exp(-γ*Δt) .* p .+ sqrt((1-exp(-2*γ*Δt))/β) .* randn(size(p))\n",
    "    @. q += Δt * p / 2\n",
    "    ∇V0 .= ∇V(q)\n",
    "    @. p -= Δt * ∇V0 / 2\n",
    "end\n",
    ";"
   ]
  },
  {
   "cell_type": "code",
   "execution_count": null,
   "metadata": {},
   "outputs": [],
   "source": [
    "# Parameters for the BAOAB run\n",
    "\n",
    "T = 2500. # Simulation time\n",
    "Δt = 0.1 # Time step\n",
    "γ = 1.0 # Friction parameter\n",
    "Nit = round(Int, T/Δt) # Number of iterations\n",
    "\n",
    "# Initial configuration\n",
    "q = [-1.5,-1.5]+3*rand(2)\n",
    "p = randn(2)/sqrt(β)\n",
    ";"
   ]
  },
  {
   "cell_type": "code",
   "execution_count": null,
   "metadata": {},
   "outputs": [],
   "source": [
    "# Compute the whole trajectory\n",
    "\n",
    "positions, momenta = dynamics(q, p, Δt, β, γ, T, ∇V, BAOAB!, \"Langevin Dynamics\")\n",
    "\n",
    "x = positions[:,1]\n",
    "y = positions[:,2]\n",
    ";"
   ]
  },
  {
   "cell_type": "code",
   "execution_count": null,
   "metadata": {},
   "outputs": [],
   "source": [
    "# Plot only beginning of the trajectory\n",
    "Nmax = min(300,length(x))\n",
    "plt.figure(fig_V)\n",
    "# Remove previous data  \n",
    "for data in ax_V.lines\n",
    "    data.remove()\n",
    "end\n",
    "ax_V.plot(x[1:Nmax],y[1:Nmax],label=\"Trajectory\", linestyle=\"dashed\", color=\"black\", linewidth=2)\n",
    "# Reset ax limits in case of the previous trajectory went out of the contourf\n",
    "ax_V.set_xlim(xmin, xmax)\n",
    "ax_V.set_ylim(ymin, ymax);"
   ]
  },
  {
   "cell_type": "markdown",
   "metadata": {},
   "source": [
    "<h3>Some sanity checks</h3>\n",
    "\n",
    "* the total energy of the system over time, <i>i.e.</i> the Hamiltonian, should not blow up;\n",
    "* the momenta should be normally distributed;\n",
    "* we can visualize the sampling on position and compare it with the reference."
   ]
  },
  {
   "cell_type": "code",
   "execution_count": null,
   "metadata": {},
   "outputs": [],
   "source": [
    "# Energy plot\n",
    "\n",
    "fig, ax = plt.subplots()\n",
    "ax.plot(collect(1:Nmax)*Δt, [hamiltonian(positions[i,:], momenta[i,:], V) for i in 1:Nmax], label=\"Hamiltonian\")\n",
    "display(gcf())\n",
    "plt.close(fig)"
   ]
  },
  {
   "cell_type": "code",
   "execution_count": null,
   "metadata": {},
   "outputs": [],
   "source": [
    "# Momena equilibrium distribution\n",
    "xlims = -3/sqrt(β), 3/sqrt(β)\n",
    "ylims = -3/sqrt(β), 3/sqrt(β)\n",
    "xrange = range(xlims..., 200)'\n",
    "yrange = range(ylims..., 200)\n",
    "\n",
    "fig, ax = plt.subplot_mosaic([[\"one\", \"two\"], [\"one\", \"three\"]])\n",
    "ax[\"one\"].scatter(momenta[1:Nmax,1],momenta[1:Nmax,2],label=\"\",alpha=0.2)\n",
    "ax[\"one\"].contour(xrange, yrange, @. standard_gaussian(xrange, yrange); levels=5)\n",
    "ax[\"one\"].set_xlabel(L\"p_x\", fontsize=15)\n",
    "ax[\"one\"].set_ylabel(L\"p_y\", fontsize=15)\n",
    "\n",
    "ax[\"two\"].hist(momenta[:,1],bins=50,density=true,alpha=0.5,label=L\"$p_x$ histogram\")\n",
    "ax[\"two\"].plot(xrange, dropdims(standard_gaussian.(xrange), dims=1), label=\"\",linewidth=3)\n",
    "ax[\"two\"].set_xlim(xlims)\n",
    "ax[\"two\"].set_ylabel(\"First component\",rotation=-90,labelpad=15)\n",
    "ax[\"two\"].yaxis.set_label_position(\"right\")\n",
    "\n",
    "ax[\"three\"].hist(momenta[:,2],bins=50,density=true,alpha=0.5,label=L\"$p_y$ histogram\")\n",
    "ax[\"three\"].plot(yrange, standard_gaussian.(yrange), label=\"\",linewidth=3)\n",
    "ax[\"three\"].set_xlim(xlims)\n",
    "ax[\"three\"].set_xlabel(\"Momenta\")\n",
    "ax[\"three\"].set_ylabel(\"Second component\",rotation=-90,labelpad=15)\n",
    "ax[\"three\"].yaxis.set_label_position(\"right\")\n",
    "\n",
    "fig.tight_layout()\n",
    "display(gcf())\n",
    "plt.close(fig)"
   ]
  },
  {
   "cell_type": "code",
   "execution_count": null,
   "metadata": {},
   "outputs": [],
   "source": [
    "# Visualize the position sampling\n",
    "\n",
    "xlims = -1.5, 1.5\n",
    "ylims = -1.5, 1.5\n",
    "xrange = range(xlims..., 500)\n",
    "yrange = range(ylims..., 500)\n",
    "\n",
    "fig, ax = plt.subplots(2, figsize=(10,8))\n",
    "ax1, ax2 = ax\n",
    "h = ax1.hist2d(positions[:,1],positions[:,2],cmap=:hsv,bins=80, density=true)\n",
    "ax1.set_xlim(xlims)\n",
    "ax1.set_ylim(ylims)\n",
    "ax1.set_ylabel(\"y\", fontsize=15)\n",
    "cbar = plt.colorbar(h[4], ax=ax1)\n",
    "cbar.set_label(label=\"Histogram\", fontsize=15)\n",
    "\n",
    "h = ax2.contourf(xrange, yrange, @. boltzmann_gibbs(xrange', yrange, V); cmap=:hsv, levels=50)\n",
    "ax2.set_xlabel(\"x\", fontsize=15)\n",
    "ax2.set_ylabel(\"y\", fontsize=15)\n",
    "cbar = fig.colorbar(h)\n",
    "cbar.set_label(label=L\"$\\pi$ distribution\", fontsize=15)\n",
    "\n",
    "fig.tight_layout()\n",
    "display(gcf())\n",
    "plt.close(fig)"
   ]
  },
  {
   "cell_type": "markdown",
   "metadata": {},
   "source": [
    "<h3>Convergence analysis</h3>\n",
    "\n",
    "The trajectorial average obtained from the Langevin dynamics yields an approximation of the target thermodynamic coefficient: if $(q^i,p^i)_{i}$ are the obtained samples, it holds\n",
    "$$\n",
    "\\frac{1}{\\rm N_{it}}\\sum_{i=1}^{\\rm N_{it}}f(q^i,p^i)\\approx \\int_{\\mathbb{R}^2\\times\\mathbb{R}^2} f(q,p)\\mu(\\mathrm{d}q\\,\\mathrm{d}p)\n",
    "$$\n",
    "In particular, if the observable $f:q\\mapsto f(q)$ only depends on the position $q$, then an estimator of $\\int_{\\mathbb{R}^2} f\\mathrm{d}\\pi$ is\n",
    "$$\n",
    "\\frac{1}{\\rm N_{it}}\\sum_{i=1}^{\\rm N_{it}}f(q^i).\n",
    "$$\n",
    "\n",
    "To observe this, we define the observable $f(q)\\equiv f(x,y)=\\cos(xy)\\exp(-y^2\\sin(x))$."
   ]
  },
  {
   "cell_type": "code",
   "execution_count": null,
   "metadata": {},
   "outputs": [],
   "source": [
    "# Define the observable, which only depends on the position\n",
    "function f(x,y)\n",
    "    return cos(x*y)*exp(-y^2*sin(x))\n",
    "end\n",
    "\n",
    "function f(q::Vector{<:Real})\n",
    "    return f(q...)\n",
    "end\n",
    ";"
   ]
  },
  {
   "cell_type": "code",
   "execution_count": null,
   "metadata": {},
   "outputs": [],
   "source": [
    "# Compute reference value\n",
    "mean_f, err = hcubature(q->f(q)*boltzmann_gibbs(q, V), (-10,-10),(10,10));"
   ]
  },
  {
   "cell_type": "code",
   "execution_count": null,
   "metadata": {},
   "outputs": [],
   "source": [
    "# Asymptotic convergence \n",
    "\n",
    "# Positions is a (N_it, 2) matrix, so we apply f row per row using mapslices, and then drop the irrelevent leftover dimension to obtain a vector\n",
    "f_vals = dropdims(mapslices(f, positions, dims=[2]), dims=2)\n",
    "\n",
    "# cumsum returns the vector of cumulative sums of values in the vector f_vals\n",
    "estimator = cumsum(f_vals) ./ (1:Nit);"
   ]
  },
  {
   "cell_type": "code",
   "execution_count": null,
   "metadata": {},
   "outputs": [],
   "source": [
    "println(\"The reference value is:\\t\\t\\t\\t $(mean_f) ± $(err)\")\n",
    "println(\"The estimation at the end of the dynamics is:\\t $(estimator[end])\") "
   ]
  },
  {
   "cell_type": "code",
   "execution_count": null,
   "metadata": {},
   "outputs": [],
   "source": [
    "# Plot the estimation over time\n",
    "\n",
    "npoints = ceil(Nit/1000)\n",
    "period = round(Int, npoints) # To plot every nth point\n",
    "xrange = collect(1:Nit)*Δt\n",
    "\n",
    "fig, ax = plt.subplots()\n",
    "ax.plot(xrange[begin:period:end], estimator[begin:period:end], label=\"Estimator\", linestyle=\"dashed\", alpha=0.7)\n",
    "ax.hlines([mean_f], xmin=0, xmax=Nit*Δt, label=\"Reference value\", color=\"red\", linewidth=2, alpha=0.7)\n",
    "ax.set_xlabel(\"Physical time\", fontsize=15)\n",
    "ax.legend()\n",
    "ax.set_ylim(ymin=0.9*mean_f, ymax=1.1*mean_f) # Restrict the y axis to observe the fluctuations\n",
    "display(gcf())\n",
    "plt.close(fig)"
   ]
  },
  {
   "cell_type": "markdown",
   "metadata": {},
   "source": [
    "<b><u>Task.</b></u>\n",
    "\n",
    "* Compute the average pressure of the system, given by $\\mathbb{E}_\\pi\\left[-q\\cdot\\nabla V(q)\\right]$. Compare with the reference value.\n",
    "* <b>[ONLY IF YOU HAVE TIME]</b> Compute the heat capacity $\\left(\\mathbb{E}_\\mu\\left[H^2\\right]-\\mathbb{E}_\\mu\\left[H\\right]^2\\right)/(k_BT^2)$. Recall that $\\beta =(k_BT)^{-1}$ (you may go to [this cell](#boltzmanngibbs) to define $\\beta$ as a function of $k_B,T$, or redefine it in you particular cell, but do remember you changed it there !)"
   ]
  },
  {
   "cell_type": "code",
   "execution_count": null,
   "metadata": {},
   "outputs": [],
   "source": [
    "function pressure(x, y)\n",
    "    return - [x, y]' * ∇V(x, y)\n",
    "end \n",
    "\n",
    "function pressure(q::Vector{<:Real})\n",
    "    return pressure(q...)\n",
    "end\n",
    "\n",
    "mean_pressure, err = hcubature(q->pressure(q)*boltzmann_gibbs(q, V), (-10,-10),(10,10));\n",
    "pressure_vals = dropdims(mapslices(pressure, positions, dims=[2]), dims=2)\n",
    "estimator_pressure = cumsum(pressure_vals) ./ (1:Nit);\n",
    "\n",
    "println(\"The reference value is:\\t\\t\\t\\t $(mean_pressure) ± $(err)\")\n",
    "println(\"The estimation at the end of the dynamics is:\\t $(estimator_pressure[end])\") "
   ]
  },
  {
   "cell_type": "code",
   "execution_count": null,
   "metadata": {},
   "outputs": [],
   "source": [
    "H_vals = [hamiltonian(positions[i, :], momenta[i, :], V) for i in 1:Nit]\n",
    "mean_H = mean(H_vals)\n",
    "mean_H2 = mean(H_vals .^ 2)\n",
    "heat_capacity = β^2 * (mean_H2 - mean_H^2)\n",
    "\n",
    "println(\"Heat capacity estimate: $heat_capacity\")"
   ]
  },
  {
   "cell_type": "markdown",
   "metadata": {},
   "source": [
    "<h3>Variance analysis</h3>"
   ]
  },
  {
   "cell_type": "markdown",
   "metadata": {},
   "source": [
    "The built estimator is $\\widehat{f}_{\\Delta t,\\mathrm{N_{it}}}=\\frac{1}{\\rm N_{it}}\\sum_{i=1}^{\\rm N_{it}}f(q^n_{\\Delta t})$ depends on the number of iterations $\\rm N_{it}$ and the time step $\\Delta t$. In this section, we focus on the fluctation errors of the estimators with respect to $\\rm N_{it}$, and completely disregard errors because of the bias induced by using a positive time step.\n",
    "\n",
    "The fluctuations around the target value are dictated by a central limit theorem (CLT): assuming the initial configuration $q^1$ is sampled under $\\pi$, the quantity $\\mathrm{N_{it}}\\mathbb{V}_{\\pi}\\left[\\widehat{f}_{\\rm N_{it}}\\right]$ is equal to\n",
    "$$\n",
    "\\sigma^2_{f,\\mathrm{N_{it}}}:=\\mathbb{E}_\\pi\\left[\\left(\\Pi f\\right)^2\\right]+2\\sum_{2\\leqslant n\\leqslant \\mathrm{N_{it}}}\\left(1-\\frac{n-1}{\\mathrm{N_{it}}}\\right)\\mathbb{E}_\\pi\\left[\\Pi f(q^{n})\\Pi f(q^1)\\right],\n",
    "$$\n",
    "which converges to the asymptotic variance defined by\n",
    "$$\n",
    "\\sigma^2_f := \\mathbb{E}_\\pi\\left[\\left(\\Pi f\\right)^2\\right]+2\\sum_{n=2}^{+\\infty}\\mathbb{E}_\\pi\\left[\\Pi f(q^{n})\\Pi f(q^1)\\right],\n",
    "$$\n",
    "\n",
    "We can estimate this value by computing the correlation time or equivalently the effective sample size (ESS) to extract (approximate) i.i.d samples. A CLT-like formula can then be estimated to obtain a confidence interval. This ESS therefore also depends on the observable.\n",
    "\n",
    "There are several methods in the literature to compute effective sample sizes (ESS). One can compute autocorrelation functions or use batch estimators of the variance. Here, we will use the _initial positive sequence_ (IPS) estimator. We refer to [here](https://arxiv.org/pdf/0906.0943) and [here](https://arxiv.org/pdf/1011.0175) for more methods and details. \n",
    "\n",
    "<details><summary>How is the IPS estimator defined ?</summary>\n",
    "\n",
    "A formula for the autocorrelation time is \n",
    "$$\n",
    "\\tau = 1+2\\sum_{k=1}^{+\\infty}\\rho_k,\n",
    "$$\n",
    "where $\\rho_k$ is the ACF function of the series at lag $k$. It can be shown that the sums of pairs of consecutive values $\\rho_i+\\rho_{i+1}$ are always positive. We therefore compute the ACF values and truncate the sum when the sum of the observed pairs become negative.\n",
    "</details>\n",
    "\n",
    "If the observable is vector-valued (for instance we want to observe the cross-correlations between the x and y components), one can resort to computing the minimum of the ESS on each coordinate, or even better, use the ESS formula defined in Vats <i>et al.</i> (2019) (see [here](https://github.com/rsantet/multiESS) for a basic Julia implementation). This method actually uses variance mini-batching estimators."
   ]
  },
  {
   "cell_type": "code",
   "execution_count": null,
   "metadata": {},
   "outputs": [],
   "source": [
    "# Parameters for the ESS computations\n",
    "\n",
    "T = 10000. # Simulation time. We decrease it to perform more runs.\n",
    "Δt = 0.01 # Time step\n",
    "γ = 1.0 # Friction parameter\n",
    "Nit = round(Int, T/Δt) # Number of iterations\n",
    "\n",
    "# Initial configuration\n",
    "q = [-1.5,-1.5]+3*rand(2)\n",
    "p = randn(2)/sqrt(β)\n",
    ";"
   ]
  },
  {
   "cell_type": "code",
   "execution_count": null,
   "metadata": {},
   "outputs": [],
   "source": [
    "positions, momenta = dynamics(q, p, Δt, β, γ, T, ∇V, BAOAB!, \"\", verbose=false);"
   ]
  },
  {
   "cell_type": "code",
   "execution_count": null,
   "metadata": {},
   "outputs": [],
   "source": [
    "lags = collect(0:250)\n",
    "\n",
    "acf = autocor(positions, lags)\n",
    "acf_p = autocor(momenta, lags)\n",
    "acf_f = autocor(f_vals, lags);"
   ]
  },
  {
   "cell_type": "code",
   "execution_count": null,
   "metadata": {},
   "outputs": [],
   "source": [
    "# Autocorrelations visualization\n",
    "\n",
    "fig, ax = plt.subplots()\n",
    "ax.plot(lags, acf[:,1], label=\"x coordinate\")\n",
    "ax.plot(lags, acf[:,2], label=\"y coordinate\")\n",
    "ax.plot(lags, acf_p[:,1], label=L\"$p_x$ coordinate\")\n",
    "ax.plot(lags, acf_p[:,2], label=L\"$p_y$ coordinate\")\n",
    "ax.plot(lags, acf_f, label=\"f values\")\n",
    "ax.set_xlabel(\"k\")\n",
    "ax.set_ylabel(\"k-lag autocorrelation\")\n",
    "ax.legend()\n",
    "display(gcf())\n",
    "plt.close(fig)"
   ]
  },
  {
   "cell_type": "code",
   "execution_count": null,
   "metadata": {},
   "outputs": [],
   "source": [
    "# This function outputs the index for which we need to truncate the ACF sum\n",
    "# This is based on a criterion about sum of pairs in the ACF values\n",
    "\n",
    "function ips_index(acf_values)\n",
    "    n = length(acf_values)\n",
    "    idx = 1\n",
    "    while idx < n\n",
    "        if acf_values[idx]+acf_values[idx+1]<=0\n",
    "            return idx+1\n",
    "        end\n",
    "        idx += 2\n",
    "    end\n",
    "    # If we're here, then we have not seen sum of pairs becoming negative\n",
    "    # The best we can is using the full acf_values\n",
    "    return n\n",
    "end\n",
    "\n",
    "function correlation_time(acf_values)\n",
    "    index = ips_index(acf_values)\n",
    "    τ = 1+2*sum(acf[begin:index])\n",
    "    return τ\n",
    "end\n",
    ";"
   ]
  },
  {
   "cell_type": "code",
   "execution_count": null,
   "metadata": {},
   "outputs": [],
   "source": [
    "ESS_x = round(Int, Nit / correlation_time(acf[:,1]))\n",
    "ESS_y = round(Int, Nit / correlation_time(acf[:,2]))\n",
    "ESS_px = round(Int, Nit / correlation_time(acf_p[:,1]))\n",
    "ESS_py = round(Int, Nit / correlation_time(acf_p[:,2]))\n",
    "ESS_f = round(Int, Nit / correlation_time(acf_f));"
   ]
  },
  {
   "cell_type": "code",
   "execution_count": null,
   "metadata": {},
   "outputs": [],
   "source": [
    "println(\"Effective sample size for the x component is:\\t$(ESS_x)\")\n",
    "println(\"Effective sample size for the y component is:\\t$(ESS_y)\")\n",
    "println(\"Effective sample size for the px component is:\\t$(ESS_px)\")\n",
    "println(\"Effective sample size for the py component is:\\t$(ESS_py)\")\n",
    "println(\"Effective sample size for the f values is:\\t$(ESS_f)\")\n",
    "println()\n",
    "\n",
    "std_estimator = sqrt(var(estimator)/ESS_f)\n",
    "println(\"∫fdπ value using quadrature method is:\\t\\t$(mean_f) ± $(err)\")\n",
    "println(\"∫fdπ value using the IPS estimator is:\\t\\t$(estimator[end]) ± $(std_estimator)\")"
   ]
  },
  {
   "cell_type": "markdown",
   "metadata": {},
   "source": [
    "<b><u>Task.</b></u> \n",
    "* <b>[ONLY IF YOU HAVE TIME]</b> Change the parameters ($\\beta, \\Delta t, \\gamma, T, \\dots$) and see how it impacts the estimation and its variance. Beware of the computation time.\n",
    "* <b>[ONLY IF YOU HAVE TIME]</b> Run simulations for different initial conditions and estimate the variance after a fixed number of steps. Add a thermalization step beforehand so that the configuration is approximately a sample under the Boltzmann-Gibbs distribution."
   ]
  },
  {
   "cell_type": "code",
   "execution_count": null,
   "metadata": {},
   "outputs": [],
   "source": [
    "T_mixing = 100. \n",
    "\n",
    "# Initial configuration\n",
    "q = [-1.5,-1.5]+3*rand(2)\n",
    "p = randn(2)/sqrt(β)\n",
    "\n",
    "# Mixing\n",
    "q, p = dynamics(q, p, Δt, β, γ, T_mixing, ∇V, BAOAB!, \"\", verbose=false);\n",
    "\n",
    "# Computation of the full trajectory\n",
    "T_simu = 100.\n",
    "positions, momenta = dynamics(q[end, :], p[end, :], Δt, β, γ, T_simu, ∇V, BAOAB!, \"\", verbose=false);\n",
    "\n",
    "acf_f = autocor(f_vals, lags);\n",
    "ESS_f = round(Int, Nit / correlation_time(acf_f));\n",
    "std_estimator = sqrt(var(estimator)/ESS_f)\n",
    "println(\"∫fdπ value using quadrature method is:\\t\\t\\t$(mean_f) ± $(err)\")\n",
    "println(\"∫fdπ value using the IPS estimator after mixing is:\\t$(estimator[end]) ± $(std_estimator)\")"
   ]
  },
  {
   "cell_type": "markdown",
   "metadata": {},
   "source": [
    "<h2>A metastable system</h2>\n",
    "\n",
    "We now consider another potential energy function $V$ which writes\n",
    "$$\n",
    "\\tag{Entropic switch}\n",
    "V(q)\\equiv V(x,y)=3{\\rm e}^{-x^2}({\\rm e}^{-(y-1/3)^2}-{\\rm e}^{-(y-5/3)^2})-5{\\rm e}^{-y^2}({\\rm e}^{-(x-1)^2}+{\\rm e}^{-(x+1)^2})+0.2x^4+0.2(y-1/3)^4.\n",
    "$$\n",
    "The potential energy function $V$ has two deep wells centered at $q_{\\rm L}=(-1.048, -0.04210),q_{\\rm R}=(1.048, -0.04210)$, and a shallow well around $q_{\\rm S}=(0., 1.5371)$. This potential energy surface is such that the Langevin dynamics exhibit **metastability**: the dynamics stay trap for long times in a given potential well before exiting to another well. This impacts the accuracy of the estimator."
   ]
  },
  {
   "cell_type": "code",
   "execution_count": null,
   "metadata": {},
   "outputs": [],
   "source": [
    "# Definitions of the potential and its gradient\n",
    "\n",
    "\"\"\"\n",
    "    entropic_switch(x, y)\n",
    "\n",
    "Potential energy function.\n",
    "\"\"\"\n",
    "function entropic_switch(x, y)\n",
    "    tmp1 = x^2\n",
    "    tmp2 = (y - 1 / 3)^2\n",
    "    return 3 * exp(-tmp1) * (exp(-tmp2) - exp(-(y - 5 / 3)^2)) - 5 * exp(-y^2) * (exp(-(x - 1)^2) + exp(-(x + 1)^2)) + 0.2 * tmp1^2 + 0.2 * tmp2^2\n",
    "end\n",
    "\n",
    "function entropic_switch(q::Vector{<:Real})\n",
    "    return entropic_switch(q...)\n",
    "end\n",
    "\n",
    "\"\"\"\n",
    "    ∇entropic_switch(x, y)\n",
    "\n",
    "Gradient of the potential energy function.\n",
    "\"\"\"\n",
    "function ∇entropic_switch(x, y)\n",
    "\n",
    "    tmp1 = exp(4*x)\n",
    "    tmp2 = exp(-x^2 - 2*x - y^2 - 1)\n",
    "    tmp3 = exp(-x^2)\n",
    "    tmp4 = exp(-(y-1/3)^2)\n",
    "    tmp5 = exp(-(y-5/3)^2)\n",
    "\n",
    "    dx = 0.8*x^3 + 10*(tmp1*(x - 1) + x + 1)*tmp2 - 6*tmp3*x*(tmp4 - tmp5)\n",
    "\n",
    "    dy = 10*(tmp1 + 1)*y*tmp2 + 3*tmp3*(2*tmp5*(y - 5/3) - 2*tmp4*(y - 1/3)) + 0.8*(y - 1/3)^3\n",
    "\n",
    "    return [dx, dy]\n",
    "end\n",
    "\n",
    "function ∇entropic_switch(q::Vector{<:Real})\n",
    "    return ∇entropic_switch(q...)\n",
    "end\n",
    ";"
   ]
  },
  {
   "cell_type": "markdown",
   "metadata": {},
   "source": [
    "<h3>Visualizing the potential energy surface (PES)</h3>"
   ]
  },
  {
   "cell_type": "code",
   "execution_count": null,
   "metadata": {},
   "outputs": [],
   "source": [
    "# First time compiling the PyPlot library takes a bit of time\n",
    "using PyPlot\n",
    "\n",
    "xmin, xmax = -2.5, 2.5\n",
    "ymin, ymax = -1.75, 2.5\n",
    "xlims = xmin, xmax\n",
    "ylims = ymin, ymax\n",
    "xrange = range(xlims..., 200)' # Note this is a row vector\n",
    "yrange = range(ylims..., 200)\n",
    "\n",
    "fig_V, ax_V = plt.subplots(figsize=(10,6))\n",
    "contourf_ = ax_V.contourf(xrange,yrange, @. entropic_switch(xrange, yrange); levels=50, cmap=:hsv)\n",
    "cbar = fig_V.colorbar(contourf_)\n",
    "cbar.set_label(label=\"Potential energy\", fontsize=15)\n",
    "ax_V.set_xlabel(\"x\", fontsize=15)\n",
    "ax_V.set_ylabel(\"y\", fontsize=15)\n",
    "kwargs = Dict(:fontsize=>25, :ha=>\"center\", :va=>\"center\")\n",
    "ax_V.text(-1.048, -0.04210, L\"$q_{\\rm L}$\"; kwargs...)\n",
    "ax_V.text(1.048, -0.04210, L\"$q_{\\rm R}$\"; kwargs...)\n",
    "ax_V.text(0., 1.5371, L\"$q_{\\rm S}$\"; kwargs...);"
   ]
  },
  {
   "cell_type": "markdown",
   "metadata": {},
   "source": [
    "We now run Langevin dynamics."
   ]
  },
  {
   "cell_type": "code",
   "execution_count": null,
   "metadata": {},
   "outputs": [],
   "source": [
    "# Compute the whole trajectory\n",
    "# Parameters for the BAOAB run\n",
    "\n",
    "T = 2500. # Simulation time\n",
    "Δt = 0.01 # Time step\n",
    "γ = 1.0 # Friction parameter\n",
    "Nit = round(Int, T/Δt) # Number of iterations\n",
    "β = 1.\n",
    "\n",
    "# Initial configuration\n",
    "q = [-2,-1.5]+4*rand(2)\n",
    "p = randn(2)/sqrt(β)\n",
    ";\n",
    "positions, momenta = dynamics(q, p, Δt, β, γ, T, ∇entropic_switch, BAOAB!, \"Langevin Dynamics\")\n",
    "\n",
    "x = positions[:,1]\n",
    "y = positions[:,2]\n",
    ";"
   ]
  },
  {
   "cell_type": "code",
   "execution_count": null,
   "metadata": {},
   "outputs": [],
   "source": [
    "# Plot only beginning of the trajectory\n",
    "Nmax = min(10000,length(x))\n",
    "plt.figure(fig_V)\n",
    "# Remove previous data  \n",
    "for data in ax_V.lines\n",
    "    data.remove()\n",
    "end\n",
    "ax_V.plot(x[1:Nmax],y[1:Nmax],label=\"Trajectory\", linestyle=\"dashed\", color=\"black\", linewidth=2)\n",
    "# Reset ax limits in case of the previous trajectory went out of the contourf\n",
    "ax_V.set_xlim(xmin, xmax)\n",
    "ax_V.set_ylim(ymin, ymax);"
   ]
  },
  {
   "cell_type": "markdown",
   "metadata": {},
   "source": [
    "To observe the metastability in the $x$ direction, we can define the reaction coordinate $\\xi$ defined as $\\xi(x,y)=x$. The free energy associated with $\\xi$ is defined as\n",
    "$$\n",
    "F(x)=-\\beta^{-1}\\ln \\int_{\\mathbb{R}}{\\rm e}^{-\\beta V(x,y)}{\\rm d}y.\n",
    "$$\n",
    "The histogram of the $x$ values should superimpose with the free energy distribution, whose density is proportional to $\\mathrm{e}^{-\\beta F(x)}$."
   ]
  },
  {
   "cell_type": "code",
   "execution_count": null,
   "metadata": {},
   "outputs": [],
   "source": [
    "# Compute various normalization constants for values of the reaction coordinate (x) on a grid\n",
    "n_x = 200\n",
    "x_grid = range(-2.5,2.5,n_x)\n",
    "free_energy = zeros(n_x)\n",
    "for idx in 1:n_x\n",
    "    free_energy[idx] = -log(hquadrature(y-> boltzmann_gibbs_unnormalized(x_grid[idx],y, entropic_switch), -10, 10)[1])/β\n",
    "end\n",
    "\n",
    "# Estimation of the free energy by a piecewise constant function\n",
    "function gibbs_free_energy(x)\n",
    "    if x <= -2.5\n",
    "        return free_energy[1]\n",
    "    elseif x >= 2.5\n",
    "        return free_energy[end]\n",
    "    else\n",
    "        idx = trunc(Int,(x+2.5)/5*n_x)+1\n",
    "        return free_energy[idx]\n",
    "    end\n",
    "end\n",
    ";"
   ]
  },
  {
   "cell_type": "code",
   "execution_count": null,
   "metadata": {},
   "outputs": [],
   "source": [
    "# Compute the free energy for for the simulation\n",
    "x_coords = positions[:,1]\n",
    "fe_x = gibbs_free_energy.(x_grid)\n",
    ";"
   ]
  },
  {
   "cell_type": "code",
   "execution_count": null,
   "metadata": {},
   "outputs": [],
   "source": [
    "# Compare with the histogram of the x-coordinate histogram\n",
    "\n",
    "# The partition function needs to be computed for this new example\n",
    "Zπ, err = hcubature(q->boltzmann_gibbs_unnormalized(q, entropic_switch), (-10,-10),(10,10))\n",
    "#println(\"Value of ∫exp(-βV)dπ using a quadrature method is $(Zπ) ± $(err)\")\n",
    "\n",
    "xlims = -2.5, 2.5\n",
    "xrange = range(xlims...,200)\n",
    "\n",
    "fig, ax = plt.subplots()\n",
    "ax.hist(x_coords,bins=50,alpha=0.5,density=true,label=L\"$x$ histogram\")\n",
    "ax.plot(x_grid, @. exp(-β * fe_x) / Zπ; label=\"Free energy distribution\")\n",
    "ax.set_xticks([-2,-1.048,0,1.048,2],[\"-2\",L\"$q_{\\rm L}$\", \"0\", L\"$q_{\\rm R}$\", \"2\"])\n",
    "ax.tick_params(labelsize=10)\n",
    "ax.set_xlabel(L\"$x$\", fontsize=15)\n",
    "ax.legend()\n",
    "display(gcf())\n",
    "plt.close(fig)"
   ]
  },
  {
   "cell_type": "markdown",
   "metadata": {},
   "source": [
    "<b><u>Tasks.</u> Play around with the hyperparameters ($\\Delta t,T$) and the system's parameters ($\\beta,\\gamma$).</b>\n",
    "* What happens when $\\beta\\uparrow$ ? When $\\beta\\downarrow$ ? Interpret, recalling that $\\beta^{-1}=k_b T_{\\rm hb}$ where $k_b$ is the Boltzmann's constant and $T_{\\rm hb}$ is the temperature of the heat bath.\n",
    "\n",
    "```diff\n",
    "- When the temperature is small, the particle struggles to overcome energy barriers impacting negatively the sampling quality. On the contrary, when the temperature is large, the particle is able to move freely on the PES and easily locate the regions of high-probability under the Boltzmann-Gibbs distribution\n",
    "```\n",
    "\n",
    "* What happens when $\\gamma\\uparrow$ ? When $\\gamma\\downarrow$ ? Interpret, recalling the form of the [Langevin dynamics](#langevin).\n",
    "\n",
    "```diff \n",
    "- When the friction is large, the dynamics diffuses more and its behavior resembles the overdamped Langevin dynamics. It loses its `ballistic' characteristic and it is harder to navigate on the PES. On the other hand, if the friction is small, the dynamics resembles the Hamiltonian dynamics and follows level sets of Hamiltonian. Moving along various level sets of the Hamiltonian becomes difficult, negatively impacting the sampling efficiency.  \n",
    "```"
   ]
  },
  {
   "cell_type": "markdown",
   "metadata": {},
   "source": [
    "<h3>Time step bias</h3>\n",
    "\n",
    "The Langevin dynamics needs to be discretized with a positive time step $\\Delta t$. This induces some bias in the distribution, with error of order $\\Delta t$. This is a bit difficult to observe in practice, and is usually negligible in MD simulations (the time step is as small as femtoseconds).\n",
    "\n",
    "<b><u>Task</b></u>. By copying the code at the beginning of the notebook, observe the equilibrium distribution of the momenta as the time step varies for this example. The value $\\Delta t=0.5$ should be a sweet spot to observe some bias."
   ]
  },
  {
   "cell_type": "code",
   "execution_count": null,
   "metadata": {},
   "outputs": [],
   "source": [
    "Δt = 0.5  # Large timestep to reveal bias\n",
    "q = [-2,-1.5]+4*rand(2)\n",
    "p = randn(2)/sqrt(β)\n",
    "T = 100000.\n",
    "γ = 1.0 # Friction parameter\n",
    "β = 1.\n",
    "\n",
    "positions, momenta =  dynamics(q, p, Δt, β, γ, T, ∇entropic_switch, BAOAB!, \"Langevin Dynamics\")\n",
    "\n",
    "# Define analytical marginal for px\n",
    "xlims = -3/sqrt(β), 3/sqrt(β)\n",
    "xrange = range(xlims..., 200)\n",
    "\n",
    "fig, ax = plt.subplots()\n",
    "ax.hist(momenta[:, 1], bins=100, density=true, alpha=0.5, label=L\"Histogram of $p_x$\")\n",
    "ax.plot(xrange, standard_gaussian.(xrange), label=\"Analytical marginal\", linewidth=3, color=\"black\")\n",
    "ax.set_xlim(xlims)\n",
    "ax.set_xlabel(L\"$p_x$\", fontsize=14)\n",
    "ax.set_ylabel(\"Density\", fontsize=14)\n",
    "ax.set_title(L\"Bias in $p_x$ due to $\\Delta t = 0.5$\", fontsize=15)\n",
    "ax.legend()\n",
    "ax.grid(true)\n",
    "\n",
    "fig.tight_layout()\n",
    "display(fig)\n",
    "plt.close(fig)\n"
   ]
  },
  {
   "cell_type": "markdown",
   "metadata": {},
   "source": [
    "<h3>ESS computations</h3>\n",
    "\n",
    "<b><u>Task.</b></u> Perform ESS computations similar to the ones performed for the previous example. Observe how the metastability impacts this computation, and change the value of $\\beta$ to impact this phenomenom. How do the other hyperparameters impact the estimate ? "
   ]
  },
  {
   "cell_type": "code",
   "execution_count": null,
   "metadata": {},
   "outputs": [],
   "source": [
    "q = [-2,-1.5]+4*rand(2)\n",
    "p = randn(2)/sqrt(β)\n",
    "\n",
    "Δt = 0.01\n",
    "T = 10000.\n",
    "γ = 1.0 \n",
    "β = 1.0\n",
    "\n",
    "positions, momenta = dynamics(q, p, Δt, β, γ, T, ∇entropic_switch, BAOAB!, \"\", verbose=false);\n",
    "acf = autocor(positions, lags)\n",
    "acf_p = autocor(momenta, lags)\n",
    "\n",
    "ESS_x = round(Int, Nit / correlation_time(acf[:,1]))\n",
    "ESS_y = round(Int, Nit / correlation_time(acf[:,2]))\n",
    "ESS_px = round(Int, Nit / correlation_time(acf_p[:,1]))\n",
    "ESS_py = round(Int, Nit / correlation_time(acf_p[:,2]))\n",
    "\n",
    "println(\"Effective sample size for the x component is:\\t$(ESS_x)\")\n",
    "println(\"Effective sample size for the y component is:\\t$(ESS_y)\")\n",
    "println(\"Effective sample size for the px component is:\\t$(ESS_px)\")\n",
    "println(\"Effective sample size for the py component is:\\t$(ESS_py)\")\n",
    "\n"
   ]
  },
  {
   "cell_type": "markdown",
   "metadata": {},
   "source": [
    "```diff\n",
    "- The effective sample sizes are way smaller compared to what we obtained for the first system. This is because of the metastablity feature of the dynamics.  \n",
    "```"
   ]
  },
  {
   "cell_type": "markdown",
   "metadata": {},
   "source": [
    "# Extensions\n",
    "\n",
    "There are many things that you can now implement:\n",
    "- A new system composed of a one particle in a 2D potential with periodic boundary conditions, say with potential $V(x,y)=\\cos(2\\pi x)\\sin(2\\pi y)$ on $[0,1]^2$. You may also change the code to add another particle, and use a Lennard-Jones interaction between the two particles for instance.\n",
    "- Using another Langevin discretization, say the OBABO scheme. You can compare with the BBK scheme which is the one actually implemented in the `fix langevin` routine in LAMMPS, see [Section 4.4](https://arxiv.org/pdf/2306.08592).\n",
    "- Discretize the overdamped Langevin dynamics for the same systems, with an Euler-Maruyama scheme, and compare the convergence of observables with the Langevin dynamics. This dynamics writes \n",
    "$$\n",
    "\\mathrm{d}q_t = -\\nabla V(q_t)\\mathrm{d}t+\\sqrt{2\\beta^{-1}}\\mathrm{d}W_t.\n",
    "$$\n",
    "- Add an accept/reject procedure with the Metropolis-Hastings rule. For the overdamped Langevin dynamics, this is the Metropolis-Adjusted Langevin Algorithm (MALA). For the Langevin dynamics, use an OBABO scheme, with the accept/reject procedure being after the second 'B' step, which is then called the Generalized Hamiltonian/Hybrid Monte Carlo algorithm. In particular, you should now remove the bias that was introduced because of the discretization with a positive time step $\\Delta t$, i.e. it removes one asymptotic bias."
   ]
  }
 ],
 "metadata": {
  "kernelspec": {
   "display_name": "Julia 1.11.5",
   "language": "julia",
   "name": "julia-1.11"
  },
  "language_info": {
   "file_extension": ".jl",
   "mimetype": "application/julia",
   "name": "julia",
   "version": "1.11.5"
  }
 },
 "nbformat": 4,
 "nbformat_minor": 4
}
