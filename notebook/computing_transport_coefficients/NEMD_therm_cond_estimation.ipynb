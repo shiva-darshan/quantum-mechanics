{
 "cells": [
  {
   "cell_type": "markdown",
   "id": "ccb09a8c",
   "metadata": {},
   "source": [
    "# Computing thermal conductivity of a rotor chain via NEMD\n",
    "\n",
    "Objective: simulate a one-dimensional chain of classical rotors , with interaction potential\n",
    "$$V(r) = 1 - \\cos(r)$$\n",
    "oupled to boundary heat baths and subject to thermal forcing to estimate its thermal conductivity using the NEMD (Nonequilibrium Molecular Dynamics) approach. Rotor chains have finite thermal conductivity (see Giardinà _et al_ (2000), Gendelman and Savin (2000,2005), Yang and Hu (2005), Das and Dhar (2014).} $\\kappa_N$ dramatically decreasing for $\\bar{T} > 0.5$ (Giardin\\'a {\\it et al.} (2000))\n",
    "\n",
    "## Parameters:\n",
    "\n",
    "- chain length $10 \\le n \\le 100$\n",
    "- no pinning ($U=0$)\n",
    "- boundary temperatures: $T_L = T_{\\mathrm{eq}} - \\Delta T / 2$, $T_R = T_{\\mathrm{eq}} + \\Delta T / 2$ with $T_{\\mathrm{eq}} < 0.5$\n",
    "- boundary conditions: fixed on the left and free on the right\n",
    "- friction parameters: $\\xi_L=1$, $\\xi_R=1$\n",
    "- thermalization time steps `Nt_thrm`\n",
    "- simulation time steps `Nt_sim`\n",
    "- time step `dt` $\\in[0.001,0.5]$ (depending on the chosen integration scheme)\n",
    "\n",
    "## Dynamics:\n",
    "Recall the equations: for all $i \\in [[1,n]]$\n",
    "$$\n",
    "dq_i = p_i \\, dt\n",
    "$$\n",
    "$$\n",
    "dp_i = - \\Big( V'(q_i-q_{i-1}) - V'(q_{i+1}-q_i)\\Big) dt\n",
    "+ \\delta_{i,1} \\Big( -\\xi p_1 \\, dt + \\sqrt{2\\xi T_L} \\, dW_{1,t}\\Big)\n",
    "+ \\delta_{i,n} \\Big( -\\xi p_n \\, dt + \\sqrt{2\\xi T_R} \\, dW_{n,t}\\Big)\n",
    "$$\n",
    "Integration schemes: BABO, OBABO, ...\n",
    "\n",
    "## Steps\n",
    "\n",
    "- Initialize the system: Ensure the initial positions and momenta are appropriately set. This includes thermalizing with the correct initial conditions.\n",
    "\n",
    "- Run the dynamics: Integrate the equations of motion using the numerical scheme provided.\n",
    "\n",
    "- Make sure the system reaches a stationary state: check for local equilibrium by plotting the histogram of the marginals in $q$ and $p$ \n",
    "\n",
    "- Compute the energy current, using $j_{i,i+1} =-\\dfrac 1 2 (p_i + p_{i+1}) V'(q_{i+1}-q_i)$\n",
    "\n",
    "- Compute $$ \\widehat\\kappa_n^{N_\\text{Niter}} = \\frac 1{\\Delta T} \\frac 1{N_\\text{Niter}}\n",
    "\t\t\\sum_{m=1}^{N_\\text{Niter}} J_n(q^m, p^m)$$\n",
    "\n",
    "Optional\n",
    "\n",
    "- Plot the temperature profile in the chain $T_i = \\mathbb{E}_{\\mu_{\\Delta T, \\Delta t}}[p_i^2]$, $i \\in [[1,n]]$.\n",
    "- Plot the instantaneous total current"
   ]
  },
  {
   "cell_type": "code",
   "execution_count": null,
   "id": "61694ad2",
   "metadata": {},
   "outputs": [],
   "source": [
    "# using Pkg; \n",
    "# Pkg.add(\"Random\")\n",
    "using Random\n",
    "using Statistics\n",
    "using Distributions\n",
    "using SpecialFunctions, NumericalIntegration # or QuadGK\n",
    "using Plots"
   ]
  },
  {
   "cell_type": "code",
   "execution_count": null,
   "id": "1de9e65b-f230-425e-bd13-fe89a99c254f",
   "metadata": {},
   "outputs": [],
   "source": [
    "#  global parameters\n",
    "const n = 50     # number of atoms\n",
    "const BCl = \"fixed\"\n",
    "const BCr = \"free\"\n",
    "const Nt_thrm = 100000  # number of thermalization time steps\n",
    "const Nt_sim =  10000000   # number of simulation time steps\n",
    "const dt = 0.001 # time step\n",
    "const T_eq = 0.2   # reference equilibrium temperature\n",
    "const ΔT = 0.05  # temperature difference at the boundaries\n",
    "const ξ_L = 1.0\n",
    "const ξ_R = 1.0\n",
    "const storage_interval = 10 # save q's and p's for histograms every storage_interval iterations\n",
    "const seed = 1234    # fix a random seed to ensure reproducibility \n",
    "const potential = \"rotor\""
   ]
  },
  {
   "cell_type": "code",
   "execution_count": null,
   "id": "9a08ce77-b631-42d8-afe3-098f438a3c54",
   "metadata": {},
   "outputs": [],
   "source": [
    "function initialize_T_profile() # uses global (T_eq, ΔT, n)\n",
    "# compute a linear profile of temperature between TL and TR\n",
    "    return init_T_profile\n",
    "end"
   ]
  },
  {
   "cell_type": "code",
   "execution_count": null,
   "id": "0e755c85",
   "metadata": {},
   "outputs": [],
   "source": [
    "function initialize_chain(imposed_T_profile) # uses global n\n",
    "# initialize the q's qnd p's\n",
    "# with q ∈ [-π,π]\n",
    "    return q, p\n",
    "end"
   ]
  },
  {
   "cell_type": "code",
   "execution_count": null,
   "id": "f5b11857",
   "metadata": {},
   "outputs": [],
   "source": [
    "# Interaction potentials and forces\n",
    "\n",
    "function interaction_potential(r)\n",
    ".....\n",
    "end\n",
    " \n",
    "function interaction_force(r) \n",
    ".....\n",
    "end"
   ]
  },
  {
   "cell_type": "code",
   "execution_count": null,
   "id": "0e06d317-972c-47f9-952f-f250d024904b",
   "metadata": {},
   "outputs": [],
   "source": [
    "# Check what this function does\n",
    "function compute_dist_wt_BC(q) # uses global (n, BCl=\"free\", BCr =\"free\")\n",
    "    dist_vec_wt_BC = zeros(n+1)\n",
    "    dist_vec_wt_BC[2:(end-1)] = q[2:end] - q[1:(end-1)]\n",
    "    \n",
    "    if BCl == \"fixed\"\n",
    "        dist_vec_wt_BC[1] = q[1] # q_1-q_0 with q_0=0\n",
    "    elseif BCl == \"periodic\"\n",
    "        dist_vec_wt_BC[1] = q[1] - q[n] # q_1-q_0 with q_0=q_n\n",
    "    end\n",
    "    \n",
    "    if BCr == \"fixed\"\n",
    "        dist_vec_wt_BC[n] = -q[n] # q_(n+1)-q_n with q_(n+1) =0\n",
    "    elseif BCr == \"periodic\"\n",
    "        dist_vec_wt_BC[n] =  q[1] - q[n] # q_(n+1)-q_n with q_(n+1) = q_1\n",
    "    end\n",
    "\n",
    "    if potential == \"rotor\"\n",
    "        dist_vec_wt_BC .= mod.(dist_vec_wt_BC .+ π, 2π) .- π\n",
    "    end\n",
    "\n",
    "    return dist_vec_wt_BC   # dim n+1\n",
    "end"
   ]
  },
  {
   "cell_type": "code",
   "execution_count": null,
   "id": "f496bf80-1288-4939-bd85-2bcf307467ef",
   "metadata": {},
   "outputs": [],
   "source": [
    "function ham_force_field_per_site(q)\n",
    "# compute the force field on each site\n",
    "end"
   ]
  },
  {
   "cell_type": "code",
   "execution_count": null,
   "id": "96df9178",
   "metadata": {},
   "outputs": [],
   "source": [
    "function OU_step!(p, thrm_atoms::Vector{Int}, T_vec::Vector{Float64}, ξ_vec::Vector{Float64},a)\n",
    "    mydt = dt*a\n",
    "# write a function that can implement a OU step on every number of atom\n",
    "end"
   ]
  },
  {
   "cell_type": "code",
   "execution_count": null,
   "id": "26a4ad40-b327-402e-b553-e23463ddf38d",
   "metadata": {},
   "outputs": [],
   "source": [
    "function step_verlet!(q, p, thrm_atoms::Vector{Int}, T_vec::Vector{Float64}, ξ_vec::Vector{Float64}, f)  # BABO\n",
    "    p .+= 0.5dt .* f\n",
    "    q .+= dt .* p\n",
    "    if potential == \"rotor\"\n",
    "        q .= mod.(q .+ π, 2π) .- π\n",
    "    end\n",
    "    \n",
    "    f .= ham_force_field_per_site(q)\n",
    "    p .+= 0.5dt .* f\n",
    "\n",
    "    OU_step!(p, thrm_atoms, T_vec, ξ_vec)\n",
    "end"
   ]
  },
  {
   "cell_type": "code",
   "execution_count": null,
   "id": "597e3728",
   "metadata": {},
   "outputs": [],
   "source": [
    "function step_obabo!(q, p, thrm_atoms::Vector{Int}, T_vec::Vector{Float64}, ξ_vec::Vector{Float64}, f)\n",
    "    # implement the OBABO integration scheme\n",
    "end"
   ]
  },
  {
   "cell_type": "code",
   "execution_count": null,
   "id": "1ddc7518-e40b-4d5d-9cbd-39c5d0082aaa",
   "metadata": {},
   "outputs": [],
   "source": [
    "function step_baoab!(q, p, thrm_atoms::Vector{Int}, T_vec::Vector{Float64}, ξ_vec::Vector{Float64}, f)\n",
    "    # implement the BAOAB scheme\n",
    "end"
   ]
  },
  {
   "cell_type": "markdown",
   "id": "8b8d7de4-4793-44f8-a2e0-3e57735b9fc8",
   "metadata": {},
   "source": [
    "## If you correctly implemented the previous functions, `simulate()` is ready to use. \n",
    "\n",
    "Inspect the function, add explanatory comments and modify it as desired."
   ]
  },
  {
   "cell_type": "code",
   "execution_count": null,
   "id": "88ce429a",
   "metadata": {},
   "outputs": [],
   "source": [
    "function simulate(scheme) # uses global (n, dt, Nt_sim, T_eq, ΔT, potential=\"rotor\")\n",
    "\n",
    "    Random.seed!(seed)  # to be able to reproduce the results\n",
    "    \n",
    "    imposed_T_profile = initialize_T_profile()# (T_eq, ΔT, n)\n",
    "    q, p = initialize_chain(imposed_T_profile)\n",
    "\n",
    "    computed_T_profile = zeros(n)\n",
    "    Jntot = zeros(Nt_sim)\n",
    "    r_hist = [] # creates an empty Abstract array; I could do = Vector{Vector{Float64}}() since I want to store vectors of Float64\n",
    "    p_hist = []\n",
    "\n",
    "    f = ham_force_field_per_site(q)\n",
    "\n",
    "    if scheme == \"verlet\"\n",
    "\n",
    "        thrm_atoms = collect(1:n)    # thermalization phase\n",
    "        ξ_vec = ones(length(thrm_atoms))\n",
    "        for step in 1:Nt_thrm  \n",
    "            step_verlet!(q, p, thrm_atoms, imposed_T_profile[thrm_atoms], ξ_vec, f)\n",
    "        end\n",
    "        \n",
    "        thrm_atoms = [1,n]  # simulation phase\n",
    "        ξ_vec = [ξ_L, ξ_R]\n",
    "        for step in 1:Nt_sim\n",
    "            step_verlet!(q, p, thrm_atoms, imposed_T_profile[thrm_atoms], ξ_vec, f)\n",
    "            computed_T_profile .+= p .^ 2\n",
    "            Jntot[step] = sum(0.5 .* (p[1:end-1] +p[2:end]) .* f[2:end])\n",
    "            if step % storage_interval == 0\n",
    "                r = compute_dist_wt_BC(q)[1:n]\n",
    "                push!(r_hist, copy( [r[floor(Int,n/4)], r[floor(Int,n/2)], r[floor(Int,3*n/4)]] ))\n",
    "                push!(p_hist, copy( [p[floor(Int,n/4)], p[floor(Int,n/2)], p[floor(Int,3*n/4)]] ))\n",
    "            end\n",
    "        end\n",
    "        \n",
    "    elseif scheme == \"baoab\"\n",
    "        \n",
    "        thrm_atoms = collect(1:n)    # thermalization phase\n",
    "        ξ_vec = ones(length(thrm_atoms))\n",
    "        for step in 1:Nt_thrm  \n",
    "            step_baoab!(q, p, thrm_atoms, imposed_T_profile[thrm_atoms], ξ_vec, f)\n",
    "        end\n",
    "        \n",
    "        thrm_atoms = [1,n]  # simulation phase\n",
    "        ξ_vec = [ξ_L, ξ_R]\n",
    "        for step in 1:Nt_sim\n",
    "            step_baoab!(q, p, thrm_atoms, imposed_T_profile[thrm_atoms], ξ_vec, f)\n",
    "            computed_T_profile .+= p .^ 2\n",
    "            Jntot[step] = sum(0.5 .* (p[1:end-1] +p[2:end]) .* f[2:end])\n",
    "            if step % storage_interval == 0\n",
    "                r = compute_dist_wt_BC(q)[1:n]\n",
    "                push!(r_hist, copy( [r[floor(Int,n/4)], r[floor(Int,n/2)], r[floor(Int,3*n/4)]] ))\n",
    "                push!(p_hist, copy( [p[floor(Int,n/4)], p[floor(Int,n/2)], p[floor(Int,3*n/4)]] ))\n",
    "            end\n",
    "        end\n",
    "        \n",
    "    else\n",
    "        error(\"Unknown integration scheme: $scheme\")\n",
    "    end\n",
    "\n",
    "    # compute temperature profile\n",
    "    computed_T_profile ./= Nt_sim\n",
    "\n",
    "    return r_hist, p_hist, computed_T_profile, Jntot\n",
    "end"
   ]
  },
  {
   "cell_type": "code",
   "execution_count": null,
   "id": "c3e29892",
   "metadata": {},
   "outputs": [],
   "source": [
    "function NEMD_estimate_of_conductivity(Jntot) # (Jntot, ΔT)\n",
    "# write the function that computes the thermal conductivity\n",
    "end"
   ]
  },
  {
   "cell_type": "code",
   "execution_count": null,
   "id": "1815e852-91ca-44e6-896a-498b0fbcc534",
   "metadata": {},
   "outputs": [],
   "source": [
    "# ou can also change here the values of the parameters\n",
    "# Nt_thrm = 100000  # number of thermalization time steps\n",
    "# Nt_sim =  10000000   # number of simulation time steps\n",
    "# dt = 0.001 # time step\n",
    "println(\"Running Verlet scheme...\")\n",
    "r_hist, p_hist, computed_T_profile, Jntot = simulate(\"verlet\")\n",
    "if ΔT != 0.0\n",
    "    κ_v = NEMD_estimate_of_conductivity(Jntot)\n",
    "end\n",
    "println(\"Average total current (Verlet): \", mean(Jntot))\n",
    "println(\"Estimated conductivity (Verlet): \", κ_v)"
   ]
  },
  {
   "cell_type": "markdown",
   "id": "66d70b9c-f382-42e8-ae9f-0425d07822b7",
   "metadata": {},
   "source": [
    "## Sanity checks \n",
    "Functions to check local equilibrium, plot temperature profile and instantaneous current"
   ]
  },
  {
   "cell_type": "code",
   "execution_count": null,
   "id": "019c67e2",
   "metadata": {},
   "outputs": [],
   "source": [
    "function plot_histograms(r_hist, p_hist, Ts)\n",
    "    for idx in 1:length(r_hist[1]) # = length(phist(1))\n",
    "\n",
    "        β = 1/Ts[idx]\n",
    "\n",
    "        # POSITIONS\n",
    "\n",
    "        # plot the position histogram        \n",
    "        # plot for comparison the theoretical probability (ie normalized!) density function \n",
    "\n",
    "        # MOMENTA\n",
    "        # plot the position histogram        \n",
    "        # plot for comparison the theoretical probability density function\n",
    "\n",
    "    end\n",
    "end"
   ]
  },
  {
   "cell_type": "code",
   "execution_count": null,
   "id": "21362a21-4ad3-4d24-befa-ee33235b2c85",
   "metadata": {},
   "outputs": [],
   "source": [
    "plot_histograms(r_hist, p_hist, computed_T_profile[[n ÷ 4, n ÷ 2, 3n ÷ 4]])"
   ]
  },
  {
   "cell_type": "code",
   "execution_count": null,
   "id": "0eb92232-10fb-4c62-9a9b-ef30b17d5a34",
   "metadata": {},
   "outputs": [],
   "source": [
    "# plot the temperature profile"
   ]
  },
  {
   "cell_type": "code",
   "execution_count": 2,
   "id": "cfc39562-24a8-4bb0-9d96-a4085deea011",
   "metadata": {},
   "outputs": [],
   "source": [
    "# plot the instantaneous total current "
   ]
  },
  {
   "cell_type": "markdown",
   "id": "12a0f431-387b-405c-95b5-77300c1f4af5",
   "metadata": {},
   "source": [
    "## Bonus: check energy conservation for Verlet and BAOAB scheme"
   ]
  },
  {
   "cell_type": "code",
   "execution_count": null,
   "id": "1361d8d8-d41f-433b-9a74-bf56aff3d75b",
   "metadata": {},
   "outputs": [],
   "source": []
  }
 ],
 "metadata": {
  "kernelspec": {
   "display_name": "Julia 1.11.5",
   "language": "julia",
   "name": "julia-1.11"
  },
  "language_info": {
   "file_extension": ".jl",
   "mimetype": "application/julia",
   "name": "julia",
   "version": "1.11.5"
  }
 },
 "nbformat": 4,
 "nbformat_minor": 5
}
