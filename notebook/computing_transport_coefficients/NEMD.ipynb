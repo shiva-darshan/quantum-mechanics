{
 "cells": [
  {
   "cell_type": "markdown",
   "id": "3af9d243",
   "metadata": {},
   "source": [
    "# Non-equilibrium Systems, Transport Coefficients, and Coupling Methods"
   ]
  },
  {
   "cell_type": "code",
   "execution_count": null,
   "id": "ebf9c95c",
   "metadata": {},
   "outputs": [],
   "source": [
    "using LinearAlgebra\n",
    "using Random\n",
    "using Plots\n",
    "using LaTeXStrings\n",
    "using Statistics\n",
    "using StatsBase"
   ]
  },
  {
   "cell_type": "markdown",
   "id": "5d54378e",
   "metadata": {},
   "source": [
    "# I) Non-equilibrium Dynamics and Transport Coefficients\n",
    "\n",
    "## 1) Overdamped Case\n",
    "As a first model for non-equilibrium, we consider overdamped Langevin dynamics with potential $U:\\mathbb{R}^d \\to \\mathbb{R}$ and inverse temperature $\\beta > 0$ perturbed by a non-gradient vector field $F:\\mathbb{R}^d \\to \\mathbb{R}^d$ with the pertubation modulated by a parameter $\\eta \\in \\mathbb{R}$\n",
    "$${\\rm d}X_t^\\eta = \\left(-\\nabla V\\left(X_t^\\eta\\right) + \\eta F\\left(X_t^\\eta\\right)\\right)\\,{\\rm d}t + \\sqrt{\\frac{2}{\\beta}}\\,{\\rm d}W_t. \\tag{Non-equilibrium Dynamics}$$\n",
    "Under appropriate assumptions on $V$ and $F$ (sufficient contractivity of $-\\nabla V$, boundness of $F$, ...), the above dynamics admits unique invariant measure $\\nu_\\eta$. When $\\eta = 0$, $\\nu_0$ is the Gibbs measure $$\\nu_0(dx) = Z_\\beta^{-1} \\exp\\left(-\\beta V(x)\\right)dx,$$ and the dynamics of $X^0$ is reversible with respect $\\nu_0$. If $\\eta \\neq 0$, then $\\nu_\\eta$ is no longer of Gibbs form and the dynamics of $X^\\eta$ is not reversible with respect to $\\nu_\\eta$. \n",
    "\n",
    "For an observable $R$, we define the transport coefficient $\\alpha_R$ to be linear response at $\\eta = 0$ of the expectation of the observable\n",
    "$$ \\alpha_R = \\lim_{\\eta \\to 0} \\frac{\\nu_\\eta(R) - \\nu_0(R)}{\\eta},$$\n",
    "i.e. $\\nu_\\eta(R) \\approx \\nu_0(R) + \\alpha_R \\eta$ for $|\\eta| \\ll 1$.\n",
    "\n",
    "Suppose that $\\nu_0(R) = 0$. We can approximate $\\alpha_R$ with a finite difference approximation $\\alpha_{R, \\eta} = \\eta^{-1}\\nu_{\\eta}(R) = \\alpha_R + \\mathrm{O}(\\eta)$. In practice, we do not have access to $\\nu_\\eta$ and instead estimate $\\nu_\\eta(R)$ via a time average. Denote by $\\widehat{\\Phi}_{\\eta, t}$ the standard nonequlibrum molecular dynamics (NEMD) estimator for $\\alpha_R$, given by \n",
    "$$\\widehat{\\Phi}_{\\eta, T} = \\frac{1}{\\eta T}\\int_0^T R\\left(X_t^\\eta\\right) dt \\xrightarrow[\\text{a.s.}]{T \\to \\infty} \\alpha_{\\eta, R} = \\alpha_R + \\mathrm{O}(\\eta). \\tag{NEMD Estimator}$$\n",
    "The discrete-time version of this estimator is the time average of the Euler-Maruyama discretization in lieu of the continuous-time solution. The statistical error (in continuous-time) of this estimator is dictated by the central limit theorem\n",
    "$$\\sqrt{T}\\left(\\widehat{\\Phi}_{\\eta, T} - \\alpha_{\\eta, R}\\right) \\xrightarrow[\\text{in law}]{T\\to \\infty} \\mathcal{N}\\left(0, \\frac{\\sigma_{R,\\eta}^2}{\\eta^2}\\right).$$\n",
    "The error of the continuous-time estimator can be summarized as follows\n",
    "$$\\widehat{\\Phi}_{\\eta, T} = \\alpha_R + \\text{ Finite Difference Error } + \\text{ Finite Integration Time Bias } + \\text{ Statistical Error } = \\alpha_R + \\mathrm{O}(\\eta) + \\mathrm{O}\\left(\\frac{1}{\\eta T}\\right) + \\mathrm{O}_P\\left(\\frac{1}{\\eta \\sqrt{T}}\\right).$$ The error in discrete-time is roughly the same plus an error term due to time discretization."
   ]
  },
  {
   "cell_type": "markdown",
   "id": "abea1812",
   "metadata": {},
   "source": [
    "Our two running examples through this notebook will be a harmonic potential in two dimensions and the entropic switch potential perturbed by a rotational force $F$\n",
    "$$ F(x) = Jx = \\left[ \\begin{matrix} 0 & 1\\\\ -1 & 0\\end{matrix} \\right]x$$\n",
    "Observe that this force is non-gradient since $\\mathrm{curl}(F) \\equiv -2$."
   ]
  },
  {
   "cell_type": "code",
   "execution_count": null,
   "id": "06a1fce4",
   "metadata": {},
   "outputs": [],
   "source": [
    "J = [0. 1\n",
    "    -1 0]\n",
    "\n",
    "#Defining the rotational force\n",
    "rotation(x) = J*x\n",
    ";"
   ]
  },
  {
   "cell_type": "markdown",
   "id": "0028f177",
   "metadata": {},
   "source": [
    "#### i) Harmonic potential (Ornstein-Uhlenbeck process)\n",
    "As a potential, we take $ U(x) = \\frac{x^T A x}{2}$ with\n",
    "$$ A = \\left[ \\begin{matrix} 2 & -1\\\\ -1 & 2\\end{matrix} \\right].$$\n",
    "Then the perturbed overdamped Langevin dynamics is given by a linear SDE\n",
    "$$ {\\rm d}X_t^\\eta = \\left(-A + \\eta J\\right)X_t^\\eta \\,{\\rm d}t + \\sqrt{\\frac{2}{\\beta}}\\,{\\rm d}W_t.$$\n",
    "In this case we can solve everything explicitly. \n",
    "\n",
    "<details>\n",
    "    The invariant measure $\\nu_\\eta$ is a centered Gaussian with covariance matrix, $\\Sigma_{\\eta, \\beta}$, satisfying\n",
    "$$ \\left(A -\\eta J\\right)\\Sigma_{\\eta, \\beta} + \\Sigma_{\\eta, \\beta}\\left(A -\\eta J\\right)^T = \\frac{2}{\\beta}\\mathrm{Id}, $$\n",
    "specifically\n",
    "$$\\Sigma_{\\eta, \\beta} = \\frac{1}{\\left(3+\\eta^2\\right)\\beta} \\left[\\begin{matrix} 2 + (\\eta^2 +\\eta)/2 & 1\\\\ 1 & 2 +(\\eta^2 - \\eta)/2\\end{matrix}\\right].$$\n",
    "For $|\\eta| < \\sqrt{3}$, we can write $\\Sigma_{\\eta, \\beta}$ as a power expansion in $\\eta$,\n",
    "$$\\begin{aligned}\n",
    "\\Sigma_{\\eta, \\beta} &= \\frac{1}{3\\beta}\\left[\\begin{matrix} 2 & 1\\\\ 1 & 2\\end{matrix}\\right] + \\frac{\\eta}{6\\beta}\\left[\\begin{matrix} 1 & 0\\\\ 0 & -1 \\end{matrix}\\right] + \\frac{1}{6\\beta}\\sum_{k\\geq 1} \\left(-3\\right)^{-k}\\left(\\eta^{2k}\\left[\\begin{matrix} 1 & 2\\\\ 2 & 1\\end{matrix}\\right] + \\eta^{2k+1}\\left[\\begin{matrix}1 & 0\\\\ 0 & -1 \\end{matrix}\\right]\\right).\n",
    "\\end{aligned}$$\n",
    "This expansion indicates that the difference of the variances of the first and second components exhibts a linear response. If we choose as our observable $R(x) = x_1^2 - x_2^2$, then we get that \n",
    "$$\\nu_\\eta\\left(R\\right) = \\frac{\\eta}{\\left(3+\\eta^2\\right)\\beta} = \\frac{\\eta}{3\\beta} + \\frac{1}{3\\beta}\\sum_{k\\geq 1}\\left(-3\\right)^{-k}\\eta^{2k+1},$$\n",
    "with the sum being absolutely convergent when $|\\eta | < \\sqrt{3}$. \n",
    "</details>"
   ]
  },
  {
   "cell_type": "code",
   "execution_count": null,
   "id": "9c78a34e-2a65-40fd-a2c5-5cce5c0d4a62",
   "metadata": {},
   "outputs": [],
   "source": [
    "\"\"\"\n",
    "Plotting the response as a function of η\n",
    "\"\"\"\n",
    "\n",
    "ν_η_R(η, β) = η/(β*(3 + η^2))\n",
    "β = 1\n",
    "plot(0:0.01:1,ν_η_R.(0:0.01:1, β), label = \"Response\")\n",
    "plot!([0, 1], [0, 1/(3*β)], color = :black, label = latexstring(\"Slope at \\$\\\\eta = 0\\$\"))\n",
    "plot!(xlabel = L\"\\eta\")"
   ]
  },
  {
   "cell_type": "markdown",
   "id": "eac4e103-35ea-4f90-9352-5b59f6b01b7a",
   "metadata": {},
   "source": [
    "Consequently, the transport coefficient is given by\n",
    "$$ \\alpha_R = \\lim_{\\eta \\to 0} \\frac{\\nu_\\eta(R)}{\\eta} = \\frac{1}{3\\beta}$$"
   ]
  },
  {
   "cell_type": "code",
   "execution_count": null,
   "id": "5ea77de7",
   "metadata": {},
   "outputs": [],
   "source": [
    "\"\"\"\n",
    "Defining the harmonic potential and its gradient\n",
    "\"\"\"\n",
    "A = [2 -1. \n",
    "    -1 2]\n",
    "\n",
    "Harmonic(x) = x'*A*x/2\n",
    "Harmonic(x,y) = [x, y]' *A *[x,y]/2\n",
    "∇Harmonic(x) = A*x\n",
    "\n",
    "\n",
    "\"\"\"\n",
    "Difference of variances response function\n",
    "\"\"\"\n",
    "function R(x,y)\n",
    "    return x^2 - y^2\n",
    "end\n",
    "\n",
    "R(x::Vector{<:Real}) = R(x...)\n",
    "\n",
    "\n",
    "\"\"\"\n",
    "Plotting harmonic potential\n",
    "\"\"\"\n",
    "xlimits = -2., 2.\n",
    "ylimits = -2., 2.\n",
    "xrange = range(xlimits..., 200)\n",
    "yrange = range(ylimits..., 200)\n",
    "contourf(xrange, yrange, Harmonic, levels=50, cmap=:hsv)"
   ]
  },
  {
   "cell_type": "markdown",
   "id": "840adc97",
   "metadata": {},
   "source": [
    "Below we plot a sample trajectory of the dynamics."
   ]
  },
  {
   "cell_type": "code",
   "execution_count": null,
   "id": "b1ac934d",
   "metadata": {},
   "outputs": [],
   "source": [
    "\"\"\"\n",
    "    em_integration_step!(x::Vector{<:Real}, G::Vector{<:Real}, ∇V, F, η, β, dt; RNG =Random.default_rng())\n",
    "\n",
    "One step Euler-Maruyama discretization of the SDE (Non-eq Dynamics). Configuration x is update in place and then\n",
    "returned by the function. Noise vector G is also updated in place. The random number generator can be specified\n",
    "via optional keyword argument RNG.\n",
    "\n",
    "\"\"\"\n",
    "function em_integration_step!(x::Vector{<:Real}, G::Vector{<:Real}, ∇V, F, η, β, Δt; RNG =Random.default_rng())\n",
    "    x .+= (.-∇V(x) .+ η*F(x)).* Δt + sqrt(2*Δt/β)*randn!(RNG, G)\n",
    "    return x\n",
    "end\n",
    "\n",
    "\"\"\"\n",
    "   overdamped_trajectory(x_0::Vector{<:Real}, η, β, Δt, ∇V::Function, F::Function; RNG = Random.default_rng(), verbose::Bool=true)\n",
    "\n",
    "Simulate overdamped trajectory starting from `x_0` with an Euler-Maruyama scheme using time step `Δt` and total \n",
    "integration time `T`. The random number generator can be specified via optional keyword argument `RNG`.\n",
    "\n",
    "Outputs final position and trajectory\n",
    "\"\"\"\n",
    "\n",
    "function overdamped_trajectory(x_0::Vector{<:Real}, η, β, Δt, T, ∇V::Function, F::Function; RNG = Random.default_rng(), verbose::Bool=true)    \n",
    "    # Get the number of iterations\n",
    "    Nit = round(Int, T/Δt)\n",
    "    Δt = T/Nit\n",
    "    \n",
    "    # Frequency of the points to show the progress of the simulations\n",
    "    nlog = round(Int, Nit/10)\n",
    "\n",
    "    #Initialize array holding trajectory\n",
    "    trajectory = Array{Float64, 2}(undef, Nit+1, length(x_0))\n",
    "    trajectory[1, :] .= x_0\n",
    "\n",
    "    #Initialize noise vector\n",
    "    G = Array{Float64, 1}(undef, length(x_0))\n",
    "    \n",
    "    #Initial position\n",
    "    x = copy(x_0)\n",
    "\n",
    "    if verbose\n",
    "        print(\"Integrating using the overdamped dynamics for $(Nit) iterations\\t\"); flush(stdout)\n",
    "    end\n",
    "\n",
    "    for i in 2:(Nit+1)\n",
    "        \n",
    "        # Prints a point every nlog iterations\n",
    "        if verbose && i % nlog == 0\n",
    "            print(\".\"); flush(stdout)\n",
    "        end\n",
    "\n",
    "        # Integrate one step and update trajectory\n",
    "        trajectory[i, :] .= em_integration_step!(x, G, ∇V, F, η, β, Δt; RNG =RNG)\n",
    "        \n",
    "    end\n",
    "    \n",
    "    if verbose\n",
    "        println(\"\\tDone\"); flush(stdout)\n",
    "    end\n",
    "\n",
    "    return x, trajectory\n",
    "\n",
    "end\n",
    "\n",
    "    \n",
    "\n",
    "#Parameters of the sample trajectory feel free to modify and observe what changes\n",
    "x_0 = [1., 0]\n",
    "η = 0.1\n",
    "β = 2.\n",
    "Δt = 0.01\n",
    "T = 10\n",
    "RNG = Xoshiro(24092023) #fixing RNG\n",
    "\n",
    "_, x_traj = overdamped_trajectory(x_0, η, β, Δt, T, ∇Harmonic, rotation, RNG = RNG, verbose = false)\n",
    "\n",
    "contourf(xrange, yrange, Harmonic, levels=50, cmap=:hsv)\n",
    "plot!(x_traj[:,1], x_traj[:, 2], color=:black, label = \"\")"
   ]
  },
  {
   "cell_type": "markdown",
   "id": "6323d13f",
   "metadata": {},
   "source": [
    "In the next cell, we plot a trajectory of the discretized estimator $\\widehat{\\Phi}_{\\eta, T}$.\n",
    "\n",
    "Vary the total runtime $T$ and strength of the perturbation $\\eta$ and comment on the convergence of $\\widehat{\\Phi}_{\\eta, T}$"
   ]
  },
  {
   "cell_type": "code",
   "execution_count": null,
   "id": "7f5bde1a",
   "metadata": {},
   "outputs": [],
   "source": [
    "x_0 = [1., 0]\n",
    "η = 1.\n",
    "β = 2.\n",
    "Δt = 0.01\n",
    "T = 5000\n",
    "RNG = Xoshiro(24092023) #fixing RNG\n",
    "\n",
    "α_R(β) = 1/(3β) #analytic value of the transport coefficient\n",
    "α_η_R(β,η) = 1/(β*(3 + η^2)) #analytic value of the finite difference approximation of the transport coefficient\n",
    "\n",
    "_, x_traj = overdamped_trajectory(x_0, η, β, Δt, T, ∇Harmonic, rotation, RNG = RNG, verbose = false)\n",
    "\n",
    "phi_hat = cumsum(R.(x_traj[:,1], x_traj[:,2])) ./ axes(x_traj, 1) ./η\n",
    "plot(0:10Δt:T, phi_hat[1:10:end], label = L\"\\hat{\\Phi}_{\\eta, t}\")\n",
    "plot!([0, T], [α_R(β), α_R(β)], label = L\"\\alpha_R\", legendfontsize = 15)\n",
    "plot!([0, T], [α_η_R(β,η), α_η_R(β,η)], label = L\"\\alpha_{\\eta, R}\")\n",
    "plot!(ylims = (0, 0.5))"
   ]
  },
  {
   "cell_type": "markdown",
   "id": "031cb64e-cb2c-4b04-a147-59289eaaf680",
   "metadata": {},
   "source": [
    "What do you observe about the variance and bias of the estimator as a fubction of $\\eta$?\n",
    "\n",
    "*If you have time:* Study systematically the variance and bias of $\\widehat{\\Phi}_{\\eta, T}$ as a function of $\\eta$ and $T$.\n"
   ]
  },
  {
   "cell_type": "code",
   "execution_count": null,
   "id": "009c0bb4-1dbb-4b6f-9fb6-336b3b370781",
   "metadata": {},
   "outputs": [],
   "source": [
    "β = 2.\n",
    "Δt = 0.01\n",
    "T_final = 1000\n",
    "\n",
    "ηs = 0.05:0.1:0.55\n",
    "Ts = [100, 250, 500, 750, 1000.] \n",
    "Ts_inds = floor.(Int64, Ts ./ Δt)\n",
    "num_runs = 500\n",
    "\n",
    "phi_hats = zeros(length(ηs), length(Ts), num_runs)\n",
    "\n",
    "for (i, η) in enumerate(ηs)\n",
    "    #Do the runs in parallel using multi-threading (if you are using the multi-threaded kernel)\n",
    "    Threads.@threads for k in 1:num_runs\n",
    "        #We specify local scope for the following variable to avoid conflicts between treads\n",
    "        local RNG = Xoshiro(k*1000 + i)\n",
    "        local x_0 = randn(RNG, 2) ./ sqrt(β)\n",
    "        local _, x_traj = overdamped_trajectory(x_0, η, β, Δt, T_final, ∇Harmonic, rotation; RNG = RNG, verbose = false)\n",
    "        \n",
    "        \n",
    "        phi_hats[i, :, k] .= (cumsum(R.(x_traj[:,1], x_traj[:,2])) ./ axes(x_traj, 1) ./η)[Ts_inds]\n",
    "    end\n",
    "end\n",
    "\n",
    "phi_hat_vars = var(phi_hats; dims = 3)[:, :, 1]\n",
    "phi_hat_bias = mean(phi_hats; dims = 3)[:, :, 1] .- α_R(β)\n",
    ";"
   ]
  },
  {
   "cell_type": "code",
   "execution_count": null,
   "id": "c65f197e-f762-4ab8-8edd-f8b3e4b05a52",
   "metadata": {},
   "outputs": [],
   "source": [
    "plot(yscale = :log10, xscale = :log10, xlabel = \"η\", title = \"Variance of standard estimator\")\n",
    "for (i, T) in enumerate(Ts)\n",
    "    plot!(ηs, phi_hat_vars[:, i], labels = \"T = $(T)\")\n",
    "end\n",
    "plot!()"
   ]
  },
  {
   "cell_type": "code",
   "execution_count": null,
   "id": "37a5cd49-49a0-461a-ad8e-e6a63f395908",
   "metadata": {},
   "outputs": [],
   "source": [
    "plot(yscale = :log10, xscale = :log10, xlabel = \"η\", title = \"Bias of standard estimator\")\n",
    "for (i, T) in enumerate(Ts)\n",
    "    plot!(ηs, abs.(phi_hat_bias)[:, i], labels = \"T = $(T)\")\n",
    "end\n",
    "plot!()"
   ]
  },
  {
   "cell_type": "markdown",
   "id": "4a5427d6-373b-4f6a-967b-3a25e60a52d6",
   "metadata": {},
   "source": [
    "Are the variance and bias monotonic function of $\\eta$? Why?\n",
    "\n",
    "What about the bias due to finite integration time, i.e.\n",
    "$$ \\text{Finite Integration Time Bias} := \\widehat{\\Phi}_{\\eta,T} - \\alpha_{\\eta, R}.$$"
   ]
  },
  {
   "cell_type": "code",
   "execution_count": null,
   "id": "137d5a2b-6b10-403b-a34b-864a03df8749",
   "metadata": {},
   "outputs": [],
   "source": [
    "phi_hat_finite_time_bias = vcat([mean(phi_hats; dims = 3)[i, :, 1] .- α_η_R(β,η) for (i,η) in enumerate(ηs)]'...);"
   ]
  },
  {
   "cell_type": "code",
   "execution_count": null,
   "id": "c52e8bcc-2cdd-4914-88dd-046bc83d6d0f",
   "metadata": {},
   "outputs": [],
   "source": [
    "plot(yscale = :log10, xscale = :log10, xlabel = \"η\", title = \"Finite Integration Time Bias of standard estimator\")\n",
    "for (i, T) in enumerate(Ts)\n",
    "    plot!(ηs, abs.(phi_hat_finite_time_bias)[:, i], labels = \"T = $(T)\")\n",
    "end\n",
    "plot!()"
   ]
  },
  {
   "cell_type": "markdown",
   "id": "342d700c",
   "metadata": {},
   "source": [
    "#### ii) Entropic switch potential \n",
    "\n",
    "As our second example we consider the entropic switch potential introduced yesterday\n",
    "$$\n",
    "\\tag{Entropic switch}\n",
    "V(x,y)=3{\\rm e}^{-x^2}({\\rm e}^{-(y-1/3)^2}-{\\rm e}^{-(y-5/3)^2})-5{\\rm e}^{-y^2}({\\rm e}^{-(x-1)^2}+{\\rm e}^{-(x+1)^2})+0.2x^4+0.2(y-1/3)^4.\n",
    "$$\n",
    "\n",
    "As an observable, we consider the first component, $R(x) = x_1$. By the symmetry in the $x$ direction of the potential, $\\nu_0(R) = 0$. "
   ]
  },
  {
   "cell_type": "code",
   "execution_count": null,
   "id": "2aec7e1d",
   "metadata": {},
   "outputs": [],
   "source": [
    "\"\"\"\n",
    "    entropic_switch(x, y)\n",
    "\n",
    "Potential energy function.\n",
    "\"\"\"\n",
    "function entropic_switch(x, y)\n",
    "    tmp1 = x^2\n",
    "    tmp2 = (y - 1 / 3)^2\n",
    "    return 3 * exp(-tmp1) * (exp(-tmp2) - exp(-(y - 5 / 3)^2)) - 5 * exp(-y^2) * (exp(-(x - 1)^2) + exp(-(x + 1)^2)) + 0.2 * tmp1^2 + 0.2 * tmp2^2\n",
    "end\n",
    "\n",
    "function entropic_switch(q::Vector{<:Real})\n",
    "    return entropic_switch(q...)\n",
    "end\n",
    "\n",
    "\"\"\"\n",
    "    ∇entropic_switch(x, y)\n",
    "\n",
    "Gradient of the potential energy function.\n",
    "\"\"\"\n",
    "function ∇entropic_switch(x, y)\n",
    "\n",
    "    tmp1 = exp(4*x)\n",
    "    tmp2 = exp(-x^2 - 2*x - y^2 - 1)\n",
    "    tmp3 = exp(-x^2)\n",
    "    tmp4 = exp(-(y-1/3)^2)\n",
    "    tmp5 = exp(-(y-5/3)^2)\n",
    "\n",
    "    dx = 0.8*x^3 + 10*(tmp1*(x - 1) + x + 1)*tmp2 - 6*tmp3*x*(tmp4 - tmp5)\n",
    "\n",
    "    dy = 10*(tmp1 + 1)*y*tmp2 + 3*tmp3*(2*tmp5*(y - 5/3) - 2*tmp4*(y - 1/3)) + 0.8*(y - 1/3)^3\n",
    "\n",
    "    return [dx, dy]\n",
    "end\n",
    "\n",
    "function ∇entropic_switch(q::Vector{<:Real})\n",
    "    return ∇entropic_switch(q...)\n",
    "end\n",
    "\n",
    "xlims = -2.5, 2.5\n",
    "ylims = -1.75, 2.5\n",
    "xrange = range(xlims..., 200)\n",
    "yrange = range(ylims..., 200)\n",
    "qₗ = (-1.048, -0.04210, Plots.text(L\"$q_{\\rm L}$\", pointsize=25))\n",
    "qᵣ = (1.048, -0.04210, Plots.text(L\"$q_{\\rm R}$\", pointsize=25))\n",
    "qₛ = (0., 1.5371, Plots.text(L\"$q_{\\rm S}$\", pointsize=25))\n",
    "pl_V = contourf(xrange, yrange, entropic_switch, levels=50, cmap=:hsv)\n",
    "annotate!(qₗ)\n",
    "annotate!(qᵣ)\n",
    "annotate!(qₛ)"
   ]
  },
  {
   "cell_type": "markdown",
   "id": "ce4b9c5d",
   "metadata": {},
   "source": [
    "In the next cell, we plot a trajectory of the discretized estimator $\\widehat{\\Phi}_{\\eta, t}$.\n",
    "\n",
    "Vary the total runtime $T$ and strength of the perturbation $\\eta$ and comment on the convergence of $\\widehat{\\Phi}_{\\eta, t}$. For this potential, it is also interesting to vary the inverse temperature $\\beta$."
   ]
  },
  {
   "cell_type": "code",
   "execution_count": null,
   "id": "0fbc3012",
   "metadata": {},
   "outputs": [],
   "source": [
    "x_0 = [1., 0]\n",
    "η = 0.1\n",
    "β = 2\n",
    "Δt = 0.01\n",
    "T = 50000\n",
    "burn = 1000\n",
    "RNG = Xoshiro(24092023) #fixing RNG\n",
    "\n",
    "\n",
    "#Burning in the dynamics\n",
    "x, _ = overdamped_trajectory(x_0, η, β, Δt, burn, ∇entropic_switch, rotation;  RNG = RNG, verbose = false)\n",
    "\n",
    "_, x_traj = overdamped_trajectory(x, η, β, Δt, T, ∇entropic_switch, rotation;  RNG = RNG, verbose = false)\n",
    "Φ = cumsum(x_traj[:,1]) ./ axes(x_traj, 1) ./η;"
   ]
  },
  {
   "cell_type": "code",
   "execution_count": null,
   "id": "cc039675-be7a-47e4-93cb-0cd0fa64fb9a",
   "metadata": {},
   "outputs": [],
   "source": [
    "contourf(xrange, yrange, entropic_switch, levels=50, cmap=:hsv)\n",
    "plot!(x_traj[1:5:10000, 1], x_traj[1:5:10000, 2], color=:black, label = \"\")"
   ]
  },
  {
   "cell_type": "code",
   "execution_count": null,
   "id": "7bc92473",
   "metadata": {},
   "outputs": [],
   "source": [
    "plot(0.:50*Δt:T, Φ[1:50:end], label = L\"\\hat{\\Phi}_{\\eta, T}\")\n",
    "plot!(legendfontsize = 15)\n",
    "plot!(ylims = (-3., 3.))"
   ]
  },
  {
   "cell_type": "markdown",
   "id": "f9057c02-d5f9-4038-b4f8-f3f75d97ce03",
   "metadata": {},
   "source": [
    "What do you observe about the variance and bias of the estimator as a function of $\\eta$? What do you think might be the effect of the temperature in this case?\n"
   ]
  },
  {
   "cell_type": "markdown",
   "id": "03e03b11-e2f1-496f-9df3-686e436e818b",
   "metadata": {},
   "source": [
    "## 2) Kinetic Case\n",
    "\n",
    "We now consider perturbed kinetic Langevin dynamics:\n",
    "$$\n",
    "\\tag{Non-equilibrium Langevin}\n",
    "\\left\\lbrace\n",
    "\\begin{aligned}\n",
    "{\\rm d}q_t^\\eta &= M^{-1}p_t^\\eta\\,{\\rm d}t,\\\\\n",
    "{\\rm d}p_t^\\eta &= \\left(-\\nabla V\\left(q_t^\\eta\\right)\\, + \\eta F\\left(q_t^\\eta\\right)\\right){\\rm d}t -\\gamma M^{-1}p_t^\\eta\\,{\\rm d}t+\\sqrt{\\frac{2\\gamma}{\\beta}}{\\rm d}W_t,\n",
    "\\end{aligned}\n",
    "\\right.\n",
    "$$\n",
    "As before, under appropriate assumptions on $V$ and $F$, this dynamics admits a unique invariant probabilty measure $\\nu_{\\eta}$ with this measure being the Boltzmann-Gibbs measure when $\\eta = 0$\n",
    "$$ \\nu_0\\left({\\rm d}q\\, {\\rm d}p\\right) = Z_\\beta^{-1} \\exp\\left(-\\beta H(q,p)\\right){\\rm d}q\\,{\\rm d}p.$$\n",
    "Here $H(q,p) = V(q) +\\frac{1}{2}p^{\\mathsf{T}} M^{-1}p$ is the dynamics Hamiltonian (see this morning's notebook). To simplfy the presentation we take the mass matrix to be the identity $M = \\mathrm{Id}$.\n",
    "\n",
    "The previous discussion of transport coefficents as well as the NEMD estimator and its error carries over _mutatis mutandis_.\n",
    "\n",
    "In this subsection (the kinetic case), we choose as our observable the mobility in the direction of the rotational forcing for the two potentials\n",
    "$$ R(q,p) = F(q)^{\\mathsf{T}}M^{-1}p$$\n",
    "We could have also chosen the mobility in some fixed direction $v$: $\\ R(q,p) = v^{\\mathsf{T}}M^{-1}p$."
   ]
  },
  {
   "cell_type": "code",
   "execution_count": null,
   "id": "ae370a6b-2c03-4a12-8eab-c168f753fbdf",
   "metadata": {},
   "outputs": [],
   "source": [
    "mobility(q,p) = dot(rotation(q), p);"
   ]
  },
  {
   "cell_type": "markdown",
   "id": "820357c2-a40c-4cd7-993a-1483a0e8fdbc",
   "metadata": {},
   "source": [
    "To discretize this dynamics we modify the BAOAB scheme seen this morning by adding the perturbation to the B step.\n",
    "\n",
    "<b>Task</b>: Modify the `BAOAB!` function from this morning to make non-equilibirium version\n",
    "\n",
    "<i>Hint</i>: The argument `force_field` plays the same role as `∇V0` in the function `BAOAB!`. How do we compute this vector at each step?"
   ]
  },
  {
   "cell_type": "code",
   "execution_count": null,
   "id": "b6623a6c-b526-4c86-8971-acfd5c79a6e7",
   "metadata": {},
   "outputs": [],
   "source": [
    "\"\"\"\n",
    "    non-eq_BAOAB!(q::Vector{<:Real}, p::Vector{<:Real}, η, Δt, β, γ, force_field::Vector{<:Real}, ∇V::Function, F::Function)\n",
    "\n",
    "BAOAB integrator for the Langevin dynamics. (q,p) is the initial configuration, Δt the time step, β the inverse temperature, γ the friction parameter, ∇V the negative force field, ∇V the gradient of V evaluated at (q,p). The Ornstein-Uhlenbeck process is integrated using the analytical expression of the solution.\n",
    "\n",
    "The configuration and the gradient of the potential are updated in place.\n",
    "\"\"\"\n",
    "function noneq_BAOAB!(q::Vector{<:Real}, p::Vector{<:Real}, η, Δt, β, γ, force_field::Vector{<:Real}, ∇V::Function, F::Function; \n",
    "        RNG = Random.default_rng())\n",
    "        @. p -= Δt * force_field / 2\n",
    "        @. q += Δt * p / 2\n",
    "        p .= exp(-γ*Δt) .* p .+ sqrt((1-exp(-2*γ*Δt))/β) .* randn(size(p))\n",
    "        @. q += Δt * p / 2\n",
    "        force_field .= ∇V(q) .+ η .* F(q)\n",
    "        @. p -= Δt * force_field / 2\n",
    "\n",
    "    return nothing\n",
    "end\n",
    "\n",
    "\"\"\"\n",
    "   overdamped_trajectory(x_0::Vector{<:Real}, η, β, Δt, ∇V::Function, F::Function; RNG = Random.default_rng(), verbose::Bool=true)\n",
    "\n",
    "Simulate overdamped trajectory starting from `x_0` with an Euler-Maruyama scheme using time step `Δt` and total \n",
    "integration time `T`. The random number generator can be specified via optional keyword argument `RNG`.\n",
    "\n",
    "Outputs final position and trajectory\n",
    "\"\"\"\n",
    "\n",
    "function kinetic_trajectory(q_0::Vector{<:Real}, p_0::Vector{<:Real}, η, β, γ, Δt, T, ∇V::Function, F::Function; \n",
    "        RNG = Random.default_rng(), verbose::Bool=true)    \n",
    "    # Get the number of iterations\n",
    "    Nit = round(Int, T/Δt)\n",
    "    Δt = T/Nit\n",
    "    \n",
    "    # Frequency of the points to show the progress of the simulations\n",
    "    nlog = round(Int, Nit/10)\n",
    "\n",
    "    #Initialize arrays holding position and momentum trajectory\n",
    "    positions = Array{Float64, 2}(undef, Nit+1, length(q_0))\n",
    "    momenta = Array{Float64, 2}(undef, Nit+1, length(p_0))\n",
    "    positions[1, :] .= q_0\n",
    "    momenta[1, :] .= p_0\n",
    "\n",
    "    #Initial position and momentum\n",
    "    q = copy(q_0)\n",
    "    p = copy(p_0)\n",
    "\n",
    "    #Initial value of forced field\n",
    "    force_field = ∇V(q) .+ η .* F(q) #TODO what should be here?\n",
    "\n",
    "    if verbose\n",
    "        print(\"Integrating using the kinetic dynamics for $(Nit) iterations\\t\"); flush(stdout)\n",
    "    end\n",
    "\n",
    "    for i in 2:(Nit+1)\n",
    "        \n",
    "        # Prints a point every nlog iterations\n",
    "        if verbose && i % nlog == 0\n",
    "            print(\".\"); flush(stdout)\n",
    "        end\n",
    "\n",
    "        # Integrate one step\n",
    "        noneq_BAOAB!(q, p, η, Δt, β, γ, force_field, ∇V, F; RNG = RNG)\n",
    "\n",
    "        # Update the trajectory\n",
    "        positions[i,:] = q\n",
    "        momenta[i,:] = p\n",
    "    end\n",
    "    \n",
    "    if verbose\n",
    "        println(\"\\tDone\"); flush(stdout)\n",
    "    end\n",
    "\n",
    "    return q, p, positions, momenta\n",
    "\n",
    "end\n",
    ";"
   ]
  },
  {
   "cell_type": "markdown",
   "id": "60d3500d-ad5e-4c45-a0ac-4c57e3b279e0",
   "metadata": {},
   "source": [
    "#### i) Harmonic potential (Ornstein-Uhlenbeck process)\n"
   ]
  },
  {
   "cell_type": "code",
   "execution_count": null,
   "id": "68652b40-ff50-4f32-9494-c8315c26fc0e",
   "metadata": {},
   "outputs": [],
   "source": [
    "#Parameters of the sample trajectory feel free to modify and observe what changes\n",
    "q_0 = [1., 0]\n",
    "p_0 = zeros(2)\n",
    "η = 0.05\n",
    "β = 2.\n",
    "γ = 1.\n",
    "Δt = 0.01\n",
    "T = 50000\n",
    "burn = 1000\n",
    "RNG = Xoshiro(24092023) #fixing RNG\n",
    "\n",
    "#burn in dynamics\n",
    "q, p, _, _ = kinetic_trajectory(q_0, p_0, 0, β, γ, Δt, burn, ∇Harmonic, rotation; RNG = RNG, verbose=false)\n",
    "#simulate a trajectory\n",
    "_, _, positions, momenta = kinetic_trajectory(q, p, η, β, γ, Δt, T, ∇Harmonic, rotation; RNG = RNG, verbose=false)\n",
    "Φ = cumsum([mobility(positions[i,:], momenta[i,:]) for i in axes(positions, 1)]) ./ axes(positions, 1) ./η;"
   ]
  },
  {
   "cell_type": "code",
   "execution_count": null,
   "id": "d8c21510-00f4-4efe-8098-30e2c3baead2",
   "metadata": {},
   "outputs": [],
   "source": [
    "contourf(xrange, yrange, Harmonic, levels=50, cmap=:hsv)\n",
    "plot!(positions[1:10000, 1], positions[1:10000, 2], color=:black, label = \"\")"
   ]
  },
  {
   "cell_type": "code",
   "execution_count": null,
   "id": "d0b7058f-a169-4575-ada0-8f87ba99620c",
   "metadata": {},
   "outputs": [],
   "source": [
    "plot(0.:50*Δt:T, Φ[1:50:end], label = L\"\\widehat{\\Phi}_{\\eta, T}\")\n",
    "plot!(legendfontsize = 15, ylims = (-0.5, 0.5))"
   ]
  },
  {
   "cell_type": "markdown",
   "id": "01aabd9e-a487-4c54-bdde-d991ec27ccc3",
   "metadata": {},
   "source": [
    "#### ii) Entropic switch potential \n"
   ]
  },
  {
   "cell_type": "code",
   "execution_count": null,
   "id": "c1deae89-a3e1-48fe-b551-2c10b564c41d",
   "metadata": {},
   "outputs": [],
   "source": [
    "#Parameters of the sample trajectory feel free to modify and observe what changes\n",
    "q_0 = [1., 0]\n",
    "p_0 = zeros(2)\n",
    "η = 0.05\n",
    "β = 1.\n",
    "γ = 1.\n",
    "Δt = 0.01\n",
    "T = 100000\n",
    "burn = 1000\n",
    "RNG = Xoshiro(24092023) #fixing RNG\n",
    "\n",
    "\n",
    "#Burning in the dynamics\n",
    "q, p, _, _ = kinetic_trajectory(q_0, p_0, η, β, γ, Δt, burn, ∇entropic_switch, rotation; RNG = RNG, verbose=false)  \n",
    "\n",
    "#simulate a trajectory\n",
    "_, _, positions, momenta = kinetic_trajectory(q, p, η, β, γ, Δt, T, ∇entropic_switch, rotation; RNG = RNG, verbose=true)\n",
    "Φ = cumsum([mobility(positions[i,:], momenta[i,:]) for i in axes(positions, 1)]) ./ axes(positions, 1) ./η;"
   ]
  },
  {
   "cell_type": "code",
   "execution_count": null,
   "id": "01a09b06-2678-49ec-a8a7-148f541ba620",
   "metadata": {},
   "outputs": [],
   "source": [
    "contourf(xrange, yrange, entropic_switch, levels=50, cmap=:hsv)\n",
    "plot!(positions[1:20000, 1], positions[1:20000, 2], color=:black, label = \"\")"
   ]
  },
  {
   "cell_type": "code",
   "execution_count": null,
   "id": "d1e15d87-c64b-44d1-8f98-2bd527a06461",
   "metadata": {},
   "outputs": [],
   "source": [
    "plot(0.:50*Δt:T, Φ[1:50:end], label = L\"\\widehat{\\Phi}_{\\eta, T}\")\n",
    "plot!(legendfontsize = 15, ylims = (-0.8, 0.8))"
   ]
  },
  {
   "cell_type": "markdown",
   "id": "ae5a8c74",
   "metadata": {},
   "source": [
    "## II) (Probabilistic) Couplings\n",
    "\n",
    "In this section, we consider couplings of diffusions and their discretization via their driving noise. These couplings are Markovian in the sense that the coupled process is a Markov process. We concentrate on the overdamped case and only consider the kinetic case in an exercise at the end.\n",
    "\n",
    "In this section we look couplings in two case:\n",
    "#### a) Starting from different inital conditions\n",
    "We can couple two solutions to an SDE with different initial conditions. Assuming deterministic initial conditions, a pair of coupled solutions to an overdamped Langevin equation with different initial conditions satisfies:\n",
    "$$\\tag{Same Drift}\n",
    "\\begin{aligned}\n",
    "    dX_t^0 &= -\\nabla V\\left(X_t^0\\right)dt + \\sqrt{\\frac{2}{\\beta}}dW_t, \\qquad X^0_0 = x,\\\\\n",
    "    dY_t^0 &= -\\nabla V\\left(Y_t^0\\right)dt + \\sqrt{\\frac{2}{\\beta}}d\\widetilde{W}_t, \\qquad Y^0_0 = y,\n",
    "\\end{aligned}\n",
    "$$\n",
    "with $x, y \\in \\mathbb{R}^d$ $x\\neq y$ and $(W, \\widetilde{W})$ a cleverly coupled pair of Brownian motions. In this case, the coupling can help us see how quickly the system mixes/converges to its invariant measure/thermalizes (the terminology depends on the field).\n",
    "\n",
    "#### b) Different drifts\n",
    "We can alternatively couple solutions to two SDEs with different drifts. For example, we can couple the non-equilibriun ($\\eta \\neq 0$) and equilibrium ($\\eta = 0$):\n",
    "$$\\tag{Different Drifts}\n",
    "\\begin{aligned}\n",
    "    dX_t^\\eta &= \\left(-\\nabla V\\left(X_t^\\eta\\right) + \\eta F\\left(X_t^\\eta\\right)\\right)dt + \\sqrt{\\frac{2}{\\beta}}dW_t, \\qquad &X_0 = x\\\\\n",
    "    dY_t^0 &= -\\nabla V\\left(Y_t\\right)dt + \\sqrt{\\frac{2}{\\beta}}d\\widetilde{W}_t, &Y_0 = y,\n",
    "\\end{aligned}\n",
    "$$\n",
    "with $x, y \\in \\mathbb{R}^d$ and $(W, \\widetilde{W})$ a cleverly coupled pair of Brownian motions. Here, the coupling can help us isolate the effect of the perturbation from the effect of the noise. \n",
    "\n",
    "\n",
    "To improve upon the estimator from the previous section, we can consider the following coupling based estimator\n",
    "$$\\widehat{\\Psi}_{\\eta, T} = \\frac{1}{\\eta T}\\int_0^T\\left[R\\left(X_t^\\eta\\right) - R\\left(Y_t^0\\right)\\right]dt,$$\n",
    "with $X^\\eta$ and $Y^0$ coupled via their driving noise $(W, \\widetilde{W})$.\n",
    "If the coupling is chosen in such a way that the two trajectories stay close for a long time, we can then hope that the estimator $\\widehat{\\Psi}_{\\eta, T}$ has lower variance than that of $\\widehat{\\Phi}_{\\eta, T}$.\n",
    "\n",
    "<details>\n",
    "    <summary>Some theory</summary>\n",
    "    A coupling of two random variables \\(X\\) and \\(Y\\) is a couple \\(\\left(\\widetilde{X}, \\widetilde{Y}\\right)\\) of random variables such that \\(\\widetilde{X} \\stackrel{\\mathrm{Law}}{=} X\\) and \\(\\widetilde{Y} \\stackrel{\\mathrm{Law}}{=} Y\\). In terms of probability measures, a coupling of two probability measures $\\mu$ on $\\left(\\mathcal{X}, \\mathcal{B}\\left(\\mathcal{X}\\right)\\right)$ and $\\nu$ on $\\left(\\mathcal{Y}, \\mathcal{B}\\left(\\mathcal{Y}\\right)\\right)$ is a probability $\\pi$ on the product space $\\left(\\mathcal{X}\\times\\mathcal{Y}, \\mathcal{B}\\left(\\mathcal{X}\\times\\mathcal{Y}\\right)\\right)$ such that for all $A \\in \\mathcal{B}\\left(\\mathcal{X}\\right)$ and $B \\in \\mathcal{B}\\left(\\mathcal{Y}\\right)$\n",
    "    $$\\pi\\left(A\\times \\mathcal{Y}\\right) = \\mu\\left(A\\right), \\qquad \\pi\\left(\\mathcal{X}\\times B\\right) = \\nu\\left(B\\right).$$\n",
    "    We denote by $\\Pi(\\mu,\\nu)$ the set of couplings of $\\mu$ and $\\nu$.\n",
    "    Two commonly used distances on the space of probability measures on $\\mathbb{R}^d$ the $p$-Wasserstein and the total variation distances can be expressed as the infimum over coupling:\n",
    "    $$\\tag{$p$-Wasserstein}\n",
    "    \\mathcal{W}_p\\left(\\mu,\\nu\\right)^p := \\inf_{\\pi \\in \\Pi(\\mu,\\nu)} \\int_{\\mathbb{R}^d \\times \\mathbb{R}^d} \\left|x-y\\right|^p \\pi({\\rm d}x\\, {\\rm d} y),$$\n",
    "    $$\\tag{Total variation}\n",
    "    d_{\\rm TV}\\left(\\mu, \\nu\\right) := \\inf_{\\pi \\in \\Pi(\\mu,\\nu)} \\int_{\\mathbb{R}^d \\times \\mathbb{R}^d} \\mathbf{1}_{\\left\\{x \\neq y\\right\\}} \\pi({\\rm d}x\\, {\\rm d} y).\n",
    "    $$\n",
    "    Consequently, an explicit coupling gives us an upper bound these distance. Couplings can be used to estimate the contraction rate, i.e. how quickly the dynamics forgets its initial conditions, of the diffusion semi-group, $\\left(P_t\\right)_{t\\geq 0}$, corresponding to an SDE in Wasserstein or total variation distance:\n",
    "    $$\\mathcal{W}_p\\left(\\delta_xP_t, \\delta_yP_t\\right) \\leq \\mathbb{E}_{(x,y)}\\left[\\left|X_t - Y_t\\right|^p\\right]^{1/p}, $$\n",
    "    or \n",
    "    $$ d_{\\mathrm{TV}}\\left(\\delta_xP_t, \\delta_yP_t\\right) \\leq \\mathbb{P}_{(x,y)}\\left(X_t\\neq Y_t\\right),$$\n",
    "    with $\\left(X_t,Y_t\\right)_{t\\geq 0}$ a coupling of the solutions to the SDE corresponding to $\\left(P_t\\right)_{t\\geq 0}$ with inital conditions $X_0 = x$ and $Y_0 = y$.\n",
    "    Couplings can also be used bound the distance between the laws of two diffusions with different drifts. Denote by $\\left(P_t^\\eta\\right)_{t\\geq 0}$ the semi-group corresponding to $(\\text{Non-equilibrium dynamics})$ for $\\eta \\in \\mathbb{R}$, then\n",
    "    $$\\mathcal{W}_p\\left(\\delta_xP_t^\\eta, \\delta_yP_t^0\\right) \\leq \\mathbb{E}_{(x,y)}\\left[\\left|X_t^\\eta- Y_t^0\\right|^p\\right]^{1/p}, $$\n",
    "    or \n",
    "    $$ d_{\\mathrm{TV}}\\left(\\delta_xP_t^\\eta, \\delta_yP_t^0\\right) \\leq \\mathbb{P}_{(x,y)}\\left(X_t^\\eta\\neq Y_t^0\\right),$$\n",
    "    with $\\left(X_t^\\eta,Y_t^0\\right)_{t\\geq 0}$ a coupling of the nonwith inital conditions $X_0^\\eta = x$ and $Y_0^0 = y$.\n",
    "    \\\n",
    "    \\\n",
    "    Turning to the second moment (which is a proxy for the variance) of the coupling based estimator\n",
    "</details>\n",
    "\n",
    "<br>\n",
    "\n",
    "A simple way to couple the dynamics is to <i>synchronously</i> couple them, i.e. to drive them with the same Brownian motion, $W = \\widetilde{W}$. Two possible ways to implement this: \n",
    "\n",
    "1. Integrate the coupled dynamics explicitly by sampling at each step $G_k \\sim \\mathcal{N}\\left(0, \\mathrm{Id}\\right)$ and using the same $G_k$ for the two trajectories:\n",
    "       $$\\begin{aligned}\n",
    "           X_{k}^\\eta &= X_{k-1}^\\eta + \\Delta t\\left(-\\nabla V\\left(X_{k-1}^\\eta\\right) + \\eta F\\left(X_{k-1}^\\eta\\right)\\right) + \\sqrt{\\frac{2\\Delta t}{\\beta}} G_k\\\\\n",
    "           Y_k^0 &= Y_{k-1}^0 - \\Delta t \\nabla V\\left(Y_{k-1}^0\\right) + \\sqrt{\\frac{2\\Delta t}{\\beta}} G_k\n",
    "       \\end{aligned}\n",
    "       $$\n",
    "3. Integrate the whole trajectory of each dynamics one after the other and starting them both with the same seed.\n",
    "\n",
    "The first method creates code that can easily be modified to use other more intricate coupling methods. While the second is easy to implement in existing code. To see both methods, we will use the first for the overdamped dynamic and the second for the kinetic dynamics."
   ]
  },
  {
   "cell_type": "markdown",
   "id": "d292982d",
   "metadata": {},
   "source": [
    "### 1) Synchronously coupled overdamped dynamics"
   ]
  },
  {
   "cell_type": "markdown",
   "id": "8be715f2",
   "metadata": {},
   "source": [
    "<b>Instructive optional exercise: </b> Consider the system (Same Drift) given above with an $m$-strongly convex potential $V$ with $m > 0$, i.e. $\\nabla^2 V(x) \\geq m \\mathrm{Id}$ in the sense of positive definite matricies for all $x \\in \\mathbb{R}^d$. Compute the differential of $\\left|X_t - Y_t\\right|^2$ when $X$ and $Y$ are synchronously coupled. What can we say about the behavior of $\\left|X_t - Y_t\\right|^2$ with time?\n",
    "\n",
    "<i>Hint 1:</i> If you do not know Itô Calculus, don't worry! In this case the Itô correction terms cancel out, so you can formally use the standard chain rule. If you do know Itô Calculus, why does this happen?\n",
    "    \n",
    "<i>Hint 2:</i> Where do you use that fact two equations are synchronously coupled? Where do you use that the fact $V$ is $m$-strongly convex? In case you have not seen this fact before, the $m$-strong convexity of $V$ implies\n",
    "$$\\forall x,y \\in \\mathbb{R}^d, \\qquad \\left\\langle x-y, \\nabla V(x) - \\nabla V(y)\\right\\rangle \\geq m\\left|x-y\\right|^2. $$\n",
    "\n",
    "<u>Extension</u>: What happens when we consider the system (Different Drifts) and compute the differential of $\\left|X_t^\\eta - Y_t^0\\right|^2$?"
   ]
  },
  {
   "cell_type": "code",
   "execution_count": null,
   "id": "a28003fc-7b88-4ecb-bcb6-daa1e369b645",
   "metadata": {},
   "outputs": [],
   "source": [
    "\"\"\"\n",
    "   coupled_traj(drift_x, drift_y, coupled_integrator, β, x_0, y_0, T, burn, Δt; RNG = Random.default_rng())\n",
    "\n",
    "A wrapper function for simulating trajectories of two discretized diffusions coupled via their noises. The \n",
    "argument `coupled_integrator` should be a function that implements the one step iteration of the coupled dynamics.\n",
    "signature `coupled_integrator(x::Vector{<:Real}, y::Vector{<:Real}, drift_x::Function, drift_y::Function, β, Δt, RNG)`\n",
    "\n",
    "\"\"\"\n",
    "function coupled_traj(drift_x, drift_y, coupled_integrator, β, x_0, y_0, T, burn, Δt; RNG = Random.default_rng()) \n",
    "    Nit= floor(Int64, T/Δt)\n",
    "    Δt = T/Nit\n",
    "    K = floor(Int64, burn/Δt)\n",
    "    \n",
    "    x_traj = Array{Float64, 2}(undef, Nit+1, length(x_0))\n",
    "    y_traj = Array{Float64, 2}(undef, Nit+1, length(x_0))\n",
    "\n",
    "    x = copy(x_0)\n",
    "    y = copy(y_0)\n",
    "    \n",
    "    for _ in 1:K\n",
    "        #\"burning-in\" the dynamics. Set `burn` to zero if you do not \n",
    "        #want a burn-in\n",
    "        coupled_integrator(x, y, drift_x, drift_y, β, Δt, RNG)\n",
    "    end\n",
    "    \n",
    "    x_traj[1, :] .= x\n",
    "    y_traj[1, :] .= y\n",
    "    for i in 2:(Nit+1)\n",
    "        coupled_integrator(x, y, drift_x, drift_y, β, Δt, RNG)\n",
    "        x_traj[i, :] .= x\n",
    "        y_traj[i, :] .= y\n",
    "    end\n",
    "    \n",
    "    return x_traj, y_traj\n",
    "end\n",
    ";"
   ]
  },
  {
   "cell_type": "markdown",
   "id": "a9f29c5d-f948-4cf6-9647-cbea04c8d1ab",
   "metadata": {},
   "source": [
    "<b>Task:</b> Implement one integration step of synchronously coupled dynamics in the next cell."
   ]
  },
  {
   "cell_type": "code",
   "execution_count": null,
   "id": "e4c1192d",
   "metadata": {},
   "outputs": [],
   "source": [
    "\"\"\"\n",
    "    synchronous_integration_step!(x,y, drift_x, drift_y, β, dt, RNG)\n",
    "One step of the synchronously coupled dynamics\n",
    "\"\"\"\n",
    "function synchronous_integration_step!(x,y, drift_x, drift_y, β, dt, RNG)\n",
    "    G = randn(RNG, length(x))\n",
    "    x .+= drift_x(x) .* dt .+ sqrt(2*dt/β) .* G\n",
    "    y .+= drift_y(y) .* dt .+ sqrt(2*dt/β) .* G\n",
    "    return nothing\n",
    "end\n",
    ";"
   ]
  },
  {
   "cell_type": "markdown",
   "id": "d833a9c0",
   "metadata": {},
   "source": [
    "#### a) Strongly Convex Harmonic Potential\n",
    "\n",
    "Let us test your implementation of synchronous coupling on the overdamped Langevin dynamics with a harmonic potential introduced in the first section.\n",
    "\n",
    "We start by looking at the convergence towards one another of two coupled solutions to the equilibrium dynamics with different initial conditions. \n",
    "\n",
    "By passing to the coordinate system induced by the eigenvectors of $A$, we can solve explicitly for the behavior of the difference process $X_t - Y_t$ since our SDE is linear. If you want to do this, the eigenvalues of $A$ are $\\lambda_1 = 1$ and $\\lambda_2 = 3$ and its eigenvectors are\n",
    "$$v_1 = \\frac{1}{\\sqrt{2}}\\left[ \\begin{matrix} 1\\\\ 1\\end{matrix}\\right], \\qquad v_2 = \\frac{1}{\\sqrt{2}}\\left[\\begin{matrix} 1\\\\ -1\\end{matrix}\\right]. $$"
   ]
  },
  {
   "cell_type": "code",
   "execution_count": null,
   "id": "5d46c079",
   "metadata": {},
   "outputs": [],
   "source": [
    "drift(x) = -∇Harmonic(x)\n",
    "\n",
    "B = [sqrt(2) 0\n",
    "    sqrt(2)/2 sqrt(6)/2]\n",
    "\n",
    "RNG = Xoshiro(24092023) #fixing RNG\n",
    "\n",
    "###################################\n",
    "#two samples from the invariant measure of the continuous-time process\n",
    "x_0 = sqrt(1/(3β)) * B * randn(RNG, 2)\n",
    "y_0 = sqrt(1/(3β)) * B * randn(RNG, 2)\n",
    "####################################\n",
    "\n",
    "\n",
    "# ###################################\n",
    "# #Difference in the first eigendirection\n",
    "# x_0 = [-1., 1]\n",
    "# y_0 = zeros(2)\n",
    "# ####################################\n",
    "\n",
    "# ###################################\n",
    "# #Difference in the second eigendirection\n",
    "# x_0 = [1., 1]\n",
    "# y_0 = zeros(2)\n",
    "# ####################################\n",
    "\n",
    "T = 5.\n",
    "dt = 0.01\n",
    "β = 1.\n",
    "burn = 0.\n",
    "x_traj, y_traj = coupled_traj(drift, drift, synchronous_integration_step!, β, x_0, y_0, T, burn, dt; RNG = RNG)\n",
    ";"
   ]
  },
  {
   "cell_type": "markdown",
   "id": "e684c81c",
   "metadata": {},
   "source": [
    "Below we plot the decay of the difference between the two solutions in the two eigen-directions of $A$. The decay of the difference in each eigen-direction should behave like $\\mathrm{e}^{-\\lambda t}$ with $\\lambda$ the corresponding eigenvalue."
   ]
  },
  {
   "cell_type": "code",
   "execution_count": null,
   "id": "5d0f62bf",
   "metadata": {},
   "outputs": [],
   "source": [
    "#Change of coordinates \n",
    "u(x, y) = (x + y)/sqrt(2)\n",
    "v(x, y) = (x - y)/sqrt(2)\n",
    "u(x::Vector{<:Real}) = u(x...)\n",
    "v(x::Vector{<:Real}) = v(x...)\n",
    "\n",
    "plot(yscale = :log10)\n",
    "scatter!(0.:10dt:T, [abs(u(x_traj[i, :] - y_traj[i, :])) for i in axes(x_traj, 1)][1:10:end],\n",
    "    ms = 2, msw = 0.1, label = \"Difference in 1st Eigendirection\")\n",
    "plot!(0.:dt:T, abs(u(x_0 - y_0))*exp.(.-(0.:dt:T)), label = L\"\\exp{(-t)}\", lw = 1.5)\n",
    "scatter!(0.:10dt:T, [abs(v(x_traj[i, :] - y_traj[i, :])) for i in axes(x_traj, 1)][1:10:end], \n",
    "    ms = 2, msw = 0.1, label = \"Difference in 2nd Eigendirection\")\n",
    "plot!(0.:dt:T, abs(v(x_0 - y_0))*exp.(-3 .*(0.:dt:T)), label = L\"\\exp{(-3t)}\", lw = 1.5)\n",
    "plot!(legend = :bottomleft, legendfontsize = 12)"
   ]
  },
  {
   "cell_type": "markdown",
   "id": "a9b2bce7",
   "metadata": {},
   "source": [
    "We next look at the behavior of the synchronous coupling based estimator of the transport coefficient.\n",
    "\n",
    "<b> Task:</b> In the next cell vary the intensity of the perturbation $\\eta$ and runtime $T$ and comment on the convergence of $\\widehat{\\Psi}_{\\eta,t}^{\\mathrm{sync}}$. You may also look at the plots of the trajectories and the distribution of distances between the trajectories in the two cells after that. "
   ]
  },
  {
   "cell_type": "code",
   "execution_count": null,
   "id": "c076bb5b",
   "metadata": {},
   "outputs": [],
   "source": [
    "x_0 = [1., 0]\n",
    "η = 0.01\n",
    "β = 1.\n",
    "Δt = 0.01\n",
    "T = 5000\n",
    "burn = 1000\n",
    "RNG = Xoshiro(24092023) #fixing RNG\n",
    "\n",
    "drift_x(x) = -∇Harmonic(x) + η*rotation(x) #perturbed drift\n",
    "drift_y(x) = -∇Harmonic(x) #equilibrium drift\n",
    "\n",
    "x_traj, y_traj = coupled_traj(drift_x, drift_y, synchronous_integration_step!, β, x_0, y_0, T, burn, Δt; RNG = RNG)\n",
    "Ψ_sync = cumsum(R.(x_traj[:, 1], x_traj[:, 2]) - R.(y_traj[:, 1], y_traj[:, 2])) ./ axes(x_traj, 1) ./η;"
   ]
  },
  {
   "cell_type": "code",
   "execution_count": null,
   "id": "04a36d9c-2695-4d96-bd59-14365ace03da",
   "metadata": {},
   "outputs": [],
   "source": [
    "plot(0:10dt:T, Ψ_sync[1:10:end], label = L\"\\widehat{\\Psi}_{\\eta, t}\")\n",
    "plot!([0, T], [α_R(β), α_R(β)], label = L\"\\alpha_R\", legendfontsize = 15)\n",
    "plot!([0, T], [α_η_R(β, η), α_η_R(β, η)], label = L\"\\alpha_{\\eta,R}\")"
   ]
  },
  {
   "cell_type": "code",
   "execution_count": null,
   "id": "798a8160",
   "metadata": {},
   "outputs": [],
   "source": [
    "#Plotting the trajectories the equilibrium and nonequilibrium processes \n",
    "#if you can't differentiate the two trajectories increase η and rerun the previous cell\n",
    "contourf(xrange, yrange, Harmonic, levels=50, cmap=:hsv)\n",
    "plot!(x_traj[1:500, 1], x_traj[1:500, 2], color = :black, lw = 1.5, label = L\"X^\\eta\")\n",
    "plot!(y_traj[1:500, 1], y_traj[1:500, 2], color = :lightgray, lw = 1.5, label = L\"Y^0\")\n",
    "plot!(legendfontsize = 15)"
   ]
  },
  {
   "cell_type": "code",
   "execution_count": null,
   "id": "d0b2a07e",
   "metadata": {},
   "outputs": [],
   "source": [
    "#Plotting the empirical distribution of distance between the equilibrium and nonequilibrium processes\n",
    "plot()\n",
    "plot!(title = latexstring(\"Distribution of \\$\\\\left|X_t^\\\\eta - Y_t^0\\\\right|\\$\"))\n",
    "plot!([norm([x_traj[i, :] - y_traj[i, :]]) for i in axes(x_traj, 1)], normed = true, label = \"\", \n",
    "    seriestype = :stephist)\n",
    "plot!(xlabel = \"Distance between trajectories\")"
   ]
  },
  {
   "cell_type": "markdown",
   "id": "0df2f628-789e-41fd-94e0-a949a212b2ae",
   "metadata": {},
   "source": [
    "*If you have time:* Study the variance and bias of the estimator $\\widehat{\\Psi}_{\\eta,T}^{\\mathrm{sync}}$ as a function of $\\eta$.\n",
    "\n",
    "*Suggestion*: Burn-in on the order of $T_{\\mathrm{burn}} = 10$ should be sufficient. Try also relatively short integration times around $T = 50-100$."
   ]
  },
  {
   "cell_type": "code",
   "execution_count": null,
   "id": "db88e2ee-0d1b-47f7-bb50-fd3e842f5db0",
   "metadata": {},
   "outputs": [],
   "source": []
  },
  {
   "cell_type": "code",
   "execution_count": null,
   "id": "d4e2d098-b446-4212-805c-89aad7f19b68",
   "metadata": {},
   "outputs": [],
   "source": []
  },
  {
   "cell_type": "markdown",
   "id": "bd8f4c16",
   "metadata": {},
   "source": [
    "#### b) Non-convex Entropic Switch Potential\n",
    "\n",
    "We repeat what we did above for the entropic switch potential.\n",
    "\n",
    "<i> Question for those who did the exercise:</i> Does the result of the exercise still hold in this case?"
   ]
  },
  {
   "cell_type": "code",
   "execution_count": null,
   "id": "bee97600",
   "metadata": {},
   "outputs": [],
   "source": [
    "drift(x) = -∇entropic_switch(x)\n",
    "\n",
    "q_l = [-1.048, -0.04210] #left well\n",
    "q_r = [1.048, -0.04210] #right well\n",
    "x_0 = [1., 1]\n",
    "y_0 = [0., 0.]\n",
    "β = 1.\n",
    "T = 7.\n",
    "burn = 0.\n",
    "dt = 0.01\n",
    "RNG = Xoshiro(24092023) #fixing RNG\n",
    "x_traj, y_traj = coupled_traj(drift, drift, synchronous_integration_step!, β, q_l, q_r, T, burn, dt; RNG = RNG)\n",
    "\n",
    "plot()\n",
    "plot!(0:dt:T, [norm([x_traj[i, :] - y_traj[i, :]]) for i in axes(x_traj, 1)], label = L\"\\left|X_t - Y_t\\right|\")\n",
    "plot!(yscale = :log, legendfontsize = 15)"
   ]
  },
  {
   "cell_type": "code",
   "execution_count": null,
   "id": "33f96260-9575-4839-9a07-567d17745f6d",
   "metadata": {},
   "outputs": [],
   "source": [
    "contourf(xrange, yrange, entropic_switch, levels=50, cmap=:hsv)\n",
    "plot!(x_traj[1:500, 1], x_traj[1:500, 2], color = :black, lw = 1.5, label = L\"X\")\n",
    "plot!(y_traj[1:500, 1], y_traj[1:500, 2], color = :lightgray, lw = 1.5, label = L\"Y\")\n",
    "plot!(legendfontsize = 15)"
   ]
  },
  {
   "cell_type": "markdown",
   "id": "ed7550c0",
   "metadata": {},
   "source": [
    "What do you observe about the distance between the two solutions over time?\n",
    "\n",
    "<br>\n",
    "\n",
    "As before, we look at the behavior of the synchronous coupling based estimator of the transport coefficient.\n",
    "\n",
    "<b> Task:</b> In the next cell vary the intensity of the perturbation $\\eta$, the inverse temperature $\\beta$, and runtime $T$ and comment on the convergence of $\\widehat{\\Psi}_{\\eta,t}^{\\mathrm{sync}}$. You may also look at the plots of the trajectories in the cell after and the distribution of distances between the trajectories in the cell after that. "
   ]
  },
  {
   "cell_type": "code",
   "execution_count": null,
   "id": "ceaa8c2b",
   "metadata": {},
   "outputs": [],
   "source": [
    "x_0 = [0., 0]\n",
    "η = 0.01\n",
    "β = 1.\n",
    "Δt = 0.01\n",
    "T = 100000\n",
    "burn = 10000\n",
    "RNG = Xoshiro(24092023) #fixing RNG\n",
    "\n",
    "drift_x(x) = -∇entropic_switch(x) + η*rotation(x) #perturbed drift\n",
    "drift_y(x) = -∇entropic_switch(x) #equilibrium drift\n",
    "\n",
    "x_traj, y_traj = coupled_traj(drift_x, drift_y, synchronous_integration_step!, β, x_0, y_0, T, burn, dt; RNG = RNG)\n",
    "Ψ_sync = cumsum(x_traj[:, 1] - y_traj[:, 1]) ./ axes(x_traj, 1) ./η;"
   ]
  },
  {
   "cell_type": "code",
   "execution_count": null,
   "id": "d7d77347-667b-4b3d-b657-95c70bbd0ba1",
   "metadata": {},
   "outputs": [],
   "source": [
    "plot(0:10dt:T, Ψ_sync[1:10:end], label = L\"\\widehat{\\Psi}_{\\eta, t}\")\n",
    "plot!(legendfontsize = 15, ylims = (0, 1))"
   ]
  },
  {
   "cell_type": "code",
   "execution_count": null,
   "id": "bd7ef654",
   "metadata": {},
   "outputs": [],
   "source": [
    "contourf(xrange, yrange, entropic_switch, levels=50, cmap=:hsv)\n",
    "plot!(x_traj[1:500, 1], x_traj[1:500, 2], color = :black, lw = 1.5, label = L\"X\")\n",
    "plot!(y_traj[1:500, 1], y_traj[1:500, 2], color = :lightgray, lw = 1.5, label = L\"Y\")\n",
    "plot!(legendfontsize = 15)"
   ]
  },
  {
   "cell_type": "code",
   "execution_count": null,
   "id": "8452be33",
   "metadata": {},
   "outputs": [],
   "source": [
    "#Plotting the empirical distribution of distance between the equilibrium and nonequilibrium processes\n",
    "plot()\n",
    "plot!(title = latexstring(\"Distribution of \\$\\\\left|X_t^\\\\eta - Y_t^0\\\\right|\\$\"))\n",
    "plot!([norm([x_traj[i, :] - y_traj[i, :]]) for i in axes(x_traj, 1)], normed = true, label = \"\", \n",
    "    seriestype = :stephist)\n",
    "plot!(xlabel = \"Distance between trajectories\")"
   ]
  },
  {
   "cell_type": "markdown",
   "id": "74f560f0-17d5-4316-807d-a353d2b26620",
   "metadata": {},
   "source": [
    "### 2) Synchronously coupled kinetic dynamics"
   ]
  },
  {
   "cell_type": "markdown",
   "id": "dccabb4a-e75a-4995-b6c6-11e924943b19",
   "metadata": {},
   "source": [
    "#### a) Strongly Convex Harmonic Potential\n",
    "\n",
    "Let us try synchronous coupling the kinetic Langevin dynamics by using the same random seed. We start by looking at the convergence towards one another of two coupled solutions to the equilibrium dynamics with different initial conditions. \n",
    "\n",
    "*Question for those who did the optional question:* Does the reasoning used to control $\\left|X_t^\\eta - Y_t^0\\right|^2$ still work here?"
   ]
  },
  {
   "cell_type": "code",
   "execution_count": null,
   "id": "9ef23237-bfb3-4f50-bbf0-4b36c2854e9d",
   "metadata": {},
   "outputs": [],
   "source": [
    "B = [sqrt(2) 0\n",
    "    sqrt(2)/2 sqrt(6)/2]\n",
    "\n",
    "###################################\n",
    "#two samples from the invariant measure of the continuous-time process\n",
    "RNG = Xoshiro(30) #fixing the RNG for sampling the initial conditions\n",
    "q1_0 = sqrt(1/(3β)) * B * randn(RNG, 2)\n",
    "q2_0 = sqrt(1/(3β)) * B * randn(RNG, 2)\n",
    "\n",
    "p1_0 = sqrt(1/(3β)) * randn(RNG, 2)\n",
    "p2_0 = sqrt(1/(3β)) * randn(RNG, 2)\n",
    "####################################\n",
    "\n",
    "\n",
    "# ###################################\n",
    "# #Difference in the first eigendirection\n",
    "# q1_0 = [-1., 1]\n",
    "# q2_0 = zeros(2)\n",
    "\n",
    "# p1_0 = sqrt(1/(3β)) * randn(RNG, 2)\n",
    "# p2_0 = sqrt(1/(3β)) * randn(RNG, 2)\n",
    "# ####################################\n",
    "\n",
    "# ###################################\n",
    "# #Difference in the first eigendirection\n",
    "# q1_0 = [-1., 1]\n",
    "# q2_0 = zeros(2)\n",
    "\n",
    "# p1_0 = sqrt(1/(3β)) * randn(RNG, 2)\n",
    "# p2_0 = sqrt(1/(3β)) * randn(RNG, 2)\n",
    "# ####################################\n",
    "\n",
    "T = 50.\n",
    "Δt = 0.01\n",
    "β = 1.\n",
    "γ = 1.\n",
    "burn = 0.\n",
    "\n",
    "RNG = Xoshiro(24092023) #fixing RNG for integrating the trajectory\n",
    "_, _, positions1, momenta1 =  kinetic_trajectory(q1_0, p1_0, 0, β, γ, Δt, T, ∇Harmonic, rotation; RNG =RNG, verbose = false)\n",
    "\n",
    "RNG = Xoshiro(24092023) #refixing RNG for integrating the trajectory\n",
    "_, _, positions2, momenta2 =  kinetic_trajectory(q2_0, p2_0, 0, β, γ, Δt, T, ∇Harmonic, rotation; RNG =RNG, verbose = false)\n",
    ";"
   ]
  },
  {
   "cell_type": "code",
   "execution_count": null,
   "id": "6edb0387-56fc-463d-affa-bdc9aa2a9ab9",
   "metadata": {},
   "outputs": [],
   "source": [
    "plot()\n",
    "plot!(0.:Δt:T, [norm(positions1[i, :] - positions2[i, :]) for i in axes(positions1, 1)], label = \"Position Difference\")\n",
    "plot!(0.:Δt:T, [norm(momenta1[i, :] - momenta2[i, :]) for i in axes(positions1, 1)], label = \"Momentum Difference\")\n",
    "plot!(legendfontsize = 12)"
   ]
  },
  {
   "cell_type": "markdown",
   "id": "dae0e2e9-687e-44d9-bb7a-ae98abedc4a2",
   "metadata": {},
   "source": [
    "Now we look at the behavior of the kinetic synchronous coupling based estimator of the transport coefficient.\n",
    "\n",
    "As before, we can explicitly solve everything here since the potential is harmonic.\n",
    "<details>\n",
    "    \n",
    "</details>\n",
    "\n",
    "<br>\n",
    "\n",
    "<b> Task:</b> In the next cell vary the intensity of the perturbation $\\eta$ and runtime $T$ and comment on the convergence of $\\widehat{\\Psi}_{\\eta,t}^{\\mathrm{sync}}$. You may also look at the plots of the trajectories and the distribution of distances between the trajectories in the two cells after that."
   ]
  },
  {
   "cell_type": "code",
   "execution_count": null,
   "id": "57c5d744-8f94-4753-8698-005dde6197b5",
   "metadata": {},
   "outputs": [],
   "source": [
    "RNG = Xoshiro(30) #fixing the RNG for sampling the initial conditions\n",
    "q_0 = sqrt(1/(3β)) * B * randn(RNG, 2)\n",
    "p_0 = sqrt(1/(3β)) * randn(RNG, 2)\n",
    "\n",
    "T = 5000.\n",
    "burn = 1000\n",
    "Δt = 0.01\n",
    "η = 0.1\n",
    "β = 1.\n",
    "γ = 1.\n",
    "\n",
    "RNG = Xoshiro(24092023) #fixing RNG for integrating the trajectory\n",
    "#burning in the non-equilibrium dynamics\n",
    "q, p, _, _ = kinetic_trajectory(q_0, p_0, η, β, γ, Δt, burn, ∇Harmonic, rotation; RNG =RNG, verbose = false)\n",
    "#simulating a non-equilibrium trajectory\n",
    "_, _, positions1, momenta1 = kinetic_trajectory(q, p, η, β, γ, Δt, T, ∇Harmonic, rotation; RNG =RNG, verbose = false)\n",
    "\n",
    "RNG = Xoshiro(24092023) #refixing RNG for integrating the trajectory\n",
    "#burning in the equilibrium dynamics\n",
    "q, p, _, _ = kinetic_trajectory(q_0, p_0, 0, β, γ, Δt, burn, ∇Harmonic, rotation; RNG =RNG, verbose = false)\n",
    "#simulating an equilibrium trajectory\n",
    "_, _, positions2, momenta2 = kinetic_trajectory(q, p, 0, β, γ, Δt, T, ∇Harmonic, rotation; RNG =RNG, verbose = false)\n",
    "\n",
    "Ψ = cumsum([mobility(positions1[i,:], momenta1[i,:]) - mobility(positions2[i,:], momenta2[i,:]) for i in axes(positions1, 1)]) ./ axes(positions1, 1) ./η;"
   ]
  },
  {
   "cell_type": "code",
   "execution_count": null,
   "id": "330d0e4c-7906-42fb-bd58-ef8b9a9563c1",
   "metadata": {},
   "outputs": [],
   "source": [
    "plot(0:10dt:T, Ψ[1:10:end], label = L\"\\widehat{\\Psi}_{\\eta, T}\")\n",
    "plot!(legendfontsize = 15)"
   ]
  },
  {
   "cell_type": "code",
   "execution_count": null,
   "id": "561e8700-c1e3-4cea-8901-774c511d4602",
   "metadata": {},
   "outputs": [],
   "source": [
    "#Plotting the empirical distribution of distance between the positions of the equilibrium and nonequilibrium processes\n",
    "plot()\n",
    "plot!(title = latexstring(\"Distribution of \\$\\\\left|q_t^\\\\eta - q_t^0\\\\right|\\$\"))\n",
    "plot!([norm([positions1[i, :] - positions2[i, :]]) for i in axes(positions1, 1)], normed = true, label = \"\", \n",
    "    seriestype = :stephist)\n",
    "plot!(xlabel = \"Distance between trajectories\")"
   ]
  },
  {
   "cell_type": "code",
   "execution_count": null,
   "id": "74d70b0a-d975-4dee-85da-1c9f0c5d5ac4",
   "metadata": {},
   "outputs": [],
   "source": [
    "#Plotting the empirical distribution of distance between the momenta of the equilibrium and nonequilibrium processes\n",
    "plot()\n",
    "plot!(title = latexstring(\"Distribution of \\$\\\\left|p_t^\\\\eta - p_t^0\\\\right|\\$\"))\n",
    "plot!([norm([momenta1[i, :] - momenta2[i, :]]) for i in axes(momenta1, 1)], normed = true, label = \"\", \n",
    "    seriestype = :stephist)\n",
    "plot!(xlabel = \"Distance between trajectories\")"
   ]
  },
  {
   "cell_type": "markdown",
   "id": "1d2fa7b5-5d16-4e0b-a270-398bfdba9966",
   "metadata": {},
   "source": [
    "*If you have time:* Study the variance and bias of the estimator $\\widehat{\\Psi}_{\\eta,T}^{\\mathrm{sync}}$ as a function of $\\eta$."
   ]
  },
  {
   "cell_type": "code",
   "execution_count": null,
   "id": "895728e8-1008-457e-848c-648049ef10c2",
   "metadata": {},
   "outputs": [],
   "source": []
  },
  {
   "cell_type": "code",
   "execution_count": null,
   "id": "73613f62-deeb-4251-92b8-5120a604271a",
   "metadata": {},
   "outputs": [],
   "source": []
  },
  {
   "cell_type": "markdown",
   "id": "02c77c16-cdf9-457f-a3eb-19495eb65385",
   "metadata": {},
   "source": [
    "#### b) Non-convex Entropic Switch Potential\n",
    "\n",
    "We repeat what we did above for the entropic switch potential."
   ]
  },
  {
   "cell_type": "code",
   "execution_count": null,
   "id": "c8d82baa-1410-48b0-ace7-6f046caf5495",
   "metadata": {},
   "outputs": [],
   "source": [
    "RNG = Xoshiro(30) #fixing the RNG for sampling the initial conditions\n",
    "q1_0 = q_l\n",
    "q2_0 = q_r\n",
    "\n",
    "p1_0 = sqrt(1/(3β)) * randn(RNG, 2)\n",
    "p2_0 = sqrt(1/(3β)) * randn(RNG, 2)\n",
    "\n",
    "T = 50.\n",
    "Δt = 0.01\n",
    "β = 1.\n",
    "γ = 2.\n",
    "burn = 0.\n",
    "\n",
    "RNG = Xoshiro(24092023) #fixing RNG for integrating the trajectory\n",
    "_, _, positions1, momenta1 =  kinetic_trajectory(q1_0, p1_0, 0, β, γ, Δt, T, ∇entropic_switch, rotation; RNG =RNG, verbose = false)\n",
    "\n",
    "RNG = Xoshiro(24092023) #refixing RNG for integrating the trajectory\n",
    "_, _, positions2, momenta2 =  kinetic_trajectory(q2_0, p2_0, 0, β, γ, Δt, T, ∇entropic_switch, rotation; RNG =RNG, verbose = false)\n",
    ";"
   ]
  },
  {
   "cell_type": "code",
   "execution_count": null,
   "id": "1ad71cdb-56c1-4c76-9b13-18b17dd9c96b",
   "metadata": {},
   "outputs": [],
   "source": [
    "plot()\n",
    "plot!(0.:Δt:T, [norm(positions1[i, :] - positions2[i, :]) for i in axes(positions1, 1)], label = \"Position Difference\")\n",
    "plot!(0.:Δt:T, [norm(momenta1[i, :] - momenta2[i, :]) for i in axes(positions1, 1)], label = \"Momentum Difference\")\n",
    "plot!(legendfontsize = 12)"
   ]
  },
  {
   "cell_type": "code",
   "execution_count": null,
   "id": "e82d0a42-b9d4-451a-834b-e010ea35fda9",
   "metadata": {},
   "outputs": [],
   "source": [
    "RNG = Xoshiro(30) #fixing the RNG for sampling the initial conditions\n",
    "q_0 = q_l\n",
    "p_0 = sqrt(1/(3β)) * randn(RNG, 2)\n",
    "\n",
    "T = 10000.\n",
    "burn = 1000\n",
    "Δt = 0.01\n",
    "η = 0.1\n",
    "β = 1.\n",
    "γ = 2.\n",
    "\n",
    "RNG = Xoshiro(24092023) #fixing RNG for integrating the trajectory\n",
    "#burning in the non-equilibrium dynamics\n",
    "q, p, _, _ = kinetic_trajectory(q_0, p_0, η, β, γ, Δt, burn, ∇entropic_switch, rotation; RNG =RNG, verbose = false)\n",
    "#simulating a non-equilibrium trajectory\n",
    "_, _, positions1, momenta1 = kinetic_trajectory(q, p, η, β, γ, Δt, T, ∇entropic_switch, rotation; RNG =RNG, verbose = false)\n",
    "\n",
    "RNG = Xoshiro(24092023) #refixing RNG for integrating the trajectory\n",
    "#burning in the equilibrium dynamics\n",
    "q, p, _, _ = kinetic_trajectory(q_0, p_0, 0, β, γ, Δt, burn, ∇entropic_switch, rotation; RNG =RNG, verbose = false)\n",
    "#simulating an equilibrium trajectory\n",
    "_, _, positions2, momenta2 = kinetic_trajectory(q, p, 0, β, γ, Δt, T, ∇entropic_switch, rotation; RNG =RNG, verbose = false)\n",
    "\n",
    "Ψ = cumsum([mobility(positions1[i,:], momenta1[i,:]) - mobility(positions2[i,:], momenta2[i,:]) for i in axes(positions1, 1)]) ./ axes(positions1, 1) ./η;"
   ]
  },
  {
   "cell_type": "code",
   "execution_count": null,
   "id": "3461579c-d08b-4312-81dd-212896c05016",
   "metadata": {},
   "outputs": [],
   "source": [
    "plot(0:10dt:T, Ψ[1:10:end], label = L\"\\widehat{\\Psi}_{\\eta, T}\")\n",
    "plot!(legendfontsize = 15)"
   ]
  },
  {
   "cell_type": "code",
   "execution_count": null,
   "id": "231dd0fc-456c-4dd0-915a-f8ec960fb531",
   "metadata": {},
   "outputs": [],
   "source": [
    "#Plotting the empirical distribution of distance between the positions of the equilibrium and nonequilibrium processes\n",
    "plot()\n",
    "plot!(title = latexstring(\"Distribution of \\$\\\\left|q_t^\\\\eta - q_t^0\\\\right|\\$\"))\n",
    "plot!([norm([positions1[i, :] - positions2[i, :]]) for i in axes(positions1, 1)], normed = true, label = \"\", \n",
    "    seriestype = :stephist)\n",
    "plot!(xlabel = \"Distance between trajectories\")"
   ]
  },
  {
   "cell_type": "code",
   "execution_count": null,
   "id": "437f3fb3-7cef-4a52-b021-521674f53882",
   "metadata": {},
   "outputs": [],
   "source": [
    "#Plotting the empirical distribution of distance between the momenta of the equilibrium and nonequilibrium processes\n",
    "plot()\n",
    "plot!(title = latexstring(\"Distribution of \\$\\\\left|p_t^\\\\eta - p_t^0\\\\right|\\$\"))\n",
    "plot!([norm([momenta1[i, :] - momenta2[i, :]]) for i in axes(momenta1, 1)], normed = true, label = \"\", \n",
    "    seriestype = :stephist)\n",
    "plot!(xlabel = \"Distance between trajectories\")"
   ]
  },
  {
   "cell_type": "code",
   "execution_count": null,
   "id": "db0c5273-0171-415a-8f0d-ad2ab344fd47",
   "metadata": {},
   "outputs": [],
   "source": []
  }
 ],
 "metadata": {
  "kernelspec": {
   "display_name": "Julia 8 threads 1.11.5",
   "language": "julia",
   "name": "julia-8-threads-1.11"
  },
  "language_info": {
   "file_extension": ".jl",
   "mimetype": "application/julia",
   "name": "julia",
   "version": "1.11.5"
  }
 },
 "nbformat": 4,
 "nbformat_minor": 5
}
